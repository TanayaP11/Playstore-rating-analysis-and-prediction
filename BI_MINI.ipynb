{
  "nbformat": 4,
  "nbformat_minor": 0,
  "metadata": {
    "colab": {
      "name": "BI_MINI.ipynb",
      "provenance": []
    },
    "kernelspec": {
      "name": "python3",
      "display_name": "Python 3"
    },
    "language_info": {
      "name": "python"
    }
  },
  "cells": [
    {
      "cell_type": "code",
      "execution_count": null,
      "metadata": {
        "id": "PifXSpttzblm"
      },
      "outputs": [],
      "source": [
        "import numpy as np \n",
        "import pandas as pd \n",
        "pd.plotting.register_matplotlib_converters()\n",
        "import matplotlib.pyplot as plt\n",
        "%matplotlib inline\n",
        "import seaborn as sns\n",
        "from sklearn.model_selection import train_test_split \n",
        "from sklearn.linear_model import LinearRegression\n",
        "from sklearn import metrics\n",
        "from sklearn import preprocessing"
      ]
    },
    {
      "cell_type": "code",
      "source": [
        "data = pd.read_csv('/content/googleplaystore.csv')\n",
        "data.head()"
      ],
      "metadata": {
        "colab": {
          "base_uri": "https://localhost:8080/",
          "height": 441
        },
        "id": "m1pCv4wezvYA",
        "outputId": "bd081a53-3c3b-4479-f8ac-7ce574c8197d"
      },
      "execution_count": null,
      "outputs": [
        {
          "output_type": "execute_result",
          "data": {
            "text/html": [
              "\n",
              "  <div id=\"df-057f20c8-fe7e-4eb0-a041-5b3e0749c526\">\n",
              "    <div class=\"colab-df-container\">\n",
              "      <div>\n",
              "<style scoped>\n",
              "    .dataframe tbody tr th:only-of-type {\n",
              "        vertical-align: middle;\n",
              "    }\n",
              "\n",
              "    .dataframe tbody tr th {\n",
              "        vertical-align: top;\n",
              "    }\n",
              "\n",
              "    .dataframe thead th {\n",
              "        text-align: right;\n",
              "    }\n",
              "</style>\n",
              "<table border=\"1\" class=\"dataframe\">\n",
              "  <thead>\n",
              "    <tr style=\"text-align: right;\">\n",
              "      <th></th>\n",
              "      <th>Rating</th>\n",
              "      <th>App</th>\n",
              "      <th>Category</th>\n",
              "      <th>Reviews</th>\n",
              "      <th>Size</th>\n",
              "      <th>Installs</th>\n",
              "      <th>Type</th>\n",
              "      <th>Price</th>\n",
              "      <th>Content Rating</th>\n",
              "      <th>Genres</th>\n",
              "      <th>Last Updated</th>\n",
              "      <th>Current Ver</th>\n",
              "      <th>Android Ver</th>\n",
              "    </tr>\n",
              "  </thead>\n",
              "  <tbody>\n",
              "    <tr>\n",
              "      <th>0</th>\n",
              "      <td>4.1</td>\n",
              "      <td>Photo Editor &amp; Candy Camera &amp; Grid &amp; ScrapBook</td>\n",
              "      <td>ART_AND_DESIGN</td>\n",
              "      <td>159</td>\n",
              "      <td>19M</td>\n",
              "      <td>10,000+</td>\n",
              "      <td>Free</td>\n",
              "      <td>0</td>\n",
              "      <td>Everyone</td>\n",
              "      <td>Art &amp; Design</td>\n",
              "      <td>07-Jan-18</td>\n",
              "      <td>1.0.0</td>\n",
              "      <td>4.0.3 and up</td>\n",
              "    </tr>\n",
              "    <tr>\n",
              "      <th>1</th>\n",
              "      <td>3.9</td>\n",
              "      <td>Coloring book moana</td>\n",
              "      <td>ART_AND_DESIGN</td>\n",
              "      <td>967</td>\n",
              "      <td>14M</td>\n",
              "      <td>500,000+</td>\n",
              "      <td>Free</td>\n",
              "      <td>0</td>\n",
              "      <td>Everyone</td>\n",
              "      <td>Art &amp; Design;Pretend Play</td>\n",
              "      <td>15-Jan-18</td>\n",
              "      <td>2.0.0</td>\n",
              "      <td>4.0.3 and up</td>\n",
              "    </tr>\n",
              "    <tr>\n",
              "      <th>2</th>\n",
              "      <td>4.7</td>\n",
              "      <td>U Launcher Lite – FREE Live Cool Themes, Hide ...</td>\n",
              "      <td>ART_AND_DESIGN</td>\n",
              "      <td>87510</td>\n",
              "      <td>8.7M</td>\n",
              "      <td>5,000,000+</td>\n",
              "      <td>Free</td>\n",
              "      <td>0</td>\n",
              "      <td>Everyone</td>\n",
              "      <td>Art &amp; Design</td>\n",
              "      <td>01-Aug-18</td>\n",
              "      <td>1.2.4</td>\n",
              "      <td>4.0.3 and up</td>\n",
              "    </tr>\n",
              "    <tr>\n",
              "      <th>3</th>\n",
              "      <td>4.5</td>\n",
              "      <td>Sketch - Draw &amp; Paint</td>\n",
              "      <td>ART_AND_DESIGN</td>\n",
              "      <td>215644</td>\n",
              "      <td>25M</td>\n",
              "      <td>50,000,000+</td>\n",
              "      <td>Free</td>\n",
              "      <td>0</td>\n",
              "      <td>Teen</td>\n",
              "      <td>Art &amp; Design</td>\n",
              "      <td>08-Jun-18</td>\n",
              "      <td>Varies with device</td>\n",
              "      <td>4.2 and up</td>\n",
              "    </tr>\n",
              "    <tr>\n",
              "      <th>4</th>\n",
              "      <td>4.3</td>\n",
              "      <td>Pixel Draw - Number Art Coloring Book</td>\n",
              "      <td>ART_AND_DESIGN</td>\n",
              "      <td>967</td>\n",
              "      <td>2.8M</td>\n",
              "      <td>100,000+</td>\n",
              "      <td>Free</td>\n",
              "      <td>0</td>\n",
              "      <td>Everyone</td>\n",
              "      <td>Art &amp; Design;Creativity</td>\n",
              "      <td>20-Jun-18</td>\n",
              "      <td>1.1</td>\n",
              "      <td>4.4 and up</td>\n",
              "    </tr>\n",
              "  </tbody>\n",
              "</table>\n",
              "</div>\n",
              "      <button class=\"colab-df-convert\" onclick=\"convertToInteractive('df-057f20c8-fe7e-4eb0-a041-5b3e0749c526')\"\n",
              "              title=\"Convert this dataframe to an interactive table.\"\n",
              "              style=\"display:none;\">\n",
              "        \n",
              "  <svg xmlns=\"http://www.w3.org/2000/svg\" height=\"24px\"viewBox=\"0 0 24 24\"\n",
              "       width=\"24px\">\n",
              "    <path d=\"M0 0h24v24H0V0z\" fill=\"none\"/>\n",
              "    <path d=\"M18.56 5.44l.94 2.06.94-2.06 2.06-.94-2.06-.94-.94-2.06-.94 2.06-2.06.94zm-11 1L8.5 8.5l.94-2.06 2.06-.94-2.06-.94L8.5 2.5l-.94 2.06-2.06.94zm10 10l.94 2.06.94-2.06 2.06-.94-2.06-.94-.94-2.06-.94 2.06-2.06.94z\"/><path d=\"M17.41 7.96l-1.37-1.37c-.4-.4-.92-.59-1.43-.59-.52 0-1.04.2-1.43.59L10.3 9.45l-7.72 7.72c-.78.78-.78 2.05 0 2.83L4 21.41c.39.39.9.59 1.41.59.51 0 1.02-.2 1.41-.59l7.78-7.78 2.81-2.81c.8-.78.8-2.07 0-2.86zM5.41 20L4 18.59l7.72-7.72 1.47 1.35L5.41 20z\"/>\n",
              "  </svg>\n",
              "      </button>\n",
              "      \n",
              "  <style>\n",
              "    .colab-df-container {\n",
              "      display:flex;\n",
              "      flex-wrap:wrap;\n",
              "      gap: 12px;\n",
              "    }\n",
              "\n",
              "    .colab-df-convert {\n",
              "      background-color: #E8F0FE;\n",
              "      border: none;\n",
              "      border-radius: 50%;\n",
              "      cursor: pointer;\n",
              "      display: none;\n",
              "      fill: #1967D2;\n",
              "      height: 32px;\n",
              "      padding: 0 0 0 0;\n",
              "      width: 32px;\n",
              "    }\n",
              "\n",
              "    .colab-df-convert:hover {\n",
              "      background-color: #E2EBFA;\n",
              "      box-shadow: 0px 1px 2px rgba(60, 64, 67, 0.3), 0px 1px 3px 1px rgba(60, 64, 67, 0.15);\n",
              "      fill: #174EA6;\n",
              "    }\n",
              "\n",
              "    [theme=dark] .colab-df-convert {\n",
              "      background-color: #3B4455;\n",
              "      fill: #D2E3FC;\n",
              "    }\n",
              "\n",
              "    [theme=dark] .colab-df-convert:hover {\n",
              "      background-color: #434B5C;\n",
              "      box-shadow: 0px 1px 3px 1px rgba(0, 0, 0, 0.15);\n",
              "      filter: drop-shadow(0px 1px 2px rgba(0, 0, 0, 0.3));\n",
              "      fill: #FFFFFF;\n",
              "    }\n",
              "  </style>\n",
              "\n",
              "      <script>\n",
              "        const buttonEl =\n",
              "          document.querySelector('#df-057f20c8-fe7e-4eb0-a041-5b3e0749c526 button.colab-df-convert');\n",
              "        buttonEl.style.display =\n",
              "          google.colab.kernel.accessAllowed ? 'block' : 'none';\n",
              "\n",
              "        async function convertToInteractive(key) {\n",
              "          const element = document.querySelector('#df-057f20c8-fe7e-4eb0-a041-5b3e0749c526');\n",
              "          const dataTable =\n",
              "            await google.colab.kernel.invokeFunction('convertToInteractive',\n",
              "                                                     [key], {});\n",
              "          if (!dataTable) return;\n",
              "\n",
              "          const docLinkHtml = 'Like what you see? Visit the ' +\n",
              "            '<a target=\"_blank\" href=https://colab.research.google.com/notebooks/data_table.ipynb>data table notebook</a>'\n",
              "            + ' to learn more about interactive tables.';\n",
              "          element.innerHTML = '';\n",
              "          dataTable['output_type'] = 'display_data';\n",
              "          await google.colab.output.renderOutput(dataTable, element);\n",
              "          const docLink = document.createElement('div');\n",
              "          docLink.innerHTML = docLinkHtml;\n",
              "          element.appendChild(docLink);\n",
              "        }\n",
              "      </script>\n",
              "    </div>\n",
              "  </div>\n",
              "  "
            ],
            "text/plain": [
              "   Rating  ...   Android Ver\n",
              "0     4.1  ...  4.0.3 and up\n",
              "1     3.9  ...  4.0.3 and up\n",
              "2     4.7  ...  4.0.3 and up\n",
              "3     4.5  ...    4.2 and up\n",
              "4     4.3  ...    4.4 and up\n",
              "\n",
              "[5 rows x 13 columns]"
            ]
          },
          "metadata": {},
          "execution_count": 2
        }
      ]
    },
    {
      "cell_type": "code",
      "source": [
        "\n",
        "data.isnull().sum()"
      ],
      "metadata": {
        "colab": {
          "base_uri": "https://localhost:8080/"
        },
        "id": "L4kaYvOtz55O",
        "outputId": "0f8094e0-5794-410b-8338-b7b09ae9df47"
      },
      "execution_count": null,
      "outputs": [
        {
          "output_type": "execute_result",
          "data": {
            "text/plain": [
              "Rating            1474\n",
              "App                  0\n",
              "Category             0\n",
              "Reviews              0\n",
              "Size                 0\n",
              "Installs             0\n",
              "Type                 1\n",
              "Price                0\n",
              "Content Rating       0\n",
              "Genres               0\n",
              "Last Updated         0\n",
              "Current Ver          8\n",
              "Android Ver          2\n",
              "dtype: int64"
            ]
          },
          "metadata": {},
          "execution_count": 3
        }
      ]
    },
    {
      "cell_type": "code",
      "source": [
        "data.dropna(inplace=True)"
      ],
      "metadata": {
        "id": "K3nMuxHiz9QX"
      },
      "execution_count": null,
      "outputs": []
    },
    {
      "cell_type": "code",
      "source": [
        "data.dtypes"
      ],
      "metadata": {
        "colab": {
          "base_uri": "https://localhost:8080/"
        },
        "id": "XcTk9URe0ADC",
        "outputId": "165ced8b-4101-45fd-d1e7-c28ae92b98c9"
      },
      "execution_count": null,
      "outputs": [
        {
          "output_type": "execute_result",
          "data": {
            "text/plain": [
              "Rating            float64\n",
              "App                object\n",
              "Category           object\n",
              "Reviews             int64\n",
              "Size               object\n",
              "Installs           object\n",
              "Type               object\n",
              "Price              object\n",
              "Content Rating     object\n",
              "Genres             object\n",
              "Last Updated       object\n",
              "Current Ver        object\n",
              "Android Ver        object\n",
              "dtype: object"
            ]
          },
          "metadata": {},
          "execution_count": 5
        }
      ]
    },
    {
      "cell_type": "code",
      "source": [
        "\n",
        "indexNames = data[ data['Size'] == 'Varies with device' ].index\n",
        "data.drop(indexNames , inplace=True)\n",
        "data.head()"
      ],
      "metadata": {
        "colab": {
          "base_uri": "https://localhost:8080/",
          "height": 441
        },
        "id": "cPTSupb-0Cmn",
        "outputId": "c1ab4f46-fc41-4f02-e209-4dd0f2f1c4b9"
      },
      "execution_count": null,
      "outputs": [
        {
          "output_type": "execute_result",
          "data": {
            "text/html": [
              "\n",
              "  <div id=\"df-2639c31a-4434-4cc3-a771-85c2d535c2a0\">\n",
              "    <div class=\"colab-df-container\">\n",
              "      <div>\n",
              "<style scoped>\n",
              "    .dataframe tbody tr th:only-of-type {\n",
              "        vertical-align: middle;\n",
              "    }\n",
              "\n",
              "    .dataframe tbody tr th {\n",
              "        vertical-align: top;\n",
              "    }\n",
              "\n",
              "    .dataframe thead th {\n",
              "        text-align: right;\n",
              "    }\n",
              "</style>\n",
              "<table border=\"1\" class=\"dataframe\">\n",
              "  <thead>\n",
              "    <tr style=\"text-align: right;\">\n",
              "      <th></th>\n",
              "      <th>Rating</th>\n",
              "      <th>App</th>\n",
              "      <th>Category</th>\n",
              "      <th>Reviews</th>\n",
              "      <th>Size</th>\n",
              "      <th>Installs</th>\n",
              "      <th>Type</th>\n",
              "      <th>Price</th>\n",
              "      <th>Content Rating</th>\n",
              "      <th>Genres</th>\n",
              "      <th>Last Updated</th>\n",
              "      <th>Current Ver</th>\n",
              "      <th>Android Ver</th>\n",
              "    </tr>\n",
              "  </thead>\n",
              "  <tbody>\n",
              "    <tr>\n",
              "      <th>0</th>\n",
              "      <td>4.1</td>\n",
              "      <td>Photo Editor &amp; Candy Camera &amp; Grid &amp; ScrapBook</td>\n",
              "      <td>ART_AND_DESIGN</td>\n",
              "      <td>159</td>\n",
              "      <td>19M</td>\n",
              "      <td>10,000+</td>\n",
              "      <td>Free</td>\n",
              "      <td>0</td>\n",
              "      <td>Everyone</td>\n",
              "      <td>Art &amp; Design</td>\n",
              "      <td>07-Jan-18</td>\n",
              "      <td>1.0.0</td>\n",
              "      <td>4.0.3 and up</td>\n",
              "    </tr>\n",
              "    <tr>\n",
              "      <th>1</th>\n",
              "      <td>3.9</td>\n",
              "      <td>Coloring book moana</td>\n",
              "      <td>ART_AND_DESIGN</td>\n",
              "      <td>967</td>\n",
              "      <td>14M</td>\n",
              "      <td>500,000+</td>\n",
              "      <td>Free</td>\n",
              "      <td>0</td>\n",
              "      <td>Everyone</td>\n",
              "      <td>Art &amp; Design;Pretend Play</td>\n",
              "      <td>15-Jan-18</td>\n",
              "      <td>2.0.0</td>\n",
              "      <td>4.0.3 and up</td>\n",
              "    </tr>\n",
              "    <tr>\n",
              "      <th>2</th>\n",
              "      <td>4.7</td>\n",
              "      <td>U Launcher Lite – FREE Live Cool Themes, Hide ...</td>\n",
              "      <td>ART_AND_DESIGN</td>\n",
              "      <td>87510</td>\n",
              "      <td>8.7M</td>\n",
              "      <td>5,000,000+</td>\n",
              "      <td>Free</td>\n",
              "      <td>0</td>\n",
              "      <td>Everyone</td>\n",
              "      <td>Art &amp; Design</td>\n",
              "      <td>01-Aug-18</td>\n",
              "      <td>1.2.4</td>\n",
              "      <td>4.0.3 and up</td>\n",
              "    </tr>\n",
              "    <tr>\n",
              "      <th>3</th>\n",
              "      <td>4.5</td>\n",
              "      <td>Sketch - Draw &amp; Paint</td>\n",
              "      <td>ART_AND_DESIGN</td>\n",
              "      <td>215644</td>\n",
              "      <td>25M</td>\n",
              "      <td>50,000,000+</td>\n",
              "      <td>Free</td>\n",
              "      <td>0</td>\n",
              "      <td>Teen</td>\n",
              "      <td>Art &amp; Design</td>\n",
              "      <td>08-Jun-18</td>\n",
              "      <td>Varies with device</td>\n",
              "      <td>4.2 and up</td>\n",
              "    </tr>\n",
              "    <tr>\n",
              "      <th>4</th>\n",
              "      <td>4.3</td>\n",
              "      <td>Pixel Draw - Number Art Coloring Book</td>\n",
              "      <td>ART_AND_DESIGN</td>\n",
              "      <td>967</td>\n",
              "      <td>2.8M</td>\n",
              "      <td>100,000+</td>\n",
              "      <td>Free</td>\n",
              "      <td>0</td>\n",
              "      <td>Everyone</td>\n",
              "      <td>Art &amp; Design;Creativity</td>\n",
              "      <td>20-Jun-18</td>\n",
              "      <td>1.1</td>\n",
              "      <td>4.4 and up</td>\n",
              "    </tr>\n",
              "  </tbody>\n",
              "</table>\n",
              "</div>\n",
              "      <button class=\"colab-df-convert\" onclick=\"convertToInteractive('df-2639c31a-4434-4cc3-a771-85c2d535c2a0')\"\n",
              "              title=\"Convert this dataframe to an interactive table.\"\n",
              "              style=\"display:none;\">\n",
              "        \n",
              "  <svg xmlns=\"http://www.w3.org/2000/svg\" height=\"24px\"viewBox=\"0 0 24 24\"\n",
              "       width=\"24px\">\n",
              "    <path d=\"M0 0h24v24H0V0z\" fill=\"none\"/>\n",
              "    <path d=\"M18.56 5.44l.94 2.06.94-2.06 2.06-.94-2.06-.94-.94-2.06-.94 2.06-2.06.94zm-11 1L8.5 8.5l.94-2.06 2.06-.94-2.06-.94L8.5 2.5l-.94 2.06-2.06.94zm10 10l.94 2.06.94-2.06 2.06-.94-2.06-.94-.94-2.06-.94 2.06-2.06.94z\"/><path d=\"M17.41 7.96l-1.37-1.37c-.4-.4-.92-.59-1.43-.59-.52 0-1.04.2-1.43.59L10.3 9.45l-7.72 7.72c-.78.78-.78 2.05 0 2.83L4 21.41c.39.39.9.59 1.41.59.51 0 1.02-.2 1.41-.59l7.78-7.78 2.81-2.81c.8-.78.8-2.07 0-2.86zM5.41 20L4 18.59l7.72-7.72 1.47 1.35L5.41 20z\"/>\n",
              "  </svg>\n",
              "      </button>\n",
              "      \n",
              "  <style>\n",
              "    .colab-df-container {\n",
              "      display:flex;\n",
              "      flex-wrap:wrap;\n",
              "      gap: 12px;\n",
              "    }\n",
              "\n",
              "    .colab-df-convert {\n",
              "      background-color: #E8F0FE;\n",
              "      border: none;\n",
              "      border-radius: 50%;\n",
              "      cursor: pointer;\n",
              "      display: none;\n",
              "      fill: #1967D2;\n",
              "      height: 32px;\n",
              "      padding: 0 0 0 0;\n",
              "      width: 32px;\n",
              "    }\n",
              "\n",
              "    .colab-df-convert:hover {\n",
              "      background-color: #E2EBFA;\n",
              "      box-shadow: 0px 1px 2px rgba(60, 64, 67, 0.3), 0px 1px 3px 1px rgba(60, 64, 67, 0.15);\n",
              "      fill: #174EA6;\n",
              "    }\n",
              "\n",
              "    [theme=dark] .colab-df-convert {\n",
              "      background-color: #3B4455;\n",
              "      fill: #D2E3FC;\n",
              "    }\n",
              "\n",
              "    [theme=dark] .colab-df-convert:hover {\n",
              "      background-color: #434B5C;\n",
              "      box-shadow: 0px 1px 3px 1px rgba(0, 0, 0, 0.15);\n",
              "      filter: drop-shadow(0px 1px 2px rgba(0, 0, 0, 0.3));\n",
              "      fill: #FFFFFF;\n",
              "    }\n",
              "  </style>\n",
              "\n",
              "      <script>\n",
              "        const buttonEl =\n",
              "          document.querySelector('#df-2639c31a-4434-4cc3-a771-85c2d535c2a0 button.colab-df-convert');\n",
              "        buttonEl.style.display =\n",
              "          google.colab.kernel.accessAllowed ? 'block' : 'none';\n",
              "\n",
              "        async function convertToInteractive(key) {\n",
              "          const element = document.querySelector('#df-2639c31a-4434-4cc3-a771-85c2d535c2a0');\n",
              "          const dataTable =\n",
              "            await google.colab.kernel.invokeFunction('convertToInteractive',\n",
              "                                                     [key], {});\n",
              "          if (!dataTable) return;\n",
              "\n",
              "          const docLinkHtml = 'Like what you see? Visit the ' +\n",
              "            '<a target=\"_blank\" href=https://colab.research.google.com/notebooks/data_table.ipynb>data table notebook</a>'\n",
              "            + ' to learn more about interactive tables.';\n",
              "          element.innerHTML = '';\n",
              "          dataTable['output_type'] = 'display_data';\n",
              "          await google.colab.output.renderOutput(dataTable, element);\n",
              "          const docLink = document.createElement('div');\n",
              "          docLink.innerHTML = docLinkHtml;\n",
              "          element.appendChild(docLink);\n",
              "        }\n",
              "      </script>\n",
              "    </div>\n",
              "  </div>\n",
              "  "
            ],
            "text/plain": [
              "   Rating  ...   Android Ver\n",
              "0     4.1  ...  4.0.3 and up\n",
              "1     3.9  ...  4.0.3 and up\n",
              "2     4.7  ...  4.0.3 and up\n",
              "3     4.5  ...    4.2 and up\n",
              "4     4.3  ...    4.4 and up\n",
              "\n",
              "[5 rows x 13 columns]"
            ]
          },
          "metadata": {},
          "execution_count": 6
        }
      ]
    },
    {
      "cell_type": "code",
      "source": [
        "data['Size']=data['Size'].str[:-1]\n",
        "data['Size'] = data['Size'].astype(float)\n",
        "data.head()"
      ],
      "metadata": {
        "colab": {
          "base_uri": "https://localhost:8080/",
          "height": 441
        },
        "id": "FRB4GqLQ0H0H",
        "outputId": "d07372ca-8663-4d58-cfbc-12e9c98d7742"
      },
      "execution_count": null,
      "outputs": [
        {
          "output_type": "execute_result",
          "data": {
            "text/html": [
              "\n",
              "  <div id=\"df-216301b7-7bbf-4746-9a83-422dfb8e9e3e\">\n",
              "    <div class=\"colab-df-container\">\n",
              "      <div>\n",
              "<style scoped>\n",
              "    .dataframe tbody tr th:only-of-type {\n",
              "        vertical-align: middle;\n",
              "    }\n",
              "\n",
              "    .dataframe tbody tr th {\n",
              "        vertical-align: top;\n",
              "    }\n",
              "\n",
              "    .dataframe thead th {\n",
              "        text-align: right;\n",
              "    }\n",
              "</style>\n",
              "<table border=\"1\" class=\"dataframe\">\n",
              "  <thead>\n",
              "    <tr style=\"text-align: right;\">\n",
              "      <th></th>\n",
              "      <th>Rating</th>\n",
              "      <th>App</th>\n",
              "      <th>Category</th>\n",
              "      <th>Reviews</th>\n",
              "      <th>Size</th>\n",
              "      <th>Installs</th>\n",
              "      <th>Type</th>\n",
              "      <th>Price</th>\n",
              "      <th>Content Rating</th>\n",
              "      <th>Genres</th>\n",
              "      <th>Last Updated</th>\n",
              "      <th>Current Ver</th>\n",
              "      <th>Android Ver</th>\n",
              "    </tr>\n",
              "  </thead>\n",
              "  <tbody>\n",
              "    <tr>\n",
              "      <th>0</th>\n",
              "      <td>4.1</td>\n",
              "      <td>Photo Editor &amp; Candy Camera &amp; Grid &amp; ScrapBook</td>\n",
              "      <td>ART_AND_DESIGN</td>\n",
              "      <td>159</td>\n",
              "      <td>19.0</td>\n",
              "      <td>10,000+</td>\n",
              "      <td>Free</td>\n",
              "      <td>0</td>\n",
              "      <td>Everyone</td>\n",
              "      <td>Art &amp; Design</td>\n",
              "      <td>07-Jan-18</td>\n",
              "      <td>1.0.0</td>\n",
              "      <td>4.0.3 and up</td>\n",
              "    </tr>\n",
              "    <tr>\n",
              "      <th>1</th>\n",
              "      <td>3.9</td>\n",
              "      <td>Coloring book moana</td>\n",
              "      <td>ART_AND_DESIGN</td>\n",
              "      <td>967</td>\n",
              "      <td>14.0</td>\n",
              "      <td>500,000+</td>\n",
              "      <td>Free</td>\n",
              "      <td>0</td>\n",
              "      <td>Everyone</td>\n",
              "      <td>Art &amp; Design;Pretend Play</td>\n",
              "      <td>15-Jan-18</td>\n",
              "      <td>2.0.0</td>\n",
              "      <td>4.0.3 and up</td>\n",
              "    </tr>\n",
              "    <tr>\n",
              "      <th>2</th>\n",
              "      <td>4.7</td>\n",
              "      <td>U Launcher Lite – FREE Live Cool Themes, Hide ...</td>\n",
              "      <td>ART_AND_DESIGN</td>\n",
              "      <td>87510</td>\n",
              "      <td>8.7</td>\n",
              "      <td>5,000,000+</td>\n",
              "      <td>Free</td>\n",
              "      <td>0</td>\n",
              "      <td>Everyone</td>\n",
              "      <td>Art &amp; Design</td>\n",
              "      <td>01-Aug-18</td>\n",
              "      <td>1.2.4</td>\n",
              "      <td>4.0.3 and up</td>\n",
              "    </tr>\n",
              "    <tr>\n",
              "      <th>3</th>\n",
              "      <td>4.5</td>\n",
              "      <td>Sketch - Draw &amp; Paint</td>\n",
              "      <td>ART_AND_DESIGN</td>\n",
              "      <td>215644</td>\n",
              "      <td>25.0</td>\n",
              "      <td>50,000,000+</td>\n",
              "      <td>Free</td>\n",
              "      <td>0</td>\n",
              "      <td>Teen</td>\n",
              "      <td>Art &amp; Design</td>\n",
              "      <td>08-Jun-18</td>\n",
              "      <td>Varies with device</td>\n",
              "      <td>4.2 and up</td>\n",
              "    </tr>\n",
              "    <tr>\n",
              "      <th>4</th>\n",
              "      <td>4.3</td>\n",
              "      <td>Pixel Draw - Number Art Coloring Book</td>\n",
              "      <td>ART_AND_DESIGN</td>\n",
              "      <td>967</td>\n",
              "      <td>2.8</td>\n",
              "      <td>100,000+</td>\n",
              "      <td>Free</td>\n",
              "      <td>0</td>\n",
              "      <td>Everyone</td>\n",
              "      <td>Art &amp; Design;Creativity</td>\n",
              "      <td>20-Jun-18</td>\n",
              "      <td>1.1</td>\n",
              "      <td>4.4 and up</td>\n",
              "    </tr>\n",
              "  </tbody>\n",
              "</table>\n",
              "</div>\n",
              "      <button class=\"colab-df-convert\" onclick=\"convertToInteractive('df-216301b7-7bbf-4746-9a83-422dfb8e9e3e')\"\n",
              "              title=\"Convert this dataframe to an interactive table.\"\n",
              "              style=\"display:none;\">\n",
              "        \n",
              "  <svg xmlns=\"http://www.w3.org/2000/svg\" height=\"24px\"viewBox=\"0 0 24 24\"\n",
              "       width=\"24px\">\n",
              "    <path d=\"M0 0h24v24H0V0z\" fill=\"none\"/>\n",
              "    <path d=\"M18.56 5.44l.94 2.06.94-2.06 2.06-.94-2.06-.94-.94-2.06-.94 2.06-2.06.94zm-11 1L8.5 8.5l.94-2.06 2.06-.94-2.06-.94L8.5 2.5l-.94 2.06-2.06.94zm10 10l.94 2.06.94-2.06 2.06-.94-2.06-.94-.94-2.06-.94 2.06-2.06.94z\"/><path d=\"M17.41 7.96l-1.37-1.37c-.4-.4-.92-.59-1.43-.59-.52 0-1.04.2-1.43.59L10.3 9.45l-7.72 7.72c-.78.78-.78 2.05 0 2.83L4 21.41c.39.39.9.59 1.41.59.51 0 1.02-.2 1.41-.59l7.78-7.78 2.81-2.81c.8-.78.8-2.07 0-2.86zM5.41 20L4 18.59l7.72-7.72 1.47 1.35L5.41 20z\"/>\n",
              "  </svg>\n",
              "      </button>\n",
              "      \n",
              "  <style>\n",
              "    .colab-df-container {\n",
              "      display:flex;\n",
              "      flex-wrap:wrap;\n",
              "      gap: 12px;\n",
              "    }\n",
              "\n",
              "    .colab-df-convert {\n",
              "      background-color: #E8F0FE;\n",
              "      border: none;\n",
              "      border-radius: 50%;\n",
              "      cursor: pointer;\n",
              "      display: none;\n",
              "      fill: #1967D2;\n",
              "      height: 32px;\n",
              "      padding: 0 0 0 0;\n",
              "      width: 32px;\n",
              "    }\n",
              "\n",
              "    .colab-df-convert:hover {\n",
              "      background-color: #E2EBFA;\n",
              "      box-shadow: 0px 1px 2px rgba(60, 64, 67, 0.3), 0px 1px 3px 1px rgba(60, 64, 67, 0.15);\n",
              "      fill: #174EA6;\n",
              "    }\n",
              "\n",
              "    [theme=dark] .colab-df-convert {\n",
              "      background-color: #3B4455;\n",
              "      fill: #D2E3FC;\n",
              "    }\n",
              "\n",
              "    [theme=dark] .colab-df-convert:hover {\n",
              "      background-color: #434B5C;\n",
              "      box-shadow: 0px 1px 3px 1px rgba(0, 0, 0, 0.15);\n",
              "      filter: drop-shadow(0px 1px 2px rgba(0, 0, 0, 0.3));\n",
              "      fill: #FFFFFF;\n",
              "    }\n",
              "  </style>\n",
              "\n",
              "      <script>\n",
              "        const buttonEl =\n",
              "          document.querySelector('#df-216301b7-7bbf-4746-9a83-422dfb8e9e3e button.colab-df-convert');\n",
              "        buttonEl.style.display =\n",
              "          google.colab.kernel.accessAllowed ? 'block' : 'none';\n",
              "\n",
              "        async function convertToInteractive(key) {\n",
              "          const element = document.querySelector('#df-216301b7-7bbf-4746-9a83-422dfb8e9e3e');\n",
              "          const dataTable =\n",
              "            await google.colab.kernel.invokeFunction('convertToInteractive',\n",
              "                                                     [key], {});\n",
              "          if (!dataTable) return;\n",
              "\n",
              "          const docLinkHtml = 'Like what you see? Visit the ' +\n",
              "            '<a target=\"_blank\" href=https://colab.research.google.com/notebooks/data_table.ipynb>data table notebook</a>'\n",
              "            + ' to learn more about interactive tables.';\n",
              "          element.innerHTML = '';\n",
              "          dataTable['output_type'] = 'display_data';\n",
              "          await google.colab.output.renderOutput(dataTable, element);\n",
              "          const docLink = document.createElement('div');\n",
              "          docLink.innerHTML = docLinkHtml;\n",
              "          element.appendChild(docLink);\n",
              "        }\n",
              "      </script>\n",
              "    </div>\n",
              "  </div>\n",
              "  "
            ],
            "text/plain": [
              "   Rating  ...   Android Ver\n",
              "0     4.1  ...  4.0.3 and up\n",
              "1     3.9  ...  4.0.3 and up\n",
              "2     4.7  ...  4.0.3 and up\n",
              "3     4.5  ...    4.2 and up\n",
              "4     4.3  ...    4.4 and up\n",
              "\n",
              "[5 rows x 13 columns]"
            ]
          },
          "metadata": {},
          "execution_count": 7
        }
      ]
    },
    {
      "cell_type": "code",
      "source": [
        "\n",
        "data['Installs'] = data['Installs'].replace({',': ''}, regex=True)\n",
        "data['Installs']=data['Installs'].str[:-1]\n",
        "\n",
        "\n",
        "data['Installs']= pd.to_numeric(data['Installs'])\n",
        "\n",
        "data.head()"
      ],
      "metadata": {
        "colab": {
          "base_uri": "https://localhost:8080/",
          "height": 406
        },
        "id": "gvhkIIlH0OlI",
        "outputId": "3e44c5e3-0b6d-4893-f8ef-d6798252a62c"
      },
      "execution_count": null,
      "outputs": [
        {
          "output_type": "execute_result",
          "data": {
            "text/html": [
              "\n",
              "  <div id=\"df-8d6b3f0a-1196-4781-9deb-35cdc5a3ce44\">\n",
              "    <div class=\"colab-df-container\">\n",
              "      <div>\n",
              "<style scoped>\n",
              "    .dataframe tbody tr th:only-of-type {\n",
              "        vertical-align: middle;\n",
              "    }\n",
              "\n",
              "    .dataframe tbody tr th {\n",
              "        vertical-align: top;\n",
              "    }\n",
              "\n",
              "    .dataframe thead th {\n",
              "        text-align: right;\n",
              "    }\n",
              "</style>\n",
              "<table border=\"1\" class=\"dataframe\">\n",
              "  <thead>\n",
              "    <tr style=\"text-align: right;\">\n",
              "      <th></th>\n",
              "      <th>Rating</th>\n",
              "      <th>App</th>\n",
              "      <th>Category</th>\n",
              "      <th>Reviews</th>\n",
              "      <th>Size</th>\n",
              "      <th>Installs</th>\n",
              "      <th>Type</th>\n",
              "      <th>Price</th>\n",
              "      <th>Content Rating</th>\n",
              "      <th>Genres</th>\n",
              "      <th>Last Updated</th>\n",
              "      <th>Current Ver</th>\n",
              "      <th>Android Ver</th>\n",
              "    </tr>\n",
              "  </thead>\n",
              "  <tbody>\n",
              "    <tr>\n",
              "      <th>0</th>\n",
              "      <td>4.1</td>\n",
              "      <td>Photo Editor &amp; Candy Camera &amp; Grid &amp; ScrapBook</td>\n",
              "      <td>ART_AND_DESIGN</td>\n",
              "      <td>159</td>\n",
              "      <td>19.0</td>\n",
              "      <td>10000</td>\n",
              "      <td>Free</td>\n",
              "      <td>0</td>\n",
              "      <td>Everyone</td>\n",
              "      <td>Art &amp; Design</td>\n",
              "      <td>07-Jan-18</td>\n",
              "      <td>1.0.0</td>\n",
              "      <td>4.0.3 and up</td>\n",
              "    </tr>\n",
              "    <tr>\n",
              "      <th>1</th>\n",
              "      <td>3.9</td>\n",
              "      <td>Coloring book moana</td>\n",
              "      <td>ART_AND_DESIGN</td>\n",
              "      <td>967</td>\n",
              "      <td>14.0</td>\n",
              "      <td>500000</td>\n",
              "      <td>Free</td>\n",
              "      <td>0</td>\n",
              "      <td>Everyone</td>\n",
              "      <td>Art &amp; Design;Pretend Play</td>\n",
              "      <td>15-Jan-18</td>\n",
              "      <td>2.0.0</td>\n",
              "      <td>4.0.3 and up</td>\n",
              "    </tr>\n",
              "    <tr>\n",
              "      <th>2</th>\n",
              "      <td>4.7</td>\n",
              "      <td>U Launcher Lite – FREE Live Cool Themes, Hide ...</td>\n",
              "      <td>ART_AND_DESIGN</td>\n",
              "      <td>87510</td>\n",
              "      <td>8.7</td>\n",
              "      <td>5000000</td>\n",
              "      <td>Free</td>\n",
              "      <td>0</td>\n",
              "      <td>Everyone</td>\n",
              "      <td>Art &amp; Design</td>\n",
              "      <td>01-Aug-18</td>\n",
              "      <td>1.2.4</td>\n",
              "      <td>4.0.3 and up</td>\n",
              "    </tr>\n",
              "    <tr>\n",
              "      <th>3</th>\n",
              "      <td>4.5</td>\n",
              "      <td>Sketch - Draw &amp; Paint</td>\n",
              "      <td>ART_AND_DESIGN</td>\n",
              "      <td>215644</td>\n",
              "      <td>25.0</td>\n",
              "      <td>50000000</td>\n",
              "      <td>Free</td>\n",
              "      <td>0</td>\n",
              "      <td>Teen</td>\n",
              "      <td>Art &amp; Design</td>\n",
              "      <td>08-Jun-18</td>\n",
              "      <td>Varies with device</td>\n",
              "      <td>4.2 and up</td>\n",
              "    </tr>\n",
              "    <tr>\n",
              "      <th>4</th>\n",
              "      <td>4.3</td>\n",
              "      <td>Pixel Draw - Number Art Coloring Book</td>\n",
              "      <td>ART_AND_DESIGN</td>\n",
              "      <td>967</td>\n",
              "      <td>2.8</td>\n",
              "      <td>100000</td>\n",
              "      <td>Free</td>\n",
              "      <td>0</td>\n",
              "      <td>Everyone</td>\n",
              "      <td>Art &amp; Design;Creativity</td>\n",
              "      <td>20-Jun-18</td>\n",
              "      <td>1.1</td>\n",
              "      <td>4.4 and up</td>\n",
              "    </tr>\n",
              "  </tbody>\n",
              "</table>\n",
              "</div>\n",
              "      <button class=\"colab-df-convert\" onclick=\"convertToInteractive('df-8d6b3f0a-1196-4781-9deb-35cdc5a3ce44')\"\n",
              "              title=\"Convert this dataframe to an interactive table.\"\n",
              "              style=\"display:none;\">\n",
              "        \n",
              "  <svg xmlns=\"http://www.w3.org/2000/svg\" height=\"24px\"viewBox=\"0 0 24 24\"\n",
              "       width=\"24px\">\n",
              "    <path d=\"M0 0h24v24H0V0z\" fill=\"none\"/>\n",
              "    <path d=\"M18.56 5.44l.94 2.06.94-2.06 2.06-.94-2.06-.94-.94-2.06-.94 2.06-2.06.94zm-11 1L8.5 8.5l.94-2.06 2.06-.94-2.06-.94L8.5 2.5l-.94 2.06-2.06.94zm10 10l.94 2.06.94-2.06 2.06-.94-2.06-.94-.94-2.06-.94 2.06-2.06.94z\"/><path d=\"M17.41 7.96l-1.37-1.37c-.4-.4-.92-.59-1.43-.59-.52 0-1.04.2-1.43.59L10.3 9.45l-7.72 7.72c-.78.78-.78 2.05 0 2.83L4 21.41c.39.39.9.59 1.41.59.51 0 1.02-.2 1.41-.59l7.78-7.78 2.81-2.81c.8-.78.8-2.07 0-2.86zM5.41 20L4 18.59l7.72-7.72 1.47 1.35L5.41 20z\"/>\n",
              "  </svg>\n",
              "      </button>\n",
              "      \n",
              "  <style>\n",
              "    .colab-df-container {\n",
              "      display:flex;\n",
              "      flex-wrap:wrap;\n",
              "      gap: 12px;\n",
              "    }\n",
              "\n",
              "    .colab-df-convert {\n",
              "      background-color: #E8F0FE;\n",
              "      border: none;\n",
              "      border-radius: 50%;\n",
              "      cursor: pointer;\n",
              "      display: none;\n",
              "      fill: #1967D2;\n",
              "      height: 32px;\n",
              "      padding: 0 0 0 0;\n",
              "      width: 32px;\n",
              "    }\n",
              "\n",
              "    .colab-df-convert:hover {\n",
              "      background-color: #E2EBFA;\n",
              "      box-shadow: 0px 1px 2px rgba(60, 64, 67, 0.3), 0px 1px 3px 1px rgba(60, 64, 67, 0.15);\n",
              "      fill: #174EA6;\n",
              "    }\n",
              "\n",
              "    [theme=dark] .colab-df-convert {\n",
              "      background-color: #3B4455;\n",
              "      fill: #D2E3FC;\n",
              "    }\n",
              "\n",
              "    [theme=dark] .colab-df-convert:hover {\n",
              "      background-color: #434B5C;\n",
              "      box-shadow: 0px 1px 3px 1px rgba(0, 0, 0, 0.15);\n",
              "      filter: drop-shadow(0px 1px 2px rgba(0, 0, 0, 0.3));\n",
              "      fill: #FFFFFF;\n",
              "    }\n",
              "  </style>\n",
              "\n",
              "      <script>\n",
              "        const buttonEl =\n",
              "          document.querySelector('#df-8d6b3f0a-1196-4781-9deb-35cdc5a3ce44 button.colab-df-convert');\n",
              "        buttonEl.style.display =\n",
              "          google.colab.kernel.accessAllowed ? 'block' : 'none';\n",
              "\n",
              "        async function convertToInteractive(key) {\n",
              "          const element = document.querySelector('#df-8d6b3f0a-1196-4781-9deb-35cdc5a3ce44');\n",
              "          const dataTable =\n",
              "            await google.colab.kernel.invokeFunction('convertToInteractive',\n",
              "                                                     [key], {});\n",
              "          if (!dataTable) return;\n",
              "\n",
              "          const docLinkHtml = 'Like what you see? Visit the ' +\n",
              "            '<a target=\"_blank\" href=https://colab.research.google.com/notebooks/data_table.ipynb>data table notebook</a>'\n",
              "            + ' to learn more about interactive tables.';\n",
              "          element.innerHTML = '';\n",
              "          dataTable['output_type'] = 'display_data';\n",
              "          await google.colab.output.renderOutput(dataTable, element);\n",
              "          const docLink = document.createElement('div');\n",
              "          docLink.innerHTML = docLinkHtml;\n",
              "          element.appendChild(docLink);\n",
              "        }\n",
              "      </script>\n",
              "    </div>\n",
              "  </div>\n",
              "  "
            ],
            "text/plain": [
              "   Rating  ...   Android Ver\n",
              "0     4.1  ...  4.0.3 and up\n",
              "1     3.9  ...  4.0.3 and up\n",
              "2     4.7  ...  4.0.3 and up\n",
              "3     4.5  ...    4.2 and up\n",
              "4     4.3  ...    4.4 and up\n",
              "\n",
              "[5 rows x 13 columns]"
            ]
          },
          "metadata": {},
          "execution_count": 8
        }
      ]
    },
    {
      "cell_type": "code",
      "source": [
        "data['Reviews']= pd.to_numeric(data['Reviews'])\n",
        "\n",
        "data.head()"
      ],
      "metadata": {
        "colab": {
          "base_uri": "https://localhost:8080/",
          "height": 406
        },
        "id": "p-EFxtlT0WM3",
        "outputId": "2b1df435-5ed0-4aa5-a903-1ff909ef8716"
      },
      "execution_count": null,
      "outputs": [
        {
          "output_type": "execute_result",
          "data": {
            "text/html": [
              "\n",
              "  <div id=\"df-0f195518-8611-45c1-bd38-015ed1e7c3d8\">\n",
              "    <div class=\"colab-df-container\">\n",
              "      <div>\n",
              "<style scoped>\n",
              "    .dataframe tbody tr th:only-of-type {\n",
              "        vertical-align: middle;\n",
              "    }\n",
              "\n",
              "    .dataframe tbody tr th {\n",
              "        vertical-align: top;\n",
              "    }\n",
              "\n",
              "    .dataframe thead th {\n",
              "        text-align: right;\n",
              "    }\n",
              "</style>\n",
              "<table border=\"1\" class=\"dataframe\">\n",
              "  <thead>\n",
              "    <tr style=\"text-align: right;\">\n",
              "      <th></th>\n",
              "      <th>Rating</th>\n",
              "      <th>App</th>\n",
              "      <th>Category</th>\n",
              "      <th>Reviews</th>\n",
              "      <th>Size</th>\n",
              "      <th>Installs</th>\n",
              "      <th>Type</th>\n",
              "      <th>Price</th>\n",
              "      <th>Content Rating</th>\n",
              "      <th>Genres</th>\n",
              "      <th>Last Updated</th>\n",
              "      <th>Current Ver</th>\n",
              "      <th>Android Ver</th>\n",
              "    </tr>\n",
              "  </thead>\n",
              "  <tbody>\n",
              "    <tr>\n",
              "      <th>0</th>\n",
              "      <td>4.1</td>\n",
              "      <td>Photo Editor &amp; Candy Camera &amp; Grid &amp; ScrapBook</td>\n",
              "      <td>ART_AND_DESIGN</td>\n",
              "      <td>159</td>\n",
              "      <td>19.0</td>\n",
              "      <td>10000</td>\n",
              "      <td>Free</td>\n",
              "      <td>0</td>\n",
              "      <td>Everyone</td>\n",
              "      <td>Art &amp; Design</td>\n",
              "      <td>07-Jan-18</td>\n",
              "      <td>1.0.0</td>\n",
              "      <td>4.0.3 and up</td>\n",
              "    </tr>\n",
              "    <tr>\n",
              "      <th>1</th>\n",
              "      <td>3.9</td>\n",
              "      <td>Coloring book moana</td>\n",
              "      <td>ART_AND_DESIGN</td>\n",
              "      <td>967</td>\n",
              "      <td>14.0</td>\n",
              "      <td>500000</td>\n",
              "      <td>Free</td>\n",
              "      <td>0</td>\n",
              "      <td>Everyone</td>\n",
              "      <td>Art &amp; Design;Pretend Play</td>\n",
              "      <td>15-Jan-18</td>\n",
              "      <td>2.0.0</td>\n",
              "      <td>4.0.3 and up</td>\n",
              "    </tr>\n",
              "    <tr>\n",
              "      <th>2</th>\n",
              "      <td>4.7</td>\n",
              "      <td>U Launcher Lite – FREE Live Cool Themes, Hide ...</td>\n",
              "      <td>ART_AND_DESIGN</td>\n",
              "      <td>87510</td>\n",
              "      <td>8.7</td>\n",
              "      <td>5000000</td>\n",
              "      <td>Free</td>\n",
              "      <td>0</td>\n",
              "      <td>Everyone</td>\n",
              "      <td>Art &amp; Design</td>\n",
              "      <td>01-Aug-18</td>\n",
              "      <td>1.2.4</td>\n",
              "      <td>4.0.3 and up</td>\n",
              "    </tr>\n",
              "    <tr>\n",
              "      <th>3</th>\n",
              "      <td>4.5</td>\n",
              "      <td>Sketch - Draw &amp; Paint</td>\n",
              "      <td>ART_AND_DESIGN</td>\n",
              "      <td>215644</td>\n",
              "      <td>25.0</td>\n",
              "      <td>50000000</td>\n",
              "      <td>Free</td>\n",
              "      <td>0</td>\n",
              "      <td>Teen</td>\n",
              "      <td>Art &amp; Design</td>\n",
              "      <td>08-Jun-18</td>\n",
              "      <td>Varies with device</td>\n",
              "      <td>4.2 and up</td>\n",
              "    </tr>\n",
              "    <tr>\n",
              "      <th>4</th>\n",
              "      <td>4.3</td>\n",
              "      <td>Pixel Draw - Number Art Coloring Book</td>\n",
              "      <td>ART_AND_DESIGN</td>\n",
              "      <td>967</td>\n",
              "      <td>2.8</td>\n",
              "      <td>100000</td>\n",
              "      <td>Free</td>\n",
              "      <td>0</td>\n",
              "      <td>Everyone</td>\n",
              "      <td>Art &amp; Design;Creativity</td>\n",
              "      <td>20-Jun-18</td>\n",
              "      <td>1.1</td>\n",
              "      <td>4.4 and up</td>\n",
              "    </tr>\n",
              "  </tbody>\n",
              "</table>\n",
              "</div>\n",
              "      <button class=\"colab-df-convert\" onclick=\"convertToInteractive('df-0f195518-8611-45c1-bd38-015ed1e7c3d8')\"\n",
              "              title=\"Convert this dataframe to an interactive table.\"\n",
              "              style=\"display:none;\">\n",
              "        \n",
              "  <svg xmlns=\"http://www.w3.org/2000/svg\" height=\"24px\"viewBox=\"0 0 24 24\"\n",
              "       width=\"24px\">\n",
              "    <path d=\"M0 0h24v24H0V0z\" fill=\"none\"/>\n",
              "    <path d=\"M18.56 5.44l.94 2.06.94-2.06 2.06-.94-2.06-.94-.94-2.06-.94 2.06-2.06.94zm-11 1L8.5 8.5l.94-2.06 2.06-.94-2.06-.94L8.5 2.5l-.94 2.06-2.06.94zm10 10l.94 2.06.94-2.06 2.06-.94-2.06-.94-.94-2.06-.94 2.06-2.06.94z\"/><path d=\"M17.41 7.96l-1.37-1.37c-.4-.4-.92-.59-1.43-.59-.52 0-1.04.2-1.43.59L10.3 9.45l-7.72 7.72c-.78.78-.78 2.05 0 2.83L4 21.41c.39.39.9.59 1.41.59.51 0 1.02-.2 1.41-.59l7.78-7.78 2.81-2.81c.8-.78.8-2.07 0-2.86zM5.41 20L4 18.59l7.72-7.72 1.47 1.35L5.41 20z\"/>\n",
              "  </svg>\n",
              "      </button>\n",
              "      \n",
              "  <style>\n",
              "    .colab-df-container {\n",
              "      display:flex;\n",
              "      flex-wrap:wrap;\n",
              "      gap: 12px;\n",
              "    }\n",
              "\n",
              "    .colab-df-convert {\n",
              "      background-color: #E8F0FE;\n",
              "      border: none;\n",
              "      border-radius: 50%;\n",
              "      cursor: pointer;\n",
              "      display: none;\n",
              "      fill: #1967D2;\n",
              "      height: 32px;\n",
              "      padding: 0 0 0 0;\n",
              "      width: 32px;\n",
              "    }\n",
              "\n",
              "    .colab-df-convert:hover {\n",
              "      background-color: #E2EBFA;\n",
              "      box-shadow: 0px 1px 2px rgba(60, 64, 67, 0.3), 0px 1px 3px 1px rgba(60, 64, 67, 0.15);\n",
              "      fill: #174EA6;\n",
              "    }\n",
              "\n",
              "    [theme=dark] .colab-df-convert {\n",
              "      background-color: #3B4455;\n",
              "      fill: #D2E3FC;\n",
              "    }\n",
              "\n",
              "    [theme=dark] .colab-df-convert:hover {\n",
              "      background-color: #434B5C;\n",
              "      box-shadow: 0px 1px 3px 1px rgba(0, 0, 0, 0.15);\n",
              "      filter: drop-shadow(0px 1px 2px rgba(0, 0, 0, 0.3));\n",
              "      fill: #FFFFFF;\n",
              "    }\n",
              "  </style>\n",
              "\n",
              "      <script>\n",
              "        const buttonEl =\n",
              "          document.querySelector('#df-0f195518-8611-45c1-bd38-015ed1e7c3d8 button.colab-df-convert');\n",
              "        buttonEl.style.display =\n",
              "          google.colab.kernel.accessAllowed ? 'block' : 'none';\n",
              "\n",
              "        async function convertToInteractive(key) {\n",
              "          const element = document.querySelector('#df-0f195518-8611-45c1-bd38-015ed1e7c3d8');\n",
              "          const dataTable =\n",
              "            await google.colab.kernel.invokeFunction('convertToInteractive',\n",
              "                                                     [key], {});\n",
              "          if (!dataTable) return;\n",
              "\n",
              "          const docLinkHtml = 'Like what you see? Visit the ' +\n",
              "            '<a target=\"_blank\" href=https://colab.research.google.com/notebooks/data_table.ipynb>data table notebook</a>'\n",
              "            + ' to learn more about interactive tables.';\n",
              "          element.innerHTML = '';\n",
              "          dataTable['output_type'] = 'display_data';\n",
              "          await google.colab.output.renderOutput(dataTable, element);\n",
              "          const docLink = document.createElement('div');\n",
              "          docLink.innerHTML = docLinkHtml;\n",
              "          element.appendChild(docLink);\n",
              "        }\n",
              "      </script>\n",
              "    </div>\n",
              "  </div>\n",
              "  "
            ],
            "text/plain": [
              "   Rating  ...   Android Ver\n",
              "0     4.1  ...  4.0.3 and up\n",
              "1     3.9  ...  4.0.3 and up\n",
              "2     4.7  ...  4.0.3 and up\n",
              "3     4.5  ...    4.2 and up\n",
              "4     4.3  ...    4.4 and up\n",
              "\n",
              "[5 rows x 13 columns]"
            ]
          },
          "metadata": {},
          "execution_count": 9
        }
      ]
    },
    {
      "cell_type": "code",
      "source": [
        "data['Price'] = data['Price'].str.replace('$', '')\n",
        "data['Price']=pd.to_numeric(data['Price'])\n",
        "data.head()"
      ],
      "metadata": {
        "colab": {
          "base_uri": "https://localhost:8080/",
          "height": 461
        },
        "id": "OQJn0ZmC0bLf",
        "outputId": "56eebbba-8b30-4abf-8b60-10c9453dbe8b"
      },
      "execution_count": null,
      "outputs": [
        {
          "output_type": "stream",
          "name": "stderr",
          "text": [
            "/usr/local/lib/python3.7/dist-packages/ipykernel_launcher.py:1: FutureWarning: The default value of regex will change from True to False in a future version. In addition, single character regular expressions will *not* be treated as literal strings when regex=True.\n",
            "  \"\"\"Entry point for launching an IPython kernel.\n"
          ]
        },
        {
          "output_type": "execute_result",
          "data": {
            "text/html": [
              "\n",
              "  <div id=\"df-1a7db016-c747-404d-a890-75591506c751\">\n",
              "    <div class=\"colab-df-container\">\n",
              "      <div>\n",
              "<style scoped>\n",
              "    .dataframe tbody tr th:only-of-type {\n",
              "        vertical-align: middle;\n",
              "    }\n",
              "\n",
              "    .dataframe tbody tr th {\n",
              "        vertical-align: top;\n",
              "    }\n",
              "\n",
              "    .dataframe thead th {\n",
              "        text-align: right;\n",
              "    }\n",
              "</style>\n",
              "<table border=\"1\" class=\"dataframe\">\n",
              "  <thead>\n",
              "    <tr style=\"text-align: right;\">\n",
              "      <th></th>\n",
              "      <th>Rating</th>\n",
              "      <th>App</th>\n",
              "      <th>Category</th>\n",
              "      <th>Reviews</th>\n",
              "      <th>Size</th>\n",
              "      <th>Installs</th>\n",
              "      <th>Type</th>\n",
              "      <th>Price</th>\n",
              "      <th>Content Rating</th>\n",
              "      <th>Genres</th>\n",
              "      <th>Last Updated</th>\n",
              "      <th>Current Ver</th>\n",
              "      <th>Android Ver</th>\n",
              "    </tr>\n",
              "  </thead>\n",
              "  <tbody>\n",
              "    <tr>\n",
              "      <th>0</th>\n",
              "      <td>4.1</td>\n",
              "      <td>Photo Editor &amp; Candy Camera &amp; Grid &amp; ScrapBook</td>\n",
              "      <td>ART_AND_DESIGN</td>\n",
              "      <td>159</td>\n",
              "      <td>19.0</td>\n",
              "      <td>10000</td>\n",
              "      <td>Free</td>\n",
              "      <td>0.0</td>\n",
              "      <td>Everyone</td>\n",
              "      <td>Art &amp; Design</td>\n",
              "      <td>07-Jan-18</td>\n",
              "      <td>1.0.0</td>\n",
              "      <td>4.0.3 and up</td>\n",
              "    </tr>\n",
              "    <tr>\n",
              "      <th>1</th>\n",
              "      <td>3.9</td>\n",
              "      <td>Coloring book moana</td>\n",
              "      <td>ART_AND_DESIGN</td>\n",
              "      <td>967</td>\n",
              "      <td>14.0</td>\n",
              "      <td>500000</td>\n",
              "      <td>Free</td>\n",
              "      <td>0.0</td>\n",
              "      <td>Everyone</td>\n",
              "      <td>Art &amp; Design;Pretend Play</td>\n",
              "      <td>15-Jan-18</td>\n",
              "      <td>2.0.0</td>\n",
              "      <td>4.0.3 and up</td>\n",
              "    </tr>\n",
              "    <tr>\n",
              "      <th>2</th>\n",
              "      <td>4.7</td>\n",
              "      <td>U Launcher Lite – FREE Live Cool Themes, Hide ...</td>\n",
              "      <td>ART_AND_DESIGN</td>\n",
              "      <td>87510</td>\n",
              "      <td>8.7</td>\n",
              "      <td>5000000</td>\n",
              "      <td>Free</td>\n",
              "      <td>0.0</td>\n",
              "      <td>Everyone</td>\n",
              "      <td>Art &amp; Design</td>\n",
              "      <td>01-Aug-18</td>\n",
              "      <td>1.2.4</td>\n",
              "      <td>4.0.3 and up</td>\n",
              "    </tr>\n",
              "    <tr>\n",
              "      <th>3</th>\n",
              "      <td>4.5</td>\n",
              "      <td>Sketch - Draw &amp; Paint</td>\n",
              "      <td>ART_AND_DESIGN</td>\n",
              "      <td>215644</td>\n",
              "      <td>25.0</td>\n",
              "      <td>50000000</td>\n",
              "      <td>Free</td>\n",
              "      <td>0.0</td>\n",
              "      <td>Teen</td>\n",
              "      <td>Art &amp; Design</td>\n",
              "      <td>08-Jun-18</td>\n",
              "      <td>Varies with device</td>\n",
              "      <td>4.2 and up</td>\n",
              "    </tr>\n",
              "    <tr>\n",
              "      <th>4</th>\n",
              "      <td>4.3</td>\n",
              "      <td>Pixel Draw - Number Art Coloring Book</td>\n",
              "      <td>ART_AND_DESIGN</td>\n",
              "      <td>967</td>\n",
              "      <td>2.8</td>\n",
              "      <td>100000</td>\n",
              "      <td>Free</td>\n",
              "      <td>0.0</td>\n",
              "      <td>Everyone</td>\n",
              "      <td>Art &amp; Design;Creativity</td>\n",
              "      <td>20-Jun-18</td>\n",
              "      <td>1.1</td>\n",
              "      <td>4.4 and up</td>\n",
              "    </tr>\n",
              "  </tbody>\n",
              "</table>\n",
              "</div>\n",
              "      <button class=\"colab-df-convert\" onclick=\"convertToInteractive('df-1a7db016-c747-404d-a890-75591506c751')\"\n",
              "              title=\"Convert this dataframe to an interactive table.\"\n",
              "              style=\"display:none;\">\n",
              "        \n",
              "  <svg xmlns=\"http://www.w3.org/2000/svg\" height=\"24px\"viewBox=\"0 0 24 24\"\n",
              "       width=\"24px\">\n",
              "    <path d=\"M0 0h24v24H0V0z\" fill=\"none\"/>\n",
              "    <path d=\"M18.56 5.44l.94 2.06.94-2.06 2.06-.94-2.06-.94-.94-2.06-.94 2.06-2.06.94zm-11 1L8.5 8.5l.94-2.06 2.06-.94-2.06-.94L8.5 2.5l-.94 2.06-2.06.94zm10 10l.94 2.06.94-2.06 2.06-.94-2.06-.94-.94-2.06-.94 2.06-2.06.94z\"/><path d=\"M17.41 7.96l-1.37-1.37c-.4-.4-.92-.59-1.43-.59-.52 0-1.04.2-1.43.59L10.3 9.45l-7.72 7.72c-.78.78-.78 2.05 0 2.83L4 21.41c.39.39.9.59 1.41.59.51 0 1.02-.2 1.41-.59l7.78-7.78 2.81-2.81c.8-.78.8-2.07 0-2.86zM5.41 20L4 18.59l7.72-7.72 1.47 1.35L5.41 20z\"/>\n",
              "  </svg>\n",
              "      </button>\n",
              "      \n",
              "  <style>\n",
              "    .colab-df-container {\n",
              "      display:flex;\n",
              "      flex-wrap:wrap;\n",
              "      gap: 12px;\n",
              "    }\n",
              "\n",
              "    .colab-df-convert {\n",
              "      background-color: #E8F0FE;\n",
              "      border: none;\n",
              "      border-radius: 50%;\n",
              "      cursor: pointer;\n",
              "      display: none;\n",
              "      fill: #1967D2;\n",
              "      height: 32px;\n",
              "      padding: 0 0 0 0;\n",
              "      width: 32px;\n",
              "    }\n",
              "\n",
              "    .colab-df-convert:hover {\n",
              "      background-color: #E2EBFA;\n",
              "      box-shadow: 0px 1px 2px rgba(60, 64, 67, 0.3), 0px 1px 3px 1px rgba(60, 64, 67, 0.15);\n",
              "      fill: #174EA6;\n",
              "    }\n",
              "\n",
              "    [theme=dark] .colab-df-convert {\n",
              "      background-color: #3B4455;\n",
              "      fill: #D2E3FC;\n",
              "    }\n",
              "\n",
              "    [theme=dark] .colab-df-convert:hover {\n",
              "      background-color: #434B5C;\n",
              "      box-shadow: 0px 1px 3px 1px rgba(0, 0, 0, 0.15);\n",
              "      filter: drop-shadow(0px 1px 2px rgba(0, 0, 0, 0.3));\n",
              "      fill: #FFFFFF;\n",
              "    }\n",
              "  </style>\n",
              "\n",
              "      <script>\n",
              "        const buttonEl =\n",
              "          document.querySelector('#df-1a7db016-c747-404d-a890-75591506c751 button.colab-df-convert');\n",
              "        buttonEl.style.display =\n",
              "          google.colab.kernel.accessAllowed ? 'block' : 'none';\n",
              "\n",
              "        async function convertToInteractive(key) {\n",
              "          const element = document.querySelector('#df-1a7db016-c747-404d-a890-75591506c751');\n",
              "          const dataTable =\n",
              "            await google.colab.kernel.invokeFunction('convertToInteractive',\n",
              "                                                     [key], {});\n",
              "          if (!dataTable) return;\n",
              "\n",
              "          const docLinkHtml = 'Like what you see? Visit the ' +\n",
              "            '<a target=\"_blank\" href=https://colab.research.google.com/notebooks/data_table.ipynb>data table notebook</a>'\n",
              "            + ' to learn more about interactive tables.';\n",
              "          element.innerHTML = '';\n",
              "          dataTable['output_type'] = 'display_data';\n",
              "          await google.colab.output.renderOutput(dataTable, element);\n",
              "          const docLink = document.createElement('div');\n",
              "          docLink.innerHTML = docLinkHtml;\n",
              "          element.appendChild(docLink);\n",
              "        }\n",
              "      </script>\n",
              "    </div>\n",
              "  </div>\n",
              "  "
            ],
            "text/plain": [
              "   Rating  ...   Android Ver\n",
              "0     4.1  ...  4.0.3 and up\n",
              "1     3.9  ...  4.0.3 and up\n",
              "2     4.7  ...  4.0.3 and up\n",
              "3     4.5  ...    4.2 and up\n",
              "4     4.3  ...    4.4 and up\n",
              "\n",
              "[5 rows x 13 columns]"
            ]
          },
          "metadata": {},
          "execution_count": 10
        }
      ]
    },
    {
      "cell_type": "code",
      "source": [
        "data[np.logical_or(data['Rating'] > 5, data['Rating'] < 0)]"
      ],
      "metadata": {
        "colab": {
          "base_uri": "https://localhost:8080/",
          "height": 50
        },
        "id": "u4hdLCiw0fMH",
        "outputId": "071f83ea-c823-4daf-91f9-4bf45db232aa"
      },
      "execution_count": null,
      "outputs": [
        {
          "output_type": "execute_result",
          "data": {
            "text/html": [
              "\n",
              "  <div id=\"df-5a40d628-e709-43ff-be07-b217c2a03597\">\n",
              "    <div class=\"colab-df-container\">\n",
              "      <div>\n",
              "<style scoped>\n",
              "    .dataframe tbody tr th:only-of-type {\n",
              "        vertical-align: middle;\n",
              "    }\n",
              "\n",
              "    .dataframe tbody tr th {\n",
              "        vertical-align: top;\n",
              "    }\n",
              "\n",
              "    .dataframe thead th {\n",
              "        text-align: right;\n",
              "    }\n",
              "</style>\n",
              "<table border=\"1\" class=\"dataframe\">\n",
              "  <thead>\n",
              "    <tr style=\"text-align: right;\">\n",
              "      <th></th>\n",
              "      <th>Rating</th>\n",
              "      <th>App</th>\n",
              "      <th>Category</th>\n",
              "      <th>Reviews</th>\n",
              "      <th>Size</th>\n",
              "      <th>Installs</th>\n",
              "      <th>Type</th>\n",
              "      <th>Price</th>\n",
              "      <th>Content Rating</th>\n",
              "      <th>Genres</th>\n",
              "      <th>Last Updated</th>\n",
              "      <th>Current Ver</th>\n",
              "      <th>Android Ver</th>\n",
              "    </tr>\n",
              "  </thead>\n",
              "  <tbody>\n",
              "  </tbody>\n",
              "</table>\n",
              "</div>\n",
              "      <button class=\"colab-df-convert\" onclick=\"convertToInteractive('df-5a40d628-e709-43ff-be07-b217c2a03597')\"\n",
              "              title=\"Convert this dataframe to an interactive table.\"\n",
              "              style=\"display:none;\">\n",
              "        \n",
              "  <svg xmlns=\"http://www.w3.org/2000/svg\" height=\"24px\"viewBox=\"0 0 24 24\"\n",
              "       width=\"24px\">\n",
              "    <path d=\"M0 0h24v24H0V0z\" fill=\"none\"/>\n",
              "    <path d=\"M18.56 5.44l.94 2.06.94-2.06 2.06-.94-2.06-.94-.94-2.06-.94 2.06-2.06.94zm-11 1L8.5 8.5l.94-2.06 2.06-.94-2.06-.94L8.5 2.5l-.94 2.06-2.06.94zm10 10l.94 2.06.94-2.06 2.06-.94-2.06-.94-.94-2.06-.94 2.06-2.06.94z\"/><path d=\"M17.41 7.96l-1.37-1.37c-.4-.4-.92-.59-1.43-.59-.52 0-1.04.2-1.43.59L10.3 9.45l-7.72 7.72c-.78.78-.78 2.05 0 2.83L4 21.41c.39.39.9.59 1.41.59.51 0 1.02-.2 1.41-.59l7.78-7.78 2.81-2.81c.8-.78.8-2.07 0-2.86zM5.41 20L4 18.59l7.72-7.72 1.47 1.35L5.41 20z\"/>\n",
              "  </svg>\n",
              "      </button>\n",
              "      \n",
              "  <style>\n",
              "    .colab-df-container {\n",
              "      display:flex;\n",
              "      flex-wrap:wrap;\n",
              "      gap: 12px;\n",
              "    }\n",
              "\n",
              "    .colab-df-convert {\n",
              "      background-color: #E8F0FE;\n",
              "      border: none;\n",
              "      border-radius: 50%;\n",
              "      cursor: pointer;\n",
              "      display: none;\n",
              "      fill: #1967D2;\n",
              "      height: 32px;\n",
              "      padding: 0 0 0 0;\n",
              "      width: 32px;\n",
              "    }\n",
              "\n",
              "    .colab-df-convert:hover {\n",
              "      background-color: #E2EBFA;\n",
              "      box-shadow: 0px 1px 2px rgba(60, 64, 67, 0.3), 0px 1px 3px 1px rgba(60, 64, 67, 0.15);\n",
              "      fill: #174EA6;\n",
              "    }\n",
              "\n",
              "    [theme=dark] .colab-df-convert {\n",
              "      background-color: #3B4455;\n",
              "      fill: #D2E3FC;\n",
              "    }\n",
              "\n",
              "    [theme=dark] .colab-df-convert:hover {\n",
              "      background-color: #434B5C;\n",
              "      box-shadow: 0px 1px 3px 1px rgba(0, 0, 0, 0.15);\n",
              "      filter: drop-shadow(0px 1px 2px rgba(0, 0, 0, 0.3));\n",
              "      fill: #FFFFFF;\n",
              "    }\n",
              "  </style>\n",
              "\n",
              "      <script>\n",
              "        const buttonEl =\n",
              "          document.querySelector('#df-5a40d628-e709-43ff-be07-b217c2a03597 button.colab-df-convert');\n",
              "        buttonEl.style.display =\n",
              "          google.colab.kernel.accessAllowed ? 'block' : 'none';\n",
              "\n",
              "        async function convertToInteractive(key) {\n",
              "          const element = document.querySelector('#df-5a40d628-e709-43ff-be07-b217c2a03597');\n",
              "          const dataTable =\n",
              "            await google.colab.kernel.invokeFunction('convertToInteractive',\n",
              "                                                     [key], {});\n",
              "          if (!dataTable) return;\n",
              "\n",
              "          const docLinkHtml = 'Like what you see? Visit the ' +\n",
              "            '<a target=\"_blank\" href=https://colab.research.google.com/notebooks/data_table.ipynb>data table notebook</a>'\n",
              "            + ' to learn more about interactive tables.';\n",
              "          element.innerHTML = '';\n",
              "          dataTable['output_type'] = 'display_data';\n",
              "          await google.colab.output.renderOutput(dataTable, element);\n",
              "          const docLink = document.createElement('div');\n",
              "          docLink.innerHTML = docLinkHtml;\n",
              "          element.appendChild(docLink);\n",
              "        }\n",
              "      </script>\n",
              "    </div>\n",
              "  </div>\n",
              "  "
            ],
            "text/plain": [
              "Empty DataFrame\n",
              "Columns: [Rating, App, Category, Reviews, Size, Installs, Type, Price, Content Rating, Genres, Last Updated, Current Ver, Android Ver]\n",
              "Index: []"
            ]
          },
          "metadata": {},
          "execution_count": 11
        }
      ]
    },
    {
      "cell_type": "code",
      "source": [
        "data[data['Installs'] - data['Reviews'] < 0]"
      ],
      "metadata": {
        "colab": {
          "base_uri": "https://localhost:8080/",
          "height": 282
        },
        "id": "cZ2Fq4pC0m5J",
        "outputId": "7143d499-4a1e-42c5-bf6f-8745476af4eb"
      },
      "execution_count": null,
      "outputs": [
        {
          "output_type": "execute_result",
          "data": {
            "text/html": [
              "\n",
              "  <div id=\"df-27a73892-65ab-40d8-b726-5f2303d761af\">\n",
              "    <div class=\"colab-df-container\">\n",
              "      <div>\n",
              "<style scoped>\n",
              "    .dataframe tbody tr th:only-of-type {\n",
              "        vertical-align: middle;\n",
              "    }\n",
              "\n",
              "    .dataframe tbody tr th {\n",
              "        vertical-align: top;\n",
              "    }\n",
              "\n",
              "    .dataframe thead th {\n",
              "        text-align: right;\n",
              "    }\n",
              "</style>\n",
              "<table border=\"1\" class=\"dataframe\">\n",
              "  <thead>\n",
              "    <tr style=\"text-align: right;\">\n",
              "      <th></th>\n",
              "      <th>Rating</th>\n",
              "      <th>App</th>\n",
              "      <th>Category</th>\n",
              "      <th>Reviews</th>\n",
              "      <th>Size</th>\n",
              "      <th>Installs</th>\n",
              "      <th>Type</th>\n",
              "      <th>Price</th>\n",
              "      <th>Content Rating</th>\n",
              "      <th>Genres</th>\n",
              "      <th>Last Updated</th>\n",
              "      <th>Current Ver</th>\n",
              "      <th>Android Ver</th>\n",
              "    </tr>\n",
              "  </thead>\n",
              "  <tbody>\n",
              "    <tr>\n",
              "      <th>2454</th>\n",
              "      <td>5.0</td>\n",
              "      <td>KBA-EZ Health Guide</td>\n",
              "      <td>MEDICAL</td>\n",
              "      <td>4</td>\n",
              "      <td>25.0</td>\n",
              "      <td>1</td>\n",
              "      <td>Free</td>\n",
              "      <td>0.00</td>\n",
              "      <td>Everyone</td>\n",
              "      <td>Medical</td>\n",
              "      <td>02-Aug-18</td>\n",
              "      <td>1.0.72</td>\n",
              "      <td>4.0.3 and up</td>\n",
              "    </tr>\n",
              "    <tr>\n",
              "      <th>5917</th>\n",
              "      <td>5.0</td>\n",
              "      <td>Ra Ga Ba</td>\n",
              "      <td>GAME</td>\n",
              "      <td>2</td>\n",
              "      <td>20.0</td>\n",
              "      <td>1</td>\n",
              "      <td>Paid</td>\n",
              "      <td>1.49</td>\n",
              "      <td>Everyone</td>\n",
              "      <td>Arcade</td>\n",
              "      <td>08-Feb-17</td>\n",
              "      <td>1.0.4</td>\n",
              "      <td>2.3 and up</td>\n",
              "    </tr>\n",
              "    <tr>\n",
              "      <th>6700</th>\n",
              "      <td>5.0</td>\n",
              "      <td>Brick Breaker BR</td>\n",
              "      <td>GAME</td>\n",
              "      <td>7</td>\n",
              "      <td>19.0</td>\n",
              "      <td>5</td>\n",
              "      <td>Free</td>\n",
              "      <td>0.00</td>\n",
              "      <td>Everyone</td>\n",
              "      <td>Arcade</td>\n",
              "      <td>23-Jul-18</td>\n",
              "      <td>1</td>\n",
              "      <td>4.1 and up</td>\n",
              "    </tr>\n",
              "    <tr>\n",
              "      <th>7402</th>\n",
              "      <td>5.0</td>\n",
              "      <td>Trovami se ci riesci</td>\n",
              "      <td>GAME</td>\n",
              "      <td>11</td>\n",
              "      <td>6.1</td>\n",
              "      <td>10</td>\n",
              "      <td>Free</td>\n",
              "      <td>0.00</td>\n",
              "      <td>Everyone</td>\n",
              "      <td>Arcade</td>\n",
              "      <td>11-Mar-17</td>\n",
              "      <td>0.1</td>\n",
              "      <td>2.3 and up</td>\n",
              "    </tr>\n",
              "    <tr>\n",
              "      <th>8591</th>\n",
              "      <td>5.0</td>\n",
              "      <td>DN Blog</td>\n",
              "      <td>SOCIAL</td>\n",
              "      <td>20</td>\n",
              "      <td>4.2</td>\n",
              "      <td>10</td>\n",
              "      <td>Free</td>\n",
              "      <td>0.00</td>\n",
              "      <td>Teen</td>\n",
              "      <td>Social</td>\n",
              "      <td>23-Jul-18</td>\n",
              "      <td>1</td>\n",
              "      <td>4.0 and up</td>\n",
              "    </tr>\n",
              "    <tr>\n",
              "      <th>10696</th>\n",
              "      <td>5.0</td>\n",
              "      <td>Mu.F.O.</td>\n",
              "      <td>GAME</td>\n",
              "      <td>2</td>\n",
              "      <td>16.0</td>\n",
              "      <td>1</td>\n",
              "      <td>Paid</td>\n",
              "      <td>0.99</td>\n",
              "      <td>Everyone</td>\n",
              "      <td>Arcade</td>\n",
              "      <td>03-Mar-17</td>\n",
              "      <td>1</td>\n",
              "      <td>2.3 and up</td>\n",
              "    </tr>\n",
              "  </tbody>\n",
              "</table>\n",
              "</div>\n",
              "      <button class=\"colab-df-convert\" onclick=\"convertToInteractive('df-27a73892-65ab-40d8-b726-5f2303d761af')\"\n",
              "              title=\"Convert this dataframe to an interactive table.\"\n",
              "              style=\"display:none;\">\n",
              "        \n",
              "  <svg xmlns=\"http://www.w3.org/2000/svg\" height=\"24px\"viewBox=\"0 0 24 24\"\n",
              "       width=\"24px\">\n",
              "    <path d=\"M0 0h24v24H0V0z\" fill=\"none\"/>\n",
              "    <path d=\"M18.56 5.44l.94 2.06.94-2.06 2.06-.94-2.06-.94-.94-2.06-.94 2.06-2.06.94zm-11 1L8.5 8.5l.94-2.06 2.06-.94-2.06-.94L8.5 2.5l-.94 2.06-2.06.94zm10 10l.94 2.06.94-2.06 2.06-.94-2.06-.94-.94-2.06-.94 2.06-2.06.94z\"/><path d=\"M17.41 7.96l-1.37-1.37c-.4-.4-.92-.59-1.43-.59-.52 0-1.04.2-1.43.59L10.3 9.45l-7.72 7.72c-.78.78-.78 2.05 0 2.83L4 21.41c.39.39.9.59 1.41.59.51 0 1.02-.2 1.41-.59l7.78-7.78 2.81-2.81c.8-.78.8-2.07 0-2.86zM5.41 20L4 18.59l7.72-7.72 1.47 1.35L5.41 20z\"/>\n",
              "  </svg>\n",
              "      </button>\n",
              "      \n",
              "  <style>\n",
              "    .colab-df-container {\n",
              "      display:flex;\n",
              "      flex-wrap:wrap;\n",
              "      gap: 12px;\n",
              "    }\n",
              "\n",
              "    .colab-df-convert {\n",
              "      background-color: #E8F0FE;\n",
              "      border: none;\n",
              "      border-radius: 50%;\n",
              "      cursor: pointer;\n",
              "      display: none;\n",
              "      fill: #1967D2;\n",
              "      height: 32px;\n",
              "      padding: 0 0 0 0;\n",
              "      width: 32px;\n",
              "    }\n",
              "\n",
              "    .colab-df-convert:hover {\n",
              "      background-color: #E2EBFA;\n",
              "      box-shadow: 0px 1px 2px rgba(60, 64, 67, 0.3), 0px 1px 3px 1px rgba(60, 64, 67, 0.15);\n",
              "      fill: #174EA6;\n",
              "    }\n",
              "\n",
              "    [theme=dark] .colab-df-convert {\n",
              "      background-color: #3B4455;\n",
              "      fill: #D2E3FC;\n",
              "    }\n",
              "\n",
              "    [theme=dark] .colab-df-convert:hover {\n",
              "      background-color: #434B5C;\n",
              "      box-shadow: 0px 1px 3px 1px rgba(0, 0, 0, 0.15);\n",
              "      filter: drop-shadow(0px 1px 2px rgba(0, 0, 0, 0.3));\n",
              "      fill: #FFFFFF;\n",
              "    }\n",
              "  </style>\n",
              "\n",
              "      <script>\n",
              "        const buttonEl =\n",
              "          document.querySelector('#df-27a73892-65ab-40d8-b726-5f2303d761af button.colab-df-convert');\n",
              "        buttonEl.style.display =\n",
              "          google.colab.kernel.accessAllowed ? 'block' : 'none';\n",
              "\n",
              "        async function convertToInteractive(key) {\n",
              "          const element = document.querySelector('#df-27a73892-65ab-40d8-b726-5f2303d761af');\n",
              "          const dataTable =\n",
              "            await google.colab.kernel.invokeFunction('convertToInteractive',\n",
              "                                                     [key], {});\n",
              "          if (!dataTable) return;\n",
              "\n",
              "          const docLinkHtml = 'Like what you see? Visit the ' +\n",
              "            '<a target=\"_blank\" href=https://colab.research.google.com/notebooks/data_table.ipynb>data table notebook</a>'\n",
              "            + ' to learn more about interactive tables.';\n",
              "          element.innerHTML = '';\n",
              "          dataTable['output_type'] = 'display_data';\n",
              "          await google.colab.output.renderOutput(dataTable, element);\n",
              "          const docLink = document.createElement('div');\n",
              "          docLink.innerHTML = docLinkHtml;\n",
              "          element.appendChild(docLink);\n",
              "        }\n",
              "      </script>\n",
              "    </div>\n",
              "  </div>\n",
              "  "
            ],
            "text/plain": [
              "       Rating                   App  ... Current Ver   Android Ver\n",
              "2454      5.0   KBA-EZ Health Guide  ...      1.0.72  4.0.3 and up\n",
              "5917      5.0              Ra Ga Ba  ...       1.0.4    2.3 and up\n",
              "6700      5.0      Brick Breaker BR  ...           1    4.1 and up\n",
              "7402      5.0  Trovami se ci riesci  ...         0.1    2.3 and up\n",
              "8591      5.0               DN Blog  ...           1    4.0 and up\n",
              "10696     5.0               Mu.F.O.  ...           1    2.3 and up\n",
              "\n",
              "[6 rows x 13 columns]"
            ]
          },
          "metadata": {},
          "execution_count": 12
        }
      ]
    },
    {
      "cell_type": "code",
      "source": [
        "indexNames = data[ data['Installs'] - data['Reviews'] < 0 ].index\n",
        "data.drop(indexNames , inplace=True)\n",
        "data.head()"
      ],
      "metadata": {
        "colab": {
          "base_uri": "https://localhost:8080/",
          "height": 406
        },
        "id": "X_wXEc740q3i",
        "outputId": "78bc9321-c2e6-41d8-e4fb-cfa13aab326b"
      },
      "execution_count": null,
      "outputs": [
        {
          "output_type": "execute_result",
          "data": {
            "text/html": [
              "\n",
              "  <div id=\"df-980d39f6-bbfa-4f22-95f3-5a5040700997\">\n",
              "    <div class=\"colab-df-container\">\n",
              "      <div>\n",
              "<style scoped>\n",
              "    .dataframe tbody tr th:only-of-type {\n",
              "        vertical-align: middle;\n",
              "    }\n",
              "\n",
              "    .dataframe tbody tr th {\n",
              "        vertical-align: top;\n",
              "    }\n",
              "\n",
              "    .dataframe thead th {\n",
              "        text-align: right;\n",
              "    }\n",
              "</style>\n",
              "<table border=\"1\" class=\"dataframe\">\n",
              "  <thead>\n",
              "    <tr style=\"text-align: right;\">\n",
              "      <th></th>\n",
              "      <th>Rating</th>\n",
              "      <th>App</th>\n",
              "      <th>Category</th>\n",
              "      <th>Reviews</th>\n",
              "      <th>Size</th>\n",
              "      <th>Installs</th>\n",
              "      <th>Type</th>\n",
              "      <th>Price</th>\n",
              "      <th>Content Rating</th>\n",
              "      <th>Genres</th>\n",
              "      <th>Last Updated</th>\n",
              "      <th>Current Ver</th>\n",
              "      <th>Android Ver</th>\n",
              "    </tr>\n",
              "  </thead>\n",
              "  <tbody>\n",
              "    <tr>\n",
              "      <th>0</th>\n",
              "      <td>4.1</td>\n",
              "      <td>Photo Editor &amp; Candy Camera &amp; Grid &amp; ScrapBook</td>\n",
              "      <td>ART_AND_DESIGN</td>\n",
              "      <td>159</td>\n",
              "      <td>19.0</td>\n",
              "      <td>10000</td>\n",
              "      <td>Free</td>\n",
              "      <td>0.0</td>\n",
              "      <td>Everyone</td>\n",
              "      <td>Art &amp; Design</td>\n",
              "      <td>07-Jan-18</td>\n",
              "      <td>1.0.0</td>\n",
              "      <td>4.0.3 and up</td>\n",
              "    </tr>\n",
              "    <tr>\n",
              "      <th>1</th>\n",
              "      <td>3.9</td>\n",
              "      <td>Coloring book moana</td>\n",
              "      <td>ART_AND_DESIGN</td>\n",
              "      <td>967</td>\n",
              "      <td>14.0</td>\n",
              "      <td>500000</td>\n",
              "      <td>Free</td>\n",
              "      <td>0.0</td>\n",
              "      <td>Everyone</td>\n",
              "      <td>Art &amp; Design;Pretend Play</td>\n",
              "      <td>15-Jan-18</td>\n",
              "      <td>2.0.0</td>\n",
              "      <td>4.0.3 and up</td>\n",
              "    </tr>\n",
              "    <tr>\n",
              "      <th>2</th>\n",
              "      <td>4.7</td>\n",
              "      <td>U Launcher Lite – FREE Live Cool Themes, Hide ...</td>\n",
              "      <td>ART_AND_DESIGN</td>\n",
              "      <td>87510</td>\n",
              "      <td>8.7</td>\n",
              "      <td>5000000</td>\n",
              "      <td>Free</td>\n",
              "      <td>0.0</td>\n",
              "      <td>Everyone</td>\n",
              "      <td>Art &amp; Design</td>\n",
              "      <td>01-Aug-18</td>\n",
              "      <td>1.2.4</td>\n",
              "      <td>4.0.3 and up</td>\n",
              "    </tr>\n",
              "    <tr>\n",
              "      <th>3</th>\n",
              "      <td>4.5</td>\n",
              "      <td>Sketch - Draw &amp; Paint</td>\n",
              "      <td>ART_AND_DESIGN</td>\n",
              "      <td>215644</td>\n",
              "      <td>25.0</td>\n",
              "      <td>50000000</td>\n",
              "      <td>Free</td>\n",
              "      <td>0.0</td>\n",
              "      <td>Teen</td>\n",
              "      <td>Art &amp; Design</td>\n",
              "      <td>08-Jun-18</td>\n",
              "      <td>Varies with device</td>\n",
              "      <td>4.2 and up</td>\n",
              "    </tr>\n",
              "    <tr>\n",
              "      <th>4</th>\n",
              "      <td>4.3</td>\n",
              "      <td>Pixel Draw - Number Art Coloring Book</td>\n",
              "      <td>ART_AND_DESIGN</td>\n",
              "      <td>967</td>\n",
              "      <td>2.8</td>\n",
              "      <td>100000</td>\n",
              "      <td>Free</td>\n",
              "      <td>0.0</td>\n",
              "      <td>Everyone</td>\n",
              "      <td>Art &amp; Design;Creativity</td>\n",
              "      <td>20-Jun-18</td>\n",
              "      <td>1.1</td>\n",
              "      <td>4.4 and up</td>\n",
              "    </tr>\n",
              "  </tbody>\n",
              "</table>\n",
              "</div>\n",
              "      <button class=\"colab-df-convert\" onclick=\"convertToInteractive('df-980d39f6-bbfa-4f22-95f3-5a5040700997')\"\n",
              "              title=\"Convert this dataframe to an interactive table.\"\n",
              "              style=\"display:none;\">\n",
              "        \n",
              "  <svg xmlns=\"http://www.w3.org/2000/svg\" height=\"24px\"viewBox=\"0 0 24 24\"\n",
              "       width=\"24px\">\n",
              "    <path d=\"M0 0h24v24H0V0z\" fill=\"none\"/>\n",
              "    <path d=\"M18.56 5.44l.94 2.06.94-2.06 2.06-.94-2.06-.94-.94-2.06-.94 2.06-2.06.94zm-11 1L8.5 8.5l.94-2.06 2.06-.94-2.06-.94L8.5 2.5l-.94 2.06-2.06.94zm10 10l.94 2.06.94-2.06 2.06-.94-2.06-.94-.94-2.06-.94 2.06-2.06.94z\"/><path d=\"M17.41 7.96l-1.37-1.37c-.4-.4-.92-.59-1.43-.59-.52 0-1.04.2-1.43.59L10.3 9.45l-7.72 7.72c-.78.78-.78 2.05 0 2.83L4 21.41c.39.39.9.59 1.41.59.51 0 1.02-.2 1.41-.59l7.78-7.78 2.81-2.81c.8-.78.8-2.07 0-2.86zM5.41 20L4 18.59l7.72-7.72 1.47 1.35L5.41 20z\"/>\n",
              "  </svg>\n",
              "      </button>\n",
              "      \n",
              "  <style>\n",
              "    .colab-df-container {\n",
              "      display:flex;\n",
              "      flex-wrap:wrap;\n",
              "      gap: 12px;\n",
              "    }\n",
              "\n",
              "    .colab-df-convert {\n",
              "      background-color: #E8F0FE;\n",
              "      border: none;\n",
              "      border-radius: 50%;\n",
              "      cursor: pointer;\n",
              "      display: none;\n",
              "      fill: #1967D2;\n",
              "      height: 32px;\n",
              "      padding: 0 0 0 0;\n",
              "      width: 32px;\n",
              "    }\n",
              "\n",
              "    .colab-df-convert:hover {\n",
              "      background-color: #E2EBFA;\n",
              "      box-shadow: 0px 1px 2px rgba(60, 64, 67, 0.3), 0px 1px 3px 1px rgba(60, 64, 67, 0.15);\n",
              "      fill: #174EA6;\n",
              "    }\n",
              "\n",
              "    [theme=dark] .colab-df-convert {\n",
              "      background-color: #3B4455;\n",
              "      fill: #D2E3FC;\n",
              "    }\n",
              "\n",
              "    [theme=dark] .colab-df-convert:hover {\n",
              "      background-color: #434B5C;\n",
              "      box-shadow: 0px 1px 3px 1px rgba(0, 0, 0, 0.15);\n",
              "      filter: drop-shadow(0px 1px 2px rgba(0, 0, 0, 0.3));\n",
              "      fill: #FFFFFF;\n",
              "    }\n",
              "  </style>\n",
              "\n",
              "      <script>\n",
              "        const buttonEl =\n",
              "          document.querySelector('#df-980d39f6-bbfa-4f22-95f3-5a5040700997 button.colab-df-convert');\n",
              "        buttonEl.style.display =\n",
              "          google.colab.kernel.accessAllowed ? 'block' : 'none';\n",
              "\n",
              "        async function convertToInteractive(key) {\n",
              "          const element = document.querySelector('#df-980d39f6-bbfa-4f22-95f3-5a5040700997');\n",
              "          const dataTable =\n",
              "            await google.colab.kernel.invokeFunction('convertToInteractive',\n",
              "                                                     [key], {});\n",
              "          if (!dataTable) return;\n",
              "\n",
              "          const docLinkHtml = 'Like what you see? Visit the ' +\n",
              "            '<a target=\"_blank\" href=https://colab.research.google.com/notebooks/data_table.ipynb>data table notebook</a>'\n",
              "            + ' to learn more about interactive tables.';\n",
              "          element.innerHTML = '';\n",
              "          dataTable['output_type'] = 'display_data';\n",
              "          await google.colab.output.renderOutput(dataTable, element);\n",
              "          const docLink = document.createElement('div');\n",
              "          docLink.innerHTML = docLinkHtml;\n",
              "          element.appendChild(docLink);\n",
              "        }\n",
              "      </script>\n",
              "    </div>\n",
              "  </div>\n",
              "  "
            ],
            "text/plain": [
              "   Rating  ...   Android Ver\n",
              "0     4.1  ...  4.0.3 and up\n",
              "1     3.9  ...  4.0.3 and up\n",
              "2     4.7  ...  4.0.3 and up\n",
              "3     4.5  ...    4.2 and up\n",
              "4     4.3  ...    4.4 and up\n",
              "\n",
              "[5 rows x 13 columns]"
            ]
          },
          "metadata": {},
          "execution_count": 13
        }
      ]
    },
    {
      "cell_type": "code",
      "source": [
        "data[np.logical_and(data['Type'] == 'Free', data['Price'] > 0)]"
      ],
      "metadata": {
        "colab": {
          "base_uri": "https://localhost:8080/",
          "height": 50
        },
        "id": "LozXAZKW0zUv",
        "outputId": "ad1eea35-e11d-4709-f3f9-c2dc0d4016bf"
      },
      "execution_count": null,
      "outputs": [
        {
          "output_type": "execute_result",
          "data": {
            "text/html": [
              "\n",
              "  <div id=\"df-df066be3-b7b0-443b-b08b-3aeec8f0e573\">\n",
              "    <div class=\"colab-df-container\">\n",
              "      <div>\n",
              "<style scoped>\n",
              "    .dataframe tbody tr th:only-of-type {\n",
              "        vertical-align: middle;\n",
              "    }\n",
              "\n",
              "    .dataframe tbody tr th {\n",
              "        vertical-align: top;\n",
              "    }\n",
              "\n",
              "    .dataframe thead th {\n",
              "        text-align: right;\n",
              "    }\n",
              "</style>\n",
              "<table border=\"1\" class=\"dataframe\">\n",
              "  <thead>\n",
              "    <tr style=\"text-align: right;\">\n",
              "      <th></th>\n",
              "      <th>Rating</th>\n",
              "      <th>App</th>\n",
              "      <th>Category</th>\n",
              "      <th>Reviews</th>\n",
              "      <th>Size</th>\n",
              "      <th>Installs</th>\n",
              "      <th>Type</th>\n",
              "      <th>Price</th>\n",
              "      <th>Content Rating</th>\n",
              "      <th>Genres</th>\n",
              "      <th>Last Updated</th>\n",
              "      <th>Current Ver</th>\n",
              "      <th>Android Ver</th>\n",
              "    </tr>\n",
              "  </thead>\n",
              "  <tbody>\n",
              "  </tbody>\n",
              "</table>\n",
              "</div>\n",
              "      <button class=\"colab-df-convert\" onclick=\"convertToInteractive('df-df066be3-b7b0-443b-b08b-3aeec8f0e573')\"\n",
              "              title=\"Convert this dataframe to an interactive table.\"\n",
              "              style=\"display:none;\">\n",
              "        \n",
              "  <svg xmlns=\"http://www.w3.org/2000/svg\" height=\"24px\"viewBox=\"0 0 24 24\"\n",
              "       width=\"24px\">\n",
              "    <path d=\"M0 0h24v24H0V0z\" fill=\"none\"/>\n",
              "    <path d=\"M18.56 5.44l.94 2.06.94-2.06 2.06-.94-2.06-.94-.94-2.06-.94 2.06-2.06.94zm-11 1L8.5 8.5l.94-2.06 2.06-.94-2.06-.94L8.5 2.5l-.94 2.06-2.06.94zm10 10l.94 2.06.94-2.06 2.06-.94-2.06-.94-.94-2.06-.94 2.06-2.06.94z\"/><path d=\"M17.41 7.96l-1.37-1.37c-.4-.4-.92-.59-1.43-.59-.52 0-1.04.2-1.43.59L10.3 9.45l-7.72 7.72c-.78.78-.78 2.05 0 2.83L4 21.41c.39.39.9.59 1.41.59.51 0 1.02-.2 1.41-.59l7.78-7.78 2.81-2.81c.8-.78.8-2.07 0-2.86zM5.41 20L4 18.59l7.72-7.72 1.47 1.35L5.41 20z\"/>\n",
              "  </svg>\n",
              "      </button>\n",
              "      \n",
              "  <style>\n",
              "    .colab-df-container {\n",
              "      display:flex;\n",
              "      flex-wrap:wrap;\n",
              "      gap: 12px;\n",
              "    }\n",
              "\n",
              "    .colab-df-convert {\n",
              "      background-color: #E8F0FE;\n",
              "      border: none;\n",
              "      border-radius: 50%;\n",
              "      cursor: pointer;\n",
              "      display: none;\n",
              "      fill: #1967D2;\n",
              "      height: 32px;\n",
              "      padding: 0 0 0 0;\n",
              "      width: 32px;\n",
              "    }\n",
              "\n",
              "    .colab-df-convert:hover {\n",
              "      background-color: #E2EBFA;\n",
              "      box-shadow: 0px 1px 2px rgba(60, 64, 67, 0.3), 0px 1px 3px 1px rgba(60, 64, 67, 0.15);\n",
              "      fill: #174EA6;\n",
              "    }\n",
              "\n",
              "    [theme=dark] .colab-df-convert {\n",
              "      background-color: #3B4455;\n",
              "      fill: #D2E3FC;\n",
              "    }\n",
              "\n",
              "    [theme=dark] .colab-df-convert:hover {\n",
              "      background-color: #434B5C;\n",
              "      box-shadow: 0px 1px 3px 1px rgba(0, 0, 0, 0.15);\n",
              "      filter: drop-shadow(0px 1px 2px rgba(0, 0, 0, 0.3));\n",
              "      fill: #FFFFFF;\n",
              "    }\n",
              "  </style>\n",
              "\n",
              "      <script>\n",
              "        const buttonEl =\n",
              "          document.querySelector('#df-df066be3-b7b0-443b-b08b-3aeec8f0e573 button.colab-df-convert');\n",
              "        buttonEl.style.display =\n",
              "          google.colab.kernel.accessAllowed ? 'block' : 'none';\n",
              "\n",
              "        async function convertToInteractive(key) {\n",
              "          const element = document.querySelector('#df-df066be3-b7b0-443b-b08b-3aeec8f0e573');\n",
              "          const dataTable =\n",
              "            await google.colab.kernel.invokeFunction('convertToInteractive',\n",
              "                                                     [key], {});\n",
              "          if (!dataTable) return;\n",
              "\n",
              "          const docLinkHtml = 'Like what you see? Visit the ' +\n",
              "            '<a target=\"_blank\" href=https://colab.research.google.com/notebooks/data_table.ipynb>data table notebook</a>'\n",
              "            + ' to learn more about interactive tables.';\n",
              "          element.innerHTML = '';\n",
              "          dataTable['output_type'] = 'display_data';\n",
              "          await google.colab.output.renderOutput(dataTable, element);\n",
              "          const docLink = document.createElement('div');\n",
              "          docLink.innerHTML = docLinkHtml;\n",
              "          element.appendChild(docLink);\n",
              "        }\n",
              "      </script>\n",
              "    </div>\n",
              "  </div>\n",
              "  "
            ],
            "text/plain": [
              "Empty DataFrame\n",
              "Columns: [Rating, App, Category, Reviews, Size, Installs, Type, Price, Content Rating, Genres, Last Updated, Current Ver, Android Ver]\n",
              "Index: []"
            ]
          },
          "metadata": {},
          "execution_count": 14
        }
      ]
    },
    {
      "cell_type": "code",
      "source": [
        "sns.catplot(y='Price', data=data, kind='box')"
      ],
      "metadata": {
        "colab": {
          "base_uri": "https://localhost:8080/",
          "height": 386
        },
        "id": "F0K-FG7b016O",
        "outputId": "84beb27d-2616-4823-cec4-f85a08ca1f10"
      },
      "execution_count": null,
      "outputs": [
        {
          "output_type": "execute_result",
          "data": {
            "text/plain": [
              "<seaborn.axisgrid.FacetGrid at 0x7f6c1aa6f7d0>"
            ]
          },
          "metadata": {},
          "execution_count": 15
        },
        {
          "output_type": "display_data",
          "data": {
            "image/png": "[encoded data removed]",
            "text/plain": [
              "<Figure size 360x360 with 1 Axes>"
            ]
          },
          "metadata": {
            "needs_background": "light"
          }
        }
      ]
    },
    {
      "cell_type": "code",
      "source": [
        "sns.catplot(y='Reviews', data=data, kind='box')"
      ],
      "metadata": {
        "colab": {
          "base_uri": "https://localhost:8080/",
          "height": 386
        },
        "id": "4nWC5pYU05Fm",
        "outputId": "4ab07157-864e-4ddc-ef8b-77da7d5104de"
      },
      "execution_count": null,
      "outputs": [
        {
          "output_type": "execute_result",
          "data": {
            "text/plain": [
              "<seaborn.axisgrid.FacetGrid at 0x7f6c12043e10>"
            ]
          },
          "metadata": {},
          "execution_count": 16
        },
        {
          "output_type": "display_data",
          "data": {
            "image/png": "[encoded data removed]",
            "text/plain": [
              "<Figure size 360x360 with 1 Axes>"
            ]
          },
          "metadata": {
            "needs_background": "light"
          }
        }
      ]
    },
    {
      "cell_type": "code",
      "source": [
        "sns.distplot(a=data['Rating'], kde=False)"
      ],
      "metadata": {
        "colab": {
          "base_uri": "https://localhost:8080/",
          "height": 351
        },
        "id": "5s5QASu909QP",
        "outputId": "f8cc64e0-4834-4e50-bbea-69f9193c45df"
      },
      "execution_count": null,
      "outputs": [
        {
          "output_type": "stream",
          "name": "stderr",
          "text": [
            "/usr/local/lib/python3.7/dist-packages/seaborn/distributions.py:2619: FutureWarning: `distplot` is a deprecated function and will be removed in a future version. Please adapt your code to use either `displot` (a figure-level function with similar flexibility) or `histplot` (an axes-level function for histograms).\n",
            "  warnings.warn(msg, FutureWarning)\n"
          ]
        },
        {
          "output_type": "execute_result",
          "data": {
            "text/plain": [
              "<matplotlib.axes._subplots.AxesSubplot at 0x7f6c11b5df50>"
            ]
          },
          "metadata": {},
          "execution_count": 17
        },
        {
          "output_type": "display_data",
          "data": {
            "image/png": "[encoded data removed]",
            "text/plain": [
              "<Figure size 432x288 with 1 Axes>"
            ]
          },
          "metadata": {
            "needs_background": "light"
          }
        }
      ]
    },
    {
      "cell_type": "code",
      "source": [
        "sns.distplot(a=data['Size'], kde=False)"
      ],
      "metadata": {
        "colab": {
          "base_uri": "https://localhost:8080/",
          "height": 351
        },
        "id": "W2nAJVct1D3O",
        "outputId": "4065a437-af42-4728-9851-de53101e870e"
      },
      "execution_count": null,
      "outputs": [
        {
          "output_type": "stream",
          "name": "stderr",
          "text": [
            "/usr/local/lib/python3.7/dist-packages/seaborn/distributions.py:2619: FutureWarning: `distplot` is a deprecated function and will be removed in a future version. Please adapt your code to use either `displot` (a figure-level function with similar flexibility) or `histplot` (an axes-level function for histograms).\n",
            "  warnings.warn(msg, FutureWarning)\n"
          ]
        },
        {
          "output_type": "execute_result",
          "data": {
            "text/plain": [
              "<matplotlib.axes._subplots.AxesSubplot at 0x7f6c11af3890>"
            ]
          },
          "metadata": {},
          "execution_count": 18
        },
        {
          "output_type": "display_data",
          "data": {
            "image/png": "[encoded data removed]",
            "text/plain": [
              "<Figure size 432x288 with 1 Axes>"
            ]
          },
          "metadata": {
            "needs_background": "light"
          }
        }
      ]
    },
    {
      "cell_type": "code",
      "source": [
        "indexNames = data[data['Price'] >= 200].index\n",
        "data.drop(indexNames , inplace=True)\n",
        "sns.catplot(y='Price', data=data, kind='box')"
      ],
      "metadata": {
        "colab": {
          "base_uri": "https://localhost:8080/",
          "height": 386
        },
        "id": "3LO0VILc1IWK",
        "outputId": "7e8d5607-e19d-462d-8dba-b295aa38ff94"
      },
      "execution_count": null,
      "outputs": [
        {
          "output_type": "execute_result",
          "data": {
            "text/plain": [
              "<seaborn.axisgrid.FacetGrid at 0x7f6c120a6090>"
            ]
          },
          "metadata": {},
          "execution_count": 19
        },
        {
          "output_type": "display_data",
          "data": {
            "image/png": "[encoded data removed]",
            "text/plain": [
              "<Figure size 360x360 with 1 Axes>"
            ]
          },
          "metadata": {
            "needs_background": "light"
          }
        }
      ]
    },
    {
      "cell_type": "code",
      "source": [
        "indexNames = data[data['Reviews'] > 2000000].index\n",
        "data.drop(indexNames , inplace=True)\n",
        "sns.catplot(y='Reviews', data=data, kind='box')"
      ],
      "metadata": {
        "colab": {
          "base_uri": "https://localhost:8080/",
          "height": 386
        },
        "id": "4T72pd9A1KUI",
        "outputId": "b60aa5a4-12a7-4c52-f6ec-b7d2da1f52d7"
      },
      "execution_count": null,
      "outputs": [
        {
          "output_type": "execute_result",
          "data": {
            "text/plain": [
              "<seaborn.axisgrid.FacetGrid at 0x7f6c11985510>"
            ]
          },
          "metadata": {},
          "execution_count": 20
        },
        {
          "output_type": "display_data",
          "data": {
            "image/png": "[encoded data removed]",
            "text/plain": [
              "<Figure size 360x360 with 1 Axes>"
            ]
          },
          "metadata": {
            "needs_background": "light"
          }
        }
      ]
    },
    {
      "cell_type": "code",
      "source": [
        "sns.catplot(y='Installs', data=data, kind='box')"
      ],
      "metadata": {
        "colab": {
          "base_uri": "https://localhost:8080/",
          "height": 386
        },
        "id": "vVQ-SMv01O0n",
        "outputId": "295f83a7-1e26-4a78-c911-08d40227f26f"
      },
      "execution_count": null,
      "outputs": [
        {
          "output_type": "execute_result",
          "data": {
            "text/plain": [
              "<seaborn.axisgrid.FacetGrid at 0x7f6c11920790>"
            ]
          },
          "metadata": {},
          "execution_count": 21
        },
        {
          "output_type": "display_data",
          "data": {
            "image/png": "[encoded data removed]",
            "text/plain": [
              "<Figure size 360x360 with 1 Axes>"
            ]
          },
          "metadata": {
            "needs_background": "light"
          }
        }
      ]
    },
    {
      "cell_type": "code",
      "source": [
        "sns.regplot(x=data['Price'], y=data['Rating'])"
      ],
      "metadata": {
        "colab": {
          "base_uri": "https://localhost:8080/",
          "height": 296
        },
        "id": "KnEMkYp91U53",
        "outputId": "c958a45d-193c-434f-a970-faf25d271380"
      },
      "execution_count": null,
      "outputs": [
        {
          "output_type": "execute_result",
          "data": {
            "text/plain": [
              "<matplotlib.axes._subplots.AxesSubplot at 0x7f6c11a6bb50>"
            ]
          },
          "metadata": {},
          "execution_count": 22
        },
        {
          "output_type": "display_data",
          "data": {
            "image/png": "[encoded data removed]",
            "text/plain": [
              "<Figure size 432x288 with 1 Axes>"
            ]
          },
          "metadata": {
            "needs_background": "light"
          }
        }
      ]
    },
    {
      "cell_type": "code",
      "source": [
        "sns.regplot(x=data['Size'], y=data['Rating'])"
      ],
      "metadata": {
        "colab": {
          "base_uri": "https://localhost:8080/",
          "height": 296
        },
        "id": "p40IDJ5j1XTf",
        "outputId": "274f2b6c-9154-455a-8b0a-21d6bb14c5d3"
      },
      "execution_count": null,
      "outputs": [
        {
          "output_type": "execute_result",
          "data": {
            "text/plain": [
              "<matplotlib.axes._subplots.AxesSubplot at 0x7f6c1184df90>"
            ]
          },
          "metadata": {},
          "execution_count": 23
        },
        {
          "output_type": "display_data",
          "data": {
            "image/png": "[encoded data removed]",
            "text/plain": [
              "<Figure size 432x288 with 1 Axes>"
            ]
          },
          "metadata": {
            "needs_background": "light"
          }
        }
      ]
    },
    {
      "cell_type": "code",
      "source": [
        "sns.regplot(x=data['Reviews'], y=data['Rating'])"
      ],
      "metadata": {
        "colab": {
          "base_uri": "https://localhost:8080/",
          "height": 296
        },
        "id": "X9PzwfFW1bov",
        "outputId": "a109ddbb-bcc4-4877-b00a-896d4402aa2d"
      },
      "execution_count": null,
      "outputs": [
        {
          "output_type": "execute_result",
          "data": {
            "text/plain": [
              "<matplotlib.axes._subplots.AxesSubplot at 0x7f6c1174a7d0>"
            ]
          },
          "metadata": {},
          "execution_count": 24
        },
        {
          "output_type": "display_data",
          "data": {
            "image/png": "[encoded data removed]",
            "text/plain": [
              "<Figure size 432x288 with 1 Axes>"
            ]
          },
          "metadata": {
            "needs_background": "light"
          }
        }
      ]
    },
    {
      "cell_type": "code",
      "source": [
        "sns.catplot(x='Installs', y='Rating', data=data, kind='box')"
      ],
      "metadata": {
        "colab": {
          "base_uri": "https://localhost:8080/",
          "height": 386
        },
        "id": "ll-ft_2b1fRC",
        "outputId": "fd6cacb9-7b1a-4925-b50c-e428148267ae"
      },
      "execution_count": null,
      "outputs": [
        {
          "output_type": "execute_result",
          "data": {
            "text/plain": [
              "<seaborn.axisgrid.FacetGrid at 0x7f6c1176df90>"
            ]
          },
          "metadata": {},
          "execution_count": 25
        },
        {
          "output_type": "display_data",
          "data": {
            "image/png": "[encoded data removed]",
            "text/plain": [
              "<Figure size 360x360 with 1 Axes>"
            ]
          },
          "metadata": {
            "needs_background": "light"
          }
        }
      ]
    },
    {
      "cell_type": "code",
      "source": [
        "sns.catplot(x='Category', y='Rating', data=data, kind='box')"
      ],
      "metadata": {
        "colab": {
          "base_uri": "https://localhost:8080/",
          "height": 386
        },
        "id": "uTbJVg8X1ivQ",
        "outputId": "adcf978d-24b8-49a8-a17f-3d47d6b9bbcd"
      },
      "execution_count": null,
      "outputs": [
        {
          "output_type": "execute_result",
          "data": {
            "text/plain": [
              "<seaborn.axisgrid.FacetGrid at 0x7f6c114e7c50>"
            ]
          },
          "metadata": {},
          "execution_count": 26
        },
        {
          "output_type": "display_data",
          "data": {
            "image/png": "[encoded data removed]",
            "text/plain": [
              "<Figure size 360x360 with 1 Axes>"
            ]
          },
          "metadata": {
            "needs_background": "light"
          }
        }
      ]
    },
    {
      "cell_type": "code",
      "source": [
        "X=data[['Reviews', 'Size', 'Installs', 'Price']]\n",
        "y=data['Rating']"
      ],
      "metadata": {
        "id": "qjjffsJL1oUP"
      },
      "execution_count": null,
      "outputs": []
    },
    {
      "cell_type": "code",
      "source": [
        "X_train, X_test, y_train, y_test = train_test_split(X, y, test_size=0.2, random_state=1)"
      ],
      "metadata": {
        "id": "mOMrNWMi1pig"
      },
      "execution_count": null,
      "outputs": []
    },
    {
      "cell_type": "code",
      "source": [
        "reg = LinearRegression()  \n",
        "reg.fit(X_train, y_train) "
      ],
      "metadata": {
        "colab": {
          "base_uri": "https://localhost:8080/"
        },
        "id": "F-xDtdNy1tnY",
        "outputId": "14bbf6fd-d801-48ce-d348-9ea272dcd346"
      },
      "execution_count": null,
      "outputs": [
        {
          "output_type": "execute_result",
          "data": {
            "text/plain": [
              "LinearRegression()"
            ]
          },
          "metadata": {},
          "execution_count": 29
        }
      ]
    },
    {
      "cell_type": "code",
      "source": [
        "y_pred = reg.predict(X_test)"
      ],
      "metadata": {
        "id": "D-5Bluad1wLo"
      },
      "execution_count": null,
      "outputs": []
    },
    {
      "cell_type": "code",
      "source": [
        "dfReg = pd.DataFrame({'Actual': y_test, 'Predicted': y_pred})\n",
        "dfReg"
      ],
      "metadata": {
        "colab": {
          "base_uri": "https://localhost:8080/",
          "height": 423
        },
        "id": "8dajZg9a10FJ",
        "outputId": "43780371-2171-4d9d-8661-ca120f087cfd"
      },
      "execution_count": null,
      "outputs": [
        {
          "output_type": "execute_result",
          "data": {
            "text/html": [
              "\n",
              "  <div id=\"df-92b5135c-b72a-4e5f-9d1a-65b6245ea992\">\n",
              "    <div class=\"colab-df-container\">\n",
              "      <div>\n",
              "<style scoped>\n",
              "    .dataframe tbody tr th:only-of-type {\n",
              "        vertical-align: middle;\n",
              "    }\n",
              "\n",
              "    .dataframe tbody tr th {\n",
              "        vertical-align: top;\n",
              "    }\n",
              "\n",
              "    .dataframe thead th {\n",
              "        text-align: right;\n",
              "    }\n",
              "</style>\n",
              "<table border=\"1\" class=\"dataframe\">\n",
              "  <thead>\n",
              "    <tr style=\"text-align: right;\">\n",
              "      <th></th>\n",
              "      <th>Actual</th>\n",
              "      <th>Predicted</th>\n",
              "    </tr>\n",
              "  </thead>\n",
              "  <tbody>\n",
              "    <tr>\n",
              "      <th>8237</th>\n",
              "      <td>4.1</td>\n",
              "      <td>4.149843</td>\n",
              "    </tr>\n",
              "    <tr>\n",
              "      <th>3497</th>\n",
              "      <td>4.4</td>\n",
              "      <td>4.151221</td>\n",
              "    </tr>\n",
              "    <tr>\n",
              "      <th>5795</th>\n",
              "      <td>5.0</td>\n",
              "      <td>4.146138</td>\n",
              "    </tr>\n",
              "    <tr>\n",
              "      <th>5573</th>\n",
              "      <td>3.7</td>\n",
              "      <td>4.153329</td>\n",
              "    </tr>\n",
              "    <tr>\n",
              "      <th>4801</th>\n",
              "      <td>4.3</td>\n",
              "      <td>4.232126</td>\n",
              "    </tr>\n",
              "    <tr>\n",
              "      <th>...</th>\n",
              "      <td>...</td>\n",
              "      <td>...</td>\n",
              "    </tr>\n",
              "    <tr>\n",
              "      <th>4511</th>\n",
              "      <td>3.1</td>\n",
              "      <td>4.146927</td>\n",
              "    </tr>\n",
              "    <tr>\n",
              "      <th>62</th>\n",
              "      <td>4.3</td>\n",
              "      <td>4.162178</td>\n",
              "    </tr>\n",
              "    <tr>\n",
              "      <th>9397</th>\n",
              "      <td>4.2</td>\n",
              "      <td>4.151910</td>\n",
              "    </tr>\n",
              "    <tr>\n",
              "      <th>3570</th>\n",
              "      <td>4.4</td>\n",
              "      <td>4.155429</td>\n",
              "    </tr>\n",
              "    <tr>\n",
              "      <th>8557</th>\n",
              "      <td>3.2</td>\n",
              "      <td>4.144344</td>\n",
              "    </tr>\n",
              "  </tbody>\n",
              "</table>\n",
              "<p>1497 rows × 2 columns</p>\n",
              "</div>\n",
              "      <button class=\"colab-df-convert\" onclick=\"convertToInteractive('df-92b5135c-b72a-4e5f-9d1a-65b6245ea992')\"\n",
              "              title=\"Convert this dataframe to an interactive table.\"\n",
              "              style=\"display:none;\">\n",
              "        \n",
              "  <svg xmlns=\"http://www.w3.org/2000/svg\" height=\"24px\"viewBox=\"0 0 24 24\"\n",
              "       width=\"24px\">\n",
              "    <path d=\"M0 0h24v24H0V0z\" fill=\"none\"/>\n",
              "    <path d=\"M18.56 5.44l.94 2.06.94-2.06 2.06-.94-2.06-.94-.94-2.06-.94 2.06-2.06.94zm-11 1L8.5 8.5l.94-2.06 2.06-.94-2.06-.94L8.5 2.5l-.94 2.06-2.06.94zm10 10l.94 2.06.94-2.06 2.06-.94-2.06-.94-.94-2.06-.94 2.06-2.06.94z\"/><path d=\"M17.41 7.96l-1.37-1.37c-.4-.4-.92-.59-1.43-.59-.52 0-1.04.2-1.43.59L10.3 9.45l-7.72 7.72c-.78.78-.78 2.05 0 2.83L4 21.41c.39.39.9.59 1.41.59.51 0 1.02-.2 1.41-.59l7.78-7.78 2.81-2.81c.8-.78.8-2.07 0-2.86zM5.41 20L4 18.59l7.72-7.72 1.47 1.35L5.41 20z\"/>\n",
              "  </svg>\n",
              "      </button>\n",
              "      \n",
              "  <style>\n",
              "    .colab-df-container {\n",
              "      display:flex;\n",
              "      flex-wrap:wrap;\n",
              "      gap: 12px;\n",
              "    }\n",
              "\n",
              "    .colab-df-convert {\n",
              "      background-color: #E8F0FE;\n",
              "      border: none;\n",
              "      border-radius: 50%;\n",
              "      cursor: pointer;\n",
              "      display: none;\n",
              "      fill: #1967D2;\n",
              "      height: 32px;\n",
              "      padding: 0 0 0 0;\n",
              "      width: 32px;\n",
              "    }\n",
              "\n",
              "    .colab-df-convert:hover {\n",
              "      background-color: #E2EBFA;\n",
              "      box-shadow: 0px 1px 2px rgba(60, 64, 67, 0.3), 0px 1px 3px 1px rgba(60, 64, 67, 0.15);\n",
              "      fill: #174EA6;\n",
              "    }\n",
              "\n",
              "    [theme=dark] .colab-df-convert {\n",
              "      background-color: #3B4455;\n",
              "      fill: #D2E3FC;\n",
              "    }\n",
              "\n",
              "    [theme=dark] .colab-df-convert:hover {\n",
              "      background-color: #434B5C;\n",
              "      box-shadow: 0px 1px 3px 1px rgba(0, 0, 0, 0.15);\n",
              "      filter: drop-shadow(0px 1px 2px rgba(0, 0, 0, 0.3));\n",
              "      fill: #FFFFFF;\n",
              "    }\n",
              "  </style>\n",
              "\n",
              "      <script>\n",
              "        const buttonEl =\n",
              "          document.querySelector('#df-92b5135c-b72a-4e5f-9d1a-65b6245ea992 button.colab-df-convert');\n",
              "        buttonEl.style.display =\n",
              "          google.colab.kernel.accessAllowed ? 'block' : 'none';\n",
              "\n",
              "        async function convertToInteractive(key) {\n",
              "          const element = document.querySelector('#df-92b5135c-b72a-4e5f-9d1a-65b6245ea992');\n",
              "          const dataTable =\n",
              "            await google.colab.kernel.invokeFunction('convertToInteractive',\n",
              "                                                     [key], {});\n",
              "          if (!dataTable) return;\n",
              "\n",
              "          const docLinkHtml = 'Like what you see? Visit the ' +\n",
              "            '<a target=\"_blank\" href=https://colab.research.google.com/notebooks/data_table.ipynb>data table notebook</a>'\n",
              "            + ' to learn more about interactive tables.';\n",
              "          element.innerHTML = '';\n",
              "          dataTable['output_type'] = 'display_data';\n",
              "          await google.colab.output.renderOutput(dataTable, element);\n",
              "          const docLink = document.createElement('div');\n",
              "          docLink.innerHTML = docLinkHtml;\n",
              "          element.appendChild(docLink);\n",
              "        }\n",
              "      </script>\n",
              "    </div>\n",
              "  </div>\n",
              "  "
            ],
            "text/plain": [
              "      Actual  Predicted\n",
              "8237     4.1   4.149843\n",
              "3497     4.4   4.151221\n",
              "5795     5.0   4.146138\n",
              "5573     3.7   4.153329\n",
              "4801     4.3   4.232126\n",
              "...      ...        ...\n",
              "4511     3.1   4.146927\n",
              "62       4.3   4.162178\n",
              "9397     4.2   4.151910\n",
              "3570     4.4   4.155429\n",
              "8557     3.2   4.144344\n",
              "\n",
              "[1497 rows x 2 columns]"
            ]
          },
          "metadata": {},
          "execution_count": 32
        }
      ]
    },
    {
      "cell_type": "code",
      "source": [
        "metrics.mean_absolute_error(y_test, y_pred)"
      ],
      "metadata": {
        "colab": {
          "base_uri": "https://localhost:8080/"
        },
        "id": "7Cj5JCHg17E4",
        "outputId": "b92212f1-7a9d-4f1e-c43f-3b4871e0ec9f"
      },
      "execution_count": null,
      "outputs": [
        {
          "output_type": "execute_result",
          "data": {
            "text/plain": [
              "0.3880082222190575"
            ]
          },
          "metadata": {},
          "execution_count": 33
        }
      ]
    },
    {
      "cell_type": "code",
      "source": [
        "metrics.mean_squared_error(y_test, y_pred)"
      ],
      "metadata": {
        "colab": {
          "base_uri": "https://localhost:8080/"
        },
        "id": "MZ3IZAVy1-Mx",
        "outputId": "a7f6c1aa-35fc-43f4-a1bb-e95ece6780f5"
      },
      "execution_count": null,
      "outputs": [
        {
          "output_type": "execute_result",
          "data": {
            "text/plain": [
              "0.30709824385102913"
            ]
          },
          "metadata": {},
          "execution_count": 34
        }
      ]
    },
    {
      "cell_type": "code",
      "source": [
        "np.sqrt(metrics.mean_squared_error(y_test, y_pred))"
      ],
      "metadata": {
        "colab": {
          "base_uri": "https://localhost:8080/"
        },
        "id": "j60n-rhA2AQ7",
        "outputId": "d69b99b9-0739-44da-e5bc-0aa515ba507f"
      },
      "execution_count": null,
      "outputs": [
        {
          "output_type": "execute_result",
          "data": {
            "text/plain": [
              "0.5541644556005276"
            ]
          },
          "metadata": {},
          "execution_count": 35
        }
      ]
    },
    {
      "cell_type": "code",
      "source": [
        "import plotly.express as px\n",
        "import plotly.graph_objects as go"
      ],
      "metadata": {
        "id": "7Kdmo1CMLe6S"
      },
      "execution_count": null,
      "outputs": []
    },
    {
      "cell_type": "code",
      "source": [
        "fig = px.scatter(\n",
        "    dfReg, x='Actual', y='Predicted', opacity=0.65,\n",
        "    trendline='ols', trendline_color_override='black'\n",
        ")\n",
        "fig.show()"
      ],
      "metadata": {
        "colab": {
          "base_uri": "https://localhost:8080/",
          "height": 542
        },
        "id": "B87LJ9YqLu2J",
        "outputId": "d3e0f76d-f99d-46c1-955e-44d143c091fb"
      },
      "execution_count": null,
      "outputs": [
        {
          "output_type": "display_data",
          "data": {
            "text/html": [
              "<html>\n",
              "<head><meta charset=\"utf-8\" /></head>\n",
              "<body>\n",
              "    <div>            <script src=\"https://cdnjs.cloudflare.com/ajax/libs/mathjax/2.7.5/MathJax.js?config=TeX-AMS-MML_SVG\"></script><script type=\"text/javascript\">if (window.MathJax) {MathJax.Hub.Config({SVG: {font: \"STIX-Web\"}});}</script>                <script type=\"text/javascript\">window.PlotlyConfig = {MathJaxConfig: 'local'};</script>\n",
              "        <script src=\"https://cdn.plot.ly/plotly-2.8.3.min.js\"></script>                <div id=\"d08a1732-8a3f-47f9-8ec9-7df6d88de2c4\" class=\"plotly-graph-div\" style=\"height:525px; width:100%;\"></div>            <script type=\"text/javascript\">                                    window.PLOTLYENV=window.PLOTLYENV || {};                                    if (document.getElementById(\"d08a1732-8a3f-47f9-8ec9-7df6d88de2c4\")) {                    Plotly.newPlot(                        \"d08a1732-8a3f-47f9-8ec9-7df6d88de2c4\",                        [{\"hovertemplate\":\"Actual=%{x}<br>Predicted=%{y}<extra></extra>\",\"legendgroup\":\"\",\"marker\":{\"color\":\"#636efa\",\"opacity\":0.65,\"symbol\":\"circle\"},\"mode\":\"markers\",\"name\":\"\",\"showlegend\":false,\"x\":[4.1,4.4,5.0,3.7,4.3,2.8,4.5,4.5,4.3,4.1,4.0,3.7,4.1,4.2,3.8,4.2,4.5,4.1,4.4,4.2,4.3,4.1,4.3,4.7,4.3,4.4,4.7,4.4,4.6,4.3,3.0,4.7,5.0,2.9,4.1,4.3,3.4,4.8,4.4,4.5,3.5,4.0,3.8,4.5,4.1,4.3,4.6,4.3,4.7,4.5,4.0,4.3,4.2,4.5,4.3,4.6,4.1,4.5,4.2,4.4,4.1,4.4,3.6,4.6,4.2,3.5,4.8,4.3,4.2,4.3,4.4,4.7,4.4,4.3,3.5,4.6,4.5,4.4,4.6,2.6,4.2,2.3,4.2,4.7,4.4,4.5,4.8,4.1,4.6,4.7,3.9,4.1,4.1,4.1,4.4,4.2,4.0,2.2,4.2,4.4,4.1,4.4,4.4,3.8,4.1,4.2,4.5,4.6,3.8,4.4,4.1,3.7,4.7,4.3,3.7,1.0,3.5,4.3,4.6,4.0,4.4,4.4,4.7,4.1,4.2,4.0,4.8,3.4,3.5,4.0,4.4,4.8,3.8,3.8,5.0,4.6,4.5,3.6,4.6,4.6,4.1,4.0,2.9,4.9,3.9,4.2,4.4,3.6,3.9,4.7,4.1,4.1,4.7,3.7,4.6,4.1,3.9,4.7,2.3,3.9,3.3,4.9,4.7,5.0,3.8,4.4,4.3,3.5,3.7,3.5,4.2,4.1,4.5,4.7,2.3,4.6,4.3,4.4,3.9,4.5,5.0,4.5,4.0,3.7,4.5,4.4,4.7,4.2,4.3,4.1,4.5,4.0,4.4,4.4,3.0,4.0,4.4,3.4,3.9,4.5,3.7,4.1,4.3,4.5,3.9,5.0,4.0,4.3,4.4,3.6,3.0,4.4,3.5,4.1,4.2,4.6,5.0,4.3,4.3,4.3,4.4,4.2,5.0,4.2,4.4,4.4,2.9,4.0,3.5,4.3,3.9,4.0,4.5,1.0,4.3,4.5,4.1,4.2,5.0,3.7,4.4,4.1,4.8,4.5,5.0,3.3,4.7,4.7,4.5,4.1,4.5,4.2,4.1,4.6,3.9,4.0,3.5,3.8,5.0,3.8,4.9,4.5,4.6,4.7,4.1,4.4,3.5,3.8,2.6,4.0,4.5,4.0,4.6,3.8,4.5,4.2,4.4,4.6,4.7,3.5,4.9,4.3,4.4,4.6,4.4,4.2,3.9,3.9,4.4,4.5,2.0,4.2,3.0,4.2,3.4,4.1,3.9,4.2,4.4,4.7,4.2,4.0,4.7,4.3,3.4,4.4,4.3,4.2,4.9,4.2,4.2,3.8,4.0,4.3,4.7,4.4,4.3,4.6,4.1,4.0,3.4,4.1,3.5,4.4,3.8,4.6,4.3,4.0,4.2,4.6,4.3,4.0,4.2,4.3,4.3,4.2,3.5,4.5,4.3,4.1,4.4,3.2,4.4,4.3,3.3,4.0,4.2,3.9,4.8,3.5,4.7,4.6,4.8,4.2,3.4,1.4,4.5,3.6,3.1,3.0,4.3,4.5,4.2,4.2,4.4,4.4,5.0,4.6,4.6,4.0,4.0,4.4,4.4,4.4,4.6,4.4,4.2,4.0,5.0,4.1,4.4,4.5,4.3,3.9,3.1,3.9,4.6,3.9,4.1,3.7,4.5,4.5,1.7,3.2,4.2,3.8,3.7,3.0,4.1,4.3,4.6,4.3,4.4,4.3,3.6,4.4,4.6,4.5,2.0,4.5,4.4,4.0,4.4,4.6,4.7,4.6,4.7,4.5,4.2,4.2,4.4,4.6,4.5,4.2,3.8,4.1,3.4,4.0,4.6,4.6,3.7,4.1,4.7,3.9,4.8,5.0,4.7,4.6,4.3,4.0,3.4,4.1,4.2,4.2,4.5,4.6,3.7,4.1,5.0,4.3,4.0,4.5,4.5,3.3,3.9,4.6,4.3,4.2,3.9,4.2,4.4,4.1,4.2,2.9,4.5,4.0,4.6,4.8,4.0,4.1,4.5,4.0,4.4,5.0,4.8,4.2,4.2,4.7,4.6,4.4,3.8,4.7,3.6,3.3,4.1,4.6,4.3,4.5,4.0,4.5,4.8,3.6,4.5,4.3,4.7,4.4,3.8,4.2,3.3,4.3,3.6,4.6,4.6,4.3,4.0,4.0,4.0,4.5,4.6,4.2,4.7,3.7,3.5,4.3,4.0,3.6,3.9,3.4,4.1,4.0,4.0,4.2,4.8,3.9,4.0,4.5,2.5,4.2,4.1,4.5,4.6,3.5,4.1,4.7,3.8,4.5,4.3,4.0,4.5,4.2,4.1,4.2,4.4,4.5,4.1,3.0,4.5,4.4,4.5,3.9,4.1,4.1,4.8,4.0,3.5,3.3,4.3,4.5,3.4,4.2,4.7,4.7,3.5,3.1,4.1,4.4,4.9,1.7,4.3,4.2,3.9,4.0,4.1,3.8,4.2,4.6,4.0,4.1,3.9,4.1,4.3,4.0,3.9,4.2,4.1,4.3,4.4,4.6,3.9,4.6,4.7,4.4,4.4,4.0,4.4,4.6,3.5,4.6,4.4,3.3,4.5,4.1,2.3,4.2,4.6,4.5,4.6,4.3,4.3,5.0,4.4,4.2,4.2,4.0,4.4,5.0,4.2,4.5,3.5,4.2,4.4,4.6,4.0,4.1,4.7,2.3,4.5,4.4,3.9,4.4,4.1,3.8,2.7,4.6,4.7,3.8,4.7,4.0,4.0,3.9,4.3,4.9,4.6,4.7,4.2,4.5,3.8,4.5,4.7,4.4,4.3,4.6,4.2,3.2,4.1,2.8,3.7,4.8,4.1,3.9,3.7,4.2,4.2,4.3,3.9,5.0,4.4,4.3,4.5,4.6,4.6,5.0,4.3,3.3,4.5,4.1,4.5,3.6,4.1,4.3,2.3,4.3,4.1,4.5,4.6,4.4,4.5,4.6,3.5,4.2,4.3,4.4,2.8,4.4,4.1,3.6,3.8,4.1,4.5,4.4,3.4,3.8,4.3,3.8,1.9,5.0,4.5,4.5,3.9,4.1,4.5,4.5,4.4,3.7,4.3,5.0,4.1,4.1,3.6,4.2,5.0,4.5,4.6,4.0,4.5,4.5,3.9,4.5,4.5,3.8,4.0,4.0,4.5,4.8,3.7,4.2,4.5,4.2,3.0,4.9,4.5,4.0,4.2,4.1,4.6,4.1,4.4,4.5,4.2,4.3,1.0,4.0,4.1,4.6,4.2,4.7,3.4,4.7,4.4,4.5,4.2,4.5,4.6,4.6,4.3,3.7,3.9,4.2,4.6,3.4,4.5,4.5,3.7,4.2,4.6,4.3,4.5,4.0,4.2,4.7,4.3,3.7,4.5,4.6,5.0,5.0,4.1,4.6,3.6,4.5,3.8,4.7,4.0,4.1,4.7,2.4,3.5,4.3,4.6,4.9,4.2,5.0,4.0,4.1,4.7,4.7,4.1,4.4,3.2,3.5,3.6,4.4,4.2,4.3,4.4,4.3,4.4,4.5,4.1,4.2,2.3,3.5,4.1,3.8,3.5,4.0,4.3,1.7,4.5,3.9,4.0,3.3,3.4,3.8,4.5,4.2,3.4,4.1,4.4,5.0,4.0,4.4,4.4,4.2,4.0,4.0,4.2,4.1,4.0,4.6,3.6,3.9,4.3,5.0,4.2,4.3,3.5,4.0,5.0,4.4,4.4,4.3,4.4,3.1,4.3,4.3,4.2,4.4,4.4,4.1,3.7,3.6,4.4,4.8,4.5,4.2,4.4,4.2,4.7,3.9,5.0,3.8,5.0,4.6,4.0,4.4,4.9,4.7,3.7,5.0,4.2,4.1,4.3,4.8,2.2,2.8,4.6,4.7,3.8,4.5,4.3,4.2,4.5,4.2,4.3,3.9,4.5,4.5,4.2,4.3,4.3,4.6,3.0,4.3,4.5,4.6,4.3,4.0,4.5,3.5,2.6,5.0,4.3,3.6,4.1,4.0,4.3,4.2,3.8,3.7,4.6,4.4,3.8,5.0,4.5,3.9,2.8,3.3,2.4,4.5,4.1,4.5,4.1,3.0,4.5,3.6,4.6,3.3,4.6,4.1,4.6,4.6,3.7,2.6,3.7,4.3,4.1,4.7,5.0,4.3,4.0,4.3,3.9,3.9,4.1,5.0,5.0,2.9,4.4,3.0,2.9,4.5,4.1,3.2,4.5,4.5,4.0,4.3,3.8,5.0,4.1,4.0,2.7,4.2,3.6,4.4,4.3,4.5,4.3,4.2,4.6,4.0,3.7,4.6,3.7,3.9,4.8,4.2,4.3,3.3,4.4,4.8,4.2,4.3,4.0,3.4,3.8,3.5,4.7,4.1,2.5,4.2,4.2,4.2,4.8,4.8,4.8,3.9,4.7,4.5,3.3,3.0,4.0,3.7,3.4,5.0,4.4,4.1,4.3,4.2,4.8,4.7,4.9,4.4,4.0,4.5,4.0,4.5,3.8,3.9,4.3,4.7,4.4,4.4,4.5,4.9,4.7,4.5,4.6,4.2,4.0,2.8,4.6,4.4,4.6,3.6,4.7,4.2,4.7,4.4,4.5,4.4,4.4,4.5,3.6,4.1,1.8,4.6,4.2,3.5,3.6,3.6,4.1,3.1,4.1,4.8,4.3,4.0,3.8,3.8,4.2,4.0,1.7,4.5,4.5,3.7,4.0,4.2,1.6,4.0,4.8,4.7,4.3,4.6,4.2,4.0,4.4,4.2,4.2,3.6,4.0,3.6,4.0,3.9,4.2,4.7,4.5,3.8,4.0,4.8,4.7,4.6,3.8,4.5,4.7,4.2,4.0,4.5,4.5,3.7,4.4,4.1,4.2,4.6,3.7,4.3,4.8,4.2,4.1,4.5,4.4,4.0,3.9,3.3,2.5,4.4,4.3,4.6,4.3,4.3,5.0,4.7,3.8,4.4,3.7,4.2,4.4,5.0,4.9,4.0,3.1,4.6,4.2,4.5,4.2,4.4,4.1,4.7,4.6,3.9,5.0,4.4,4.6,4.1,4.2,4.5,4.4,2.7,3.9,4.5,4.4,3.9,4.6,4.4,4.7,4.2,4.2,5.0,4.3,4.5,4.3,3.7,4.7,3.8,4.6,4.5,4.2,4.4,2.8,4.8,4.8,4.6,3.6,4.1,4.1,4.6,4.4,4.6,4.0,4.3,4.2,4.4,3.1,4.3,4.3,4.6,4.2,3.3,4.0,4.1,4.2,3.8,3.6,3.9,4.7,4.6,4.8,4.5,4.6,4.0,5.0,5.0,3.9,3.9,4.5,4.6,4.0,4.2,3.0,4.4,3.8,4.6,3.5,4.2,4.2,4.0,3.8,4.7,4.7,4.3,4.6,3.9,4.3,4.5,5.0,4.3,4.1,3.7,4.2,4.0,4.4,4.4,3.4,4.7,4.5,5.0,3.5,2.8,4.6,4.2,3.5,3.9,4.3,3.6,4.3,3.4,3.8,4.0,4.4,4.0,3.6,4.4,2.6,4.0,4.6,4.1,4.2,3.7,4.4,2.4,4.7,3.9,4.6,4.2,4.5,4.2,3.9,4.1,4.3,4.8,3.6,4.9,4.7,4.3,4.1,4.7,4.2,4.3,4.2,4.4,4.6,4.3,3.6,4.5,4.4,4.3,4.6,4.2,4.6,4.5,4.3,4.1,4.3,4.7,3.4,4.6,4.0,4.3,4.6,3.7,3.5,4.3,4.6,2.9,4.2,3.9,3.9,3.8,3.2,3.0,4.6,4.6,4.7,4.6,3.0,3.0,4.4,4.6,4.8,4.6,4.5,4.4,3.0,3.8,4.1,4.0,3.9,2.7,4.4,4.3,2.9,4.5,2.9,2.6,4.5,4.7,4.1,4.7,4.0,4.1,4.1,4.2,3.7,4.2,5.0,4.6,4.7,4.4,4.7,4.5,4.1,4.6,4.3,4.1,4.0,4.3,4.3,3.6,4.1,4.3,4.1,4.9,4.7,4.8,3.8,4.4,4.0,4.2,3.8,4.4,3.5,4.6,4.2,3.8,4.5,4.2,4.6,4.4,3.9,3.9,4.3,4.3,4.2,4.5,1.9,1.0,4.0,4.0,4.8,4.3,4.5,4.0,3.2,4.4,4.6,3.0,4.5,5.0,3.5,4.4,3.2,4.3,4.2,4.3,4.6,4.3,4.6,3.9,4.5,4.4,1.8,4.2,3.8,4.2,3.7,3.0,4.1,4.4,3.4,4.0,3.0,4.7,3.3,4.0,4.2,3.2,4.1,3.3,3.8,3.7,4.7,4.8,4.6,4.7,3.8,4.5,4.7,4.1,4.4,4.1,4.6,3.5,4.1,4.3,4.1,4.5,4.0,4.5,4.5,4.9,4.0,4.5,4.3,3.9,4.3,4.2,3.7,3.8,4.2,4.1,3.6,4.1,4.1,4.8,4.7,3.5,3.9,4.7,4.1,3.8,3.9,4.2,3.1,4.3,4.2,4.4,3.2],\"xaxis\":\"x\",\"y\":[4.149842558099849,4.151220979370365,4.146137634026807,4.15332897160053,4.232125996892838,4.149681318485677,4.504474723941256,4.1499334060114705,4.145012758689011,4.22134300939278,4.147828466768054,4.156159835678735,4.15043679600703,4.294773739465051,4.149503933280664,4.142577076546224,4.228021379190758,4.145978317881657,4.1753719388112565,4.1496756481007555,4.355600769278825,4.14723492830419,4.215072198865708,4.150224671931159,4.148567664902021,4.226776551040954,4.149599099600366,4.144368483035138,4.1490578460144985,4.375756508891081,4.1500168442057195,4.244893845979566,4.149837957839109,4.145830038735533,4.14861042045352,4.149929313439151,4.149550541714116,4.149969313931929,4.145521668021924,4.143196125273394,4.161614815803591,4.156633797387207,4.146046924957528,4.153644413144165,4.1516545849817,4.145496812776825,4.200963142746186,4.14927633047426,4.1576866341659455,4.148828706322633,4.147176933238448,4.176842020782835,4.181483821877073,4.166086121628111,4.149798463634975,4.17726549878097,4.149216053283224,4.159273115420096,4.398779658807789,4.148650311380912,4.164095363948157,4.1490464932639775,4.149831079264225,4.147492179305269,4.148147923410619,4.149721344918675,4.160658702090846,4.150267504710747,4.1477764354501225,4.1495363846001405,4.149022356954563,4.14839144063414,4.148344911726348,4.149530088216745,4.149415567372285,4.228176482911407,4.147478799258915,4.150353987744845,4.156044805567722,4.148745067936723,4.14778014394071,4.146955022943352,4.214320418380281,4.156927958492289,4.157566503095639,4.177306108558314,4.143907990921463,4.14885401129471,4.146378015365511,4.148234649283773,4.158359287619557,4.1459742212179025,4.158231170833112,4.150031267651818,4.169697180717718,4.14736124522065,4.149519711952794,4.148080051810275,4.145976518942146,4.16605648149276,4.149198842205788,4.407503454899797,4.147987536077011,4.146310798485181,4.15023193330936,4.14970177810875,4.149782884446885,4.171630811123089,4.1499526477341595,4.134100098908241,4.156254677626554,4.14974137269275,4.200743312120624,4.276864669740518,4.141463910237484,4.148940233674873,4.15307518634787,4.153778694272021,4.162334491185883,4.1334511431636685,4.136369372620025,4.191401593858395,4.148441796379743,4.146977642811035,4.363021794517361,4.146366089643154,4.183810258795711,4.150056106841404,4.149670989011984,4.175810474502799,4.261485624084939,4.612502035693053,4.149935231463794,4.1507306925870555,4.149792781942281,4.180449016430846,4.1557590793506405,4.14831322613096,4.149957687624046,4.214796022612756,4.211429517056276,4.149121910483513,4.14862305791274,4.175515142203413,4.166274498268672,4.155047976274091,4.156632316058429,4.142666141574329,3.435729063004702,4.150080726449582,4.1641146543130825,4.18413124575628,4.179678545221446,4.147159747022995,4.1500869028735785,4.144438690794184,4.149697327920045,4.222340184878884,4.149366686162607,4.175927949937865,4.147112375393971,4.149702535367165,4.201293274128986,4.148941346222049,4.141634246618349,4.152402706755432,4.1455079382485875,4.148903109538846,4.147381534009141,4.147006586361727,4.155885449408629,4.150132146458747,4.145649214826237,4.143932094195834,4.149763608075978,4.145837828490667,4.142610808877006,4.145975794621866,4.163610294945655,4.117189339499169,4.154652479335479,4.465533814486305,4.150050210502761,4.148991873782784,4.144844047048161,4.150633959029026,4.154135256527006,4.155142607609252,4.148934929938481,4.179609358814385,4.156251028779076,4.149884114207251,4.181495423873433,4.149877508945532,4.149266425243606,4.14804586050708,4.149210573585517,4.147930108011084,4.149569374606072,4.554820515271127,4.158730164566457,4.182186077646411,4.159089712698103,4.158085619072749,4.157949947425803,4.1498613578975565,4.1476867677793905,4.147767162298753,4.155692508755669,4.149896719386536,4.149010818044285,4.263815699813526,4.164031753237754,4.135054119775072,4.147529574376572,4.145170611390853,4.149703454000013,4.1494356329669415,4.149296231937941,4.3002478051063875,4.208671445239399,4.147930152358979,4.023817227248864,4.154517054748006,4.216158452625395,4.147819231858339,4.15168352936666,4.176980914898056,4.147449572888263,4.1476793241924295,4.310627221868312,4.14997033305979,4.147933668354539,4.149494714993823,4.157869385648801,4.440182650631139,4.1485648708303815,4.148245301110097,4.151553711332143,4.147833924822032,4.204139623088672,4.150018633601271,4.149486729727011,4.144865230848965,4.1494969844360705,4.147112375393971,4.169791594080714,4.16511258269659,4.149168596287354,4.152489488617723,4.149315995860137,4.1721870198134825,4.14552759883067,4.149011256536988,4.159684416902223,4.1492103281624715,4.1497266094353895,4.147145190709008,4.149511167529431,4.144028570051232,4.1485947735153825,4.147228527339955,4.148104922818198,4.150127204480317,4.162115223819022,4.152233716885422,4.145330811087739,4.136485560825121,4.1463779568130334,4.142549766562866,4.197145484987556,4.1498248369103266,4.162492006104171,4.028861627294565,4.149723464288889,4.1461521528895195,4.149619804222816,4.172008236228203,4.149286556816917,4.113395117967934,4.149287661583945,4.136221110798009,4.149874752217077,4.204351313625876,4.144031164069742,4.14764264185476,4.171051653080275,4.149286178458165,4.1820562254517615,4.226373728660057,4.14744438100144,4.149805753879189,4.148462385254068,4.182326636656785,4.149205073774477,4.17766838931598,4.146318586315415,4.145157479676861,4.291527911901605,4.285871001031237,4.243115665266545,4.159522010825011,4.152846209095494,4.248177038524618,4.14221862110938,4.148862162193854,4.149647657486618,4.168977494294645,4.146486944691593,4.150024268122302,4.1494208067847405,4.142303313750268,4.160807684868613,4.1496457323752445,4.150428569904479,4.274568107815456,4.151702866913479,4.157796179863025,4.149542421090826,4.14970933545691,4.136768614616817,4.149584998872333,4.198040790439086,4.149496727091299,4.147475461617386,4.17175538507158,4.150034448118724,4.142792346058109,4.149773876420434,4.194444791584606,4.145494958531532,4.144245438949118,4.149583917445752,4.142713312353617,4.149415308107589,4.143120827515258,4.1487075879966016,4.146903820778352,4.154180262081926,4.151267929976553,4.152003336650467,4.145315604925418,4.178749735878254,4.148421399681511,4.151346743946177,4.151612736603552,4.146167021500088,4.147614193813579,4.1495634287163075,4.149762943446026,4.1815271612895115,4.14093419841208,4.680250549339428,4.149336858714122,4.156331284660202,4.149549800015998,4.159348082821345,4.145984234142489,4.14939021426951,4.146637024702131,4.160602825767273,4.157933392029328,4.144721661947157,4.149719129529373,4.149328439690566,4.1494151733438684,4.157688262599541,4.162235619854034,4.177401822663863,4.148716242007332,4.146952319350901,4.152003336650467,4.149644632284115,4.256452758875035,4.148425144745218,4.041992787789275,4.227462707353111,4.147734132051639,4.14965864872382,4.14604618325941,4.149186687248821,4.195644791226568,4.172253533394975,4.143370993102044,4.139508615070385,4.147656697802239,4.170693745372382,4.149734695484791,3.998675815020079,4.148841016017356,4.167890693114955,4.316944290715981,4.148096022440788,4.1501647924836895,4.138458471609209,4.149119760322113,4.149616892575038,4.144830590757906,4.150035347074263,4.149811124120043,4.211625698820528,4.146951287846979,4.15364167254638,4.113032581266542,4.145638687659477,4.164167080792034,4.159743685214453,4.172997459725382,4.149805521799766,4.1424484878826995,4.147441562356104,4.033111795039843,4.152494478248859,4.1500750573896985,4.134216508105303,4.147442526756147,4.1495653205317735,4.149503773223416,4.597534970677667,4.151518351620979,4.153508328318347,4.1495419492609225,4.149035406692958,4.149678793247256,4.153500064680593,4.149983096096632,4.148779473149181,4.150848993436799,4.164052741199108,4.150527774898384,4.148315045728036,4.170822032701815,4.368358301040064,4.148862413716165,4.148419247217049,4.149299137819793,4.148921143438145,4.150003872268812,4.146968000735508,4.150192211973591,4.149153239643145,4.266346228579831,4.135213214021279,4.1493444199187675,4.197145484987556,4.149037826020574,4.147788433228086,4.149416743005391,4.1487128196289085,4.14911978542637,4.149348714833906,4.140525773477901,4.2083599352202254,4.149235395207106,3.4355695979094367,4.152312761597426,4.212803689960524,4.159002983211101,4.149561965405046,4.687665749901017,4.158712875266103,4.157644873511053,4.148795778287435,4.150034983844263,4.1839113732287085,4.145437310861681,4.320788068576493,4.175735132205324,4.0132130344725985,4.149085704720352,4.464928467059283,4.173265967434321,4.150341530869401,4.156416880599103,4.149849840569287,4.150020497551615,4.153391243607051,4.149917912405016,4.316229353373807,4.162543121230549,4.154606872825554,4.227323908071099,4.149737831126998,4.135637076337062,4.144241705463638,4.680552588889099,4.149399453466614,4.149001137229104,4.1425057081583825,4.1550094079719795,4.596647029924135,4.153697517763447,4.187582585083333,4.139519356648074,4.208320754770533,4.175595208173768,4.147929737162026,4.152566843122469,4.143820432882766,4.3911732903587675,4.018408956180357,4.149887999121595,4.151755438372306,4.525093087303523,4.146691134016492,4.1490504757142155,4.143716212347379,4.149452162207083,4.180622603390172,4.149627581007561,4.149752491327997,4.1506221105878955,4.15003677695309,4.149351804835714,4.146218164021978,4.151549715618099,4.152145753024988,4.147364923602985,4.1477601334907455,4.149674258123835,4.147912200853846,4.266021095083143,4.141779406772005,4.14995938878603,4.157255210228704,4.182959871038353,4.148588353036931,4.142718699972308,4.139367785628752,4.150107836319274,4.153124988543904,4.148676452397052,4.152237502713397,4.153991925221118,4.1450591760753595,4.201057419223953,4.162042217510218,4.1627650552116,4.149450114484503,4.163230916358546,4.14962983254661,4.1464675051975455,4.149687677380717,4.145329255061613,4.1775034132338815,4.15030460257884,3.9971649525737276,4.174857423343934,4.173062482778954,4.150809676643608,4.149871170546966,4.157788071146989,4.147759902845453,4.149494574626838,4.149744381913586,4.147430623529495,4.153089104964664,4.150968714429246,4.154985250962469,4.169293035501147,4.171564016762402,4.146963623176694,4.1460617589198785,4.148096322584856,4.15173960849456,4.459503719174783,4.148691325943798,4.1464641001970834,4.1460065216591335,4.150301143053012,4.142456157068728,4.148102625093954,4.1500861300548655,4.144076263687805,4.155178667627207,4.152700298863827,4.154327506038063,4.180731966357127,4.149825950302244,4.149823668138298,4.022975606452761,4.15033413664421,4.14985261168899,4.147094604747404,4.150719315566544,4.145836828393197,4.147434468374047,4.214531752416337,4.150561913836954,4.144399095899547,4.165948241530302,4.148985569348785,4.165558416407897,4.148871862258046,4.1484204793104285,4.148256522281742,4.144566067781969,4.150268413363163,4.135878122016753,4.149676568152903,4.150377467951868,4.078166057695801,4.1476026557480425,4.14957605959418,4.119525082647284,4.18078527180091,4.15955162688675,4.1497395997765665,4.1488572445289655,4.148924017515751,4.150257778625232,4.32755367021109,4.165898298243029,4.052359466086126,4.164600399888807,4.148696658197605,4.142037275919647,4.152990783283202,4.1463319349566286,4.147926758316108,4.149284578359699,4.149523422368282,4.149625235969211,4.276974350270025,4.149938578810373,4.149830750843534,4.149306576810843,4.140515690624357,4.149284020787071,4.149528581480064,4.138636975501193,4.149598665826467,4.1499667865181955,4.149591512045309,4.149361279354008,4.148023006920927,4.1492754721708,4.151884156615739,4.148753829518624,4.144094581129073,4.164460467811718,4.157712635141152,4.153548005351106,4.149660650425874,4.169953829211111,4.166903369776331,4.14997615376873,4.554364958199756,4.171601517747143,4.261457068707415,4.2353997719276215,4.153699462800627,4.147542853349701,4.14809528074267,4.149727295988814,4.144841152885582,4.146021691822324,4.151727112144975,4.0780015717158955,4.200757609294983,4.145927686412592,4.150620802966629,4.147116156833384,4.212997521986207,4.146738602696012,4.14841869801396,4.181145703367347,4.172265229457944,4.14998752310598,4.165035075752483,4.089069740908569,4.149234270355105,4.151081621136481,4.138786691184587,4.164288326311283,4.14939029265546,4.146616813715127,4.149805190535102,4.208828771399961,4.15008751843487,4.149913399975121,4.17050096360476,4.149076766935554,4.1785982291703005,4.2175531667550406,4.1468428993643505,4.268109050571896,4.149891133471298,4.358800573112433,4.231031852070467,4.146359377786977,4.148179973718207,4.149867558262135,4.247382089127471,4.149756353810665,4.118477530016159,4.1497762438120445,4.148270985395033,4.149049838685655,4.14930029571729,4.144854059972748,4.151254615727193,4.1481200549997155,4.1496557357558705,4.1473629137547166,4.1479317291745295,4.150862714724474,4.1579541641742255,4.146866504081933,4.147027744007087,4.0015287088114055,4.599323886894002,4.175049046853437,4.1476059207596805,4.156635378838944,4.14977165910623,4.149831277295567,4.150922742136359,4.161461652023784,4.179994211999929,4.149852836149354,4.149927824187669,4.149780385392881,4.149790011908111,4.2931511278911,4.187547354422751,4.150512121436429,4.149077884913365,4.150608798352152,4.149440928839669,4.154109035764469,4.1498467092246445,4.145651217218664,4.159596629287308,4.145808602120016,4.150074325126176,4.158541859374885,4.147767427423672,4.098353589824536,4.148790990295168,4.149792903226719,4.162703257791044,4.156065499975134,4.151207922620647,4.151212024610005,4.178765155850015,4.041992787789275,4.434765430272288,4.162733657077904,4.18465116581479,4.146298133867762,4.149764764038706,4.14255069314245,4.157963023066903,4.169629994668891,4.14949753363916,4.137370569118806,4.146204376127179,4.300684543356943,4.149675462702224,4.150684228519815,4.145908139322219,4.147605922684582,4.149195407674851,4.1477668640795855,4.149853032907654,4.146827581475222,4.148110042075129,4.146215268194481,4.149660929567594,4.189472690595374,4.152421394433116,4.1486560479186725,4.178062427931136,4.149218446997387,4.176562955060709,4.510444239755341,4.149820757570681,4.1558903625259935,4.148890315601725,4.149555025867387,4.147281212587184,4.150049711482611,4.141726661622277,4.149919550079187,4.15923552663592,4.154709219385622,4.367295753731995,4.143345088399427,4.182959871038353,4.188421290477426,4.15100599070621,4.1494072427900806,4.149470848067226,4.373771195799669,4.003037159053482,4.1659423173655785,4.143852480320083,4.16919358086051,4.147482578454492,4.179873071466355,4.122652253446846,4.143675144061721,4.1486659813873255,4.148591541597994,4.153335353836016,4.1498697098075255,4.151383913382501,4.149083701041339,4.27919416548123,4.14776834747582,4.340046581739669,4.140853288762547,4.256443051960238,4.422995153045331,4.254742674715057,4.14906304568147,4.170822585598745,4.161321588316356,4.14944746408005,4.138797708486627,4.149716998480456,4.149723297978278,4.157000281322364,4.1431386671455765,4.158071241583364,4.154941754721771,4.1790338930547,4.1463311951834125,4.14744420264741,4.145703658932884,4.147288629568359,4.150016292075143,4.14859006012666,4.151645929021353,4.259113600871619,4.146788437520522,4.001157810141941,4.415634761448259,4.1417325644526874,4.143948930704294,4.148425255309398,4.148259045595262,4.14532153986127,4.181000880442706,4.208827510395586,4.149648784749351,4.148421101462343,4.147965490668602,4.147617046231443,4.146796723201858,4.141108904891874,4.204688451737041,4.149805852488466,4.017796883140592,4.146096159795008,4.149311405467666,4.162898013678353,4.075623842204746,4.1470908315003445,4.163230446431083,4.172356980046372,4.156835476631362,4.1498444177976666,4.1543319237866605,4.15470257835579,4.149802242146902,4.15593511224627,4.141139935886068,4.149233250522793,4.1496591460272905,4.161711001951016,4.175109064001631,4.1441786841936405,4.149153010914582,4.152693793756856,4.362315201565732,4.14982069549058,4.146164107571855,4.1406349406675265,4.149887301771373,4.149167650373215,4.149739403018267,4.262508272163814,4.148269501998799,4.145886886343528,4.149352423324493,4.147786036040918,4.1485822165470045,4.149560739353581,4.155145612023899,4.149387019935999,4.333247547699341,4.155174147353162,4.1448374443949945,4.149387390785057,4.149873766490377,4.151468618960451,4.134969834870369,4.3136829221526085,4.147486383164926,4.150076225891272,4.259701321482702,4.17360791564229,4.162998577631914,4.144880392180821,4.166086121628111,4.30105866524614,4.161189018322487,4.3767484586655065,4.185452171359013,4.15019256373473,4.0689908585326515,4.179041855330188,4.623308258236875,4.194064391228116,4.146020859277704,4.149961455693418,4.146734694358549,4.140124299550241,4.1463779568130334,4.149774618118551,4.1432890709425445,4.149830244135615,4.14809224324521,4.14976887511159,4.13912007661588,4.148030533861282,4.168046339853917,4.182334964464314,4.1506184186840365,4.16660520138829,4.147121156225179,4.149483641650104,4.3449446394759565,4.127264427339347,4.147938489392303,4.1490057984897835,4.14977073962864,4.148678322041555,4.14787224350447,4.193267366621778,4.164423123562855,4.156156103207041,4.149813657138613,4.166112566326439,4.151594240831506,4.147771612487458,4.569722812499166,4.152559542202702,4.148343067817012,4.1485870309961115,4.149137689985405,4.046484530135384,4.168834217413977,4.187161922964481,4.150709060445006,4.144161075614914,4.149988304388493,4.144777486393679,4.150620280709479,4.150029034860115,4.1496054094764165,4.173668509305883,4.179971517502195,4.147767798272731,4.1497882874056815,4.149134267788672,4.161298595674713,4.1489080787863735,4.144349269589073,4.146096310284622,4.243346971296927,4.143872891248041,4.17464611719602,4.14797216595166,4.145132455367917,4.037456058358724,4.146885427719887,4.147278881768692,4.149443957873329,4.149861481106894,4.149191675843817,4.168234808760797,4.149948002374476,4.1499304972653075,4.1828508363187415,4.123883016927778,4.163997045910665,4.169054841483343,4.160123260889269,4.181848247215611,4.14902210806822,4.147772055966407,4.148050580417,4.143905153191252,4.149642763818963,4.149711339774238,4.1541901609164515,4.14894998147454,4.149514885059782,4.149986828772406,4.413536707444835,4.4802573494776246,4.1474918721766665,4.149235096987939,4.151089979557921,4.150044181945143,4.149868170295804,4.163797337197325,4.149396338527011,4.185773191741019,4.149857755131109,4.149844139312141,4.149202625978199,4.146794044604299,4.189756626648325,4.156175728261771,4.196791733858064,4.211905046776077,4.193303349316436,4.178869121379071,4.159400278986044,4.152440836835137,4.143814409546462,4.148682618061416,4.1450406143734115,4.145459201418917,4.159239512556253,4.564498251937479,4.155861655425758,4.200589223686134,4.095762672357508,4.158830289699102,4.012896961552593,4.287182515222731,4.172112012343749,4.157885806098935,4.140262347282617,4.152145753024988,4.147626916799818,4.147167439727633,4.140868242011118,4.149670629631786,4.149986849774755,4.146230031191859,4.16243837736462,4.139993486882997,4.149813349214395,4.149397785866474,4.147489696439577,4.149528075848814,4.411635333349341,4.725431764400426,4.204351313625876,4.144879392083349,4.14940220918711,4.149170576187123,4.179309663396114,4.148958173199329,3.999535718027473,4.226771730003191,4.198116213188692,4.1514082260372565,4.155708725556783,4.23185664118996,4.149364831917314,4.167852652574864,4.146218534871037,4.149546778078835,4.148613052768303,4.149440406479072,4.14879752680859,4.14956903664142,4.145852410835562,4.178845642803017,4.1485445234939196,4.157091743595279,4.194299343520793,4.163506358651259,4.149705035340239,4.135464942730688,4.149379704096757,4.150752195039501,4.395995246273152,4.148766940251041,4.121846894880023,4.360694793434648,4.149980132992874,4.1477350906067345,4.149478628117311,4.148799384309741,4.163443391592296,4.141104412177914,4.14937565162518,4.1467184724395665,4.15344892960786,4.149924645676737,4.181145649020219,4.147770943419231,4.157092485293397,4.150261774995412,4.1627580340373775,4.052450319193907,4.150755202343608,4.149234551546877,4.270618235975364,4.148907019208577,3.9904131087256767,4.160274136813073,4.20366369982783,4.146829495363626,4.149873757865488,4.134300392676202,4.193593749433595,4.149023184234316,4.151538320425121,4.3136832930016675,4.151293219775685,4.147740345800024,4.643471663916236,4.155489294548073,4.156822115052645,4.319344436117946,4.148002718132436,4.163493124801464,4.143971985748216,4.145184523057219,4.149164603862529,4.225536122560317,4.145405662173959,4.149243200522538,4.149218705659024,4.150463528259856,4.148097780986199,4.199986308167042,4.1487587574507625,4.2100019821472525,4.230658448553031,4.368069492649118,4.150900628016257,4.149129606445318,4.1419617737170284,4.309929262591171,4.152316457696168,4.147483904896841,4.1485934684731784,4.148989118062288,4.147750958224141,4.145877153890104,4.149875936440037,4.172486377973366,4.250228192354851,4.181119171526544,4.149739881516366,4.161055943673964,4.178227122015252,4.1492667517447686,4.161330276520022,4.150993811293284,4.149716154956754,4.137490275563297,4.148275891330782,4.156060663925714,4.157363490359622,4.160377502023982,4.185298795451661,4.13857381595233,4.1436360493075775,4.150161218853709,4.144763891046622,4.149292046191494,4.235551480341428,4.149635954024168,4.149756039097867,4.351018418173152,4.149745735645373,4.146138004875866,4.147357609418188,4.155181826261313,4.149133225262834,4.148105962735483,4.172641104928691,4.149621642907812,4.146070641973179,4.179806537011341,4.149250617503714,4.524640017528226,4.148421101462343,4.149671311416339,4.1482831527089825,3.9954849995556594,4.150020850915475,4.191356835240526,4.142422459094508,4.147531333702523,4.155460324110675,4.148348983243575,4.14867739990666,4.149640950399314,4.1432007011135275,4.172672691909775,4.144378913406878,4.1558742642796656,4.168690429121113,4.1508566152999204,4.20344976140566,4.147304766643085,4.15220418123734,4.147548905130228,4.1558903625259935,4.148816992157648,4.1499304123509315,4.167853259554467,4.145647814403086,4.292913251459224,4.162050897409563,4.175452899469734,4.148861791183706,4.14894369452574,4.178047901367329,4.149594797558795,4.148694994688901,4.149217272047931,4.154728125456111,4.147940343637597,4.149405245839829,4.307640605326851,4.146253309004036,4.14890434815414,4.167145116781571,4.140776389640133,4.146449823728946,4.149322886389279,4.139500067329039,4.150033840337581,4.147385438496803,4.153522495166091,4.5531698869600445,4.1700701228106665,4.147826786284112,4.149860052855352,4.156056272809746,4.242780787889844,4.147455877322262,4.15398827897172,4.146956947893636,4.1499830476519275,4.1915613934143225,4.183593665141809,4.151706527176282,4.145167068214208,4.14283472229309,4.230372326841022,4.209845859397395,4.149185203852586,4.1466436653369705,4.143221249808694,4.424064819352915,4.150541879590284,4.153075928045988,4.1496009296604734,4.014872134004152,4.148902283830741,4.222457417320624,4.149791784824295,4.150982517256328,4.1576304207619,4.203140888278888,4.151810134626813,4.06884697426945,4.639201036134654,4.149822612660715,4.1538017362208155,4.188291954909152,4.147641163626504,4.257856806401889,4.145914628894048,4.164170046067268,4.143270572733509,4.135226289438218,4.1460210625739125,4.147236979066819,4.155099105191659,4.165350124296077,4.199149642115169,4.149880015618595,4.222153894154918,4.215423930388986,4.149792960296312,4.144279258807638,4.148204395263929,4.248685963297467,4.149348893187936,4.149993794494483,4.148958986835514,4.162551943410029,4.153661705591239,4.149385591684456,4.269384327851454,4.159290782553846,4.15966246166071,4.143438073942417,4.1484222140095195,4.148828835987081,4.149766054542117,4.423996953975163,4.156133511112183,4.14837490802947,4.198296694448007,4.148515943121503,4.148096956633934,4.145595464208423,4.238333610045948,4.149558836487094,4.149678745721623,4.149434125546609,4.167930245723693,4.137444498689581,4.149116896596476,4.14826906044475,4.1498926013072355,4.148704992214279,4.136847534501361,4.144681765591804,4.147777175223339,4.134398943346507,4.142303313750268,4.147425103946882,4.150087687000062,4.149716325958937,4.174841873808468,4.149841339828533,4.14042785392718,4.141587694096721,4.149416875592228,4.2626534277709665,4.217945429099341,4.149724576836065,4.167611356946253,4.106892054140581,4.149336615584602,4.1490671153160665,4.147891784906604,4.1457079466821005,4.145482973895371,3.4355725647019066,4.1497250744220855,4.148886977799107,4.148890298116526,4.149215010144744,4.149369242360534,4.1473594636634825,4.149983057356978,4.153438669718041,4.177913353264192,4.1494801115135465,4.151863282159984,4.149627416715668,4.149970140564762,4.149843449384603,4.182197708292977,4.168662778838919,4.150075634678261,4.149641638966962,4.15214531736484,4.185481624853573,4.164908764032182,4.1822637387882375,4.149889334370696,4.1418361875923555,4.208082679546669,4.168780502962988,4.138403287787581,4.140757769385708,4.149106064011196,4.149942656225118,4.152132210553235,4.149794330821474,4.14514624780268,4.149630906354132,4.14938991345588,4.152940654747609,4.147962223732063,4.149264092391119,4.149998986381306,4.152712931670823,4.147986644464159,4.149853875747705,4.71588526927896,4.144543090539534,4.167612469493429,4.146011025282448,4.149776224724124,4.148930077780122,4.14947747598574,4.146138323825305,4.148132365648546,4.149833830810611,4.143065200156444,4.142969940595877,4.314753449267,4.1636657330391795,4.147874308398242,4.149889334370696,4.159512747949647,4.2088267686974685,4.149024508499954,4.148394422825818,4.154939843951907,4.19459586749417,4.18746730550119,4.147292708908005,4.156611422042764,4.196226980683103,4.157277227767768,4.149979507996988,4.149184970770737,4.119885943776347,4.169899259493651,4.148875544564215,4.151000864179117,4.5968029146356795,4.146243487999179,4.14924991470634,4.1487882277954755,4.159748829398182,4.137905505554349,4.1696879996064915,4.164150859680963,4.150612221561226,4.448867927764817,4.148607344140415,4.147513730035411,4.150176636313123,4.135030581432386,4.273830890993151,4.150087870034919,4.1489407102480715,4.2088267686974685,4.156054687884074,4.146801094498443,4.1481348889620655,4.160776398715249,4.10093707457748,4.149444084010154,4.141499527146333,4.272490134243416,4.145760062638034,4.14795399434778,4.245049524782757,4.14928299641961,4.152412081721914,4.148258198173005,4.162928925368125,4.204543462703194,4.148266462576437,4.149926758160295,4.138723083505439,4.161695430191841,4.148425108172098,4.147449202039204,4.15738700167315,4.160860446056429,4.148597855575953,4.150252803010925,4.149662806992245,4.153661242021219,4.220833425249632,4.148586985685149,4.148592363022499,4.1651195593588115,4.123464777881031,4.149553317834025,4.310976180426194,4.1457263739261645,4.145339615765267,4.150107736189682,4.157437901370074,4.1571020159051235,4.147945464819429,4.21114563923137,4.1495562280876355,4.155839097873891,4.1486927618144,4.1464704839398925,4.148329879690386,4.149276916666291,4.164534295197104,4.199568068127066,4.148263568413858,4.141898459085452,4.146926950864592,4.1621775001497285,4.151909901830199,4.155428809720829,4.144343706853191],\"yaxis\":\"y\",\"type\":\"scattergl\"},{\"hovertemplate\":\"<b>OLS trendline</b><br>Predicted = 0.020061 * Actual + 4.08432<br>R<sup>2</sup>=0.019960<br><br>Actual=%{x}<br>Predicted=%{y} <b>(trend)</b><extra></extra>\",\"legendgroup\":\"\",\"line\":{\"color\":\"black\"},\"marker\":{\"color\":\"#636efa\",\"symbol\":\"circle\"},\"mode\":\"lines\",\"name\":\"\",\"showlegend\":false,\"x\":[1.0,1.0,1.0,1.0,1.4,1.6,1.7,1.7,1.7,1.7,1.8,1.8,1.9,1.9,2.0,2.0,2.2,2.2,2.3,2.3,2.3,2.3,2.3,2.3,2.3,2.4,2.4,2.4,2.5,2.5,2.5,2.6,2.6,2.6,2.6,2.6,2.6,2.7,2.7,2.7,2.7,2.8,2.8,2.8,2.8,2.8,2.8,2.8,2.8,2.9,2.9,2.9,2.9,2.9,2.9,2.9,2.9,2.9,3.0,3.0,3.0,3.0,3.0,3.0,3.0,3.0,3.0,3.0,3.0,3.0,3.0,3.0,3.0,3.0,3.0,3.0,3.0,3.0,3.1,3.1,3.1,3.1,3.1,3.1,3.1,3.1,3.2,3.2,3.2,3.2,3.2,3.2,3.2,3.2,3.2,3.2,3.3,3.3,3.3,3.3,3.3,3.3,3.3,3.3,3.3,3.3,3.3,3.3,3.3,3.3,3.3,3.3,3.3,3.3,3.4,3.4,3.4,3.4,3.4,3.4,3.4,3.4,3.4,3.4,3.4,3.4,3.4,3.4,3.4,3.4,3.4,3.4,3.4,3.4,3.4,3.4,3.5,3.5,3.5,3.5,3.5,3.5,3.5,3.5,3.5,3.5,3.5,3.5,3.5,3.5,3.5,3.5,3.5,3.5,3.5,3.5,3.5,3.5,3.5,3.5,3.5,3.5,3.5,3.5,3.5,3.5,3.5,3.5,3.5,3.5,3.5,3.5,3.5,3.5,3.6,3.6,3.6,3.6,3.6,3.6,3.6,3.6,3.6,3.6,3.6,3.6,3.6,3.6,3.6,3.6,3.6,3.6,3.6,3.6,3.6,3.6,3.6,3.6,3.6,3.6,3.6,3.6,3.6,3.6,3.6,3.6,3.6,3.6,3.7,3.7,3.7,3.7,3.7,3.7,3.7,3.7,3.7,3.7,3.7,3.7,3.7,3.7,3.7,3.7,3.7,3.7,3.7,3.7,3.7,3.7,3.7,3.7,3.7,3.7,3.7,3.7,3.7,3.7,3.7,3.7,3.7,3.7,3.7,3.7,3.7,3.7,3.7,3.7,3.7,3.8,3.8,3.8,3.8,3.8,3.8,3.8,3.8,3.8,3.8,3.8,3.8,3.8,3.8,3.8,3.8,3.8,3.8,3.8,3.8,3.8,3.8,3.8,3.8,3.8,3.8,3.8,3.8,3.8,3.8,3.8,3.8,3.8,3.8,3.8,3.8,3.8,3.8,3.8,3.8,3.8,3.8,3.8,3.8,3.8,3.8,3.8,3.8,3.8,3.8,3.8,3.8,3.8,3.8,3.8,3.8,3.9,3.9,3.9,3.9,3.9,3.9,3.9,3.9,3.9,3.9,3.9,3.9,3.9,3.9,3.9,3.9,3.9,3.9,3.9,3.9,3.9,3.9,3.9,3.9,3.9,3.9,3.9,3.9,3.9,3.9,3.9,3.9,3.9,3.9,3.9,3.9,3.9,3.9,3.9,3.9,3.9,3.9,3.9,3.9,3.9,3.9,3.9,3.9,3.9,3.9,3.9,3.9,3.9,3.9,3.9,3.9,3.9,3.9,3.9,3.9,3.9,3.9,3.9,3.9,3.9,4.0,4.0,4.0,4.0,4.0,4.0,4.0,4.0,4.0,4.0,4.0,4.0,4.0,4.0,4.0,4.0,4.0,4.0,4.0,4.0,4.0,4.0,4.0,4.0,4.0,4.0,4.0,4.0,4.0,4.0,4.0,4.0,4.0,4.0,4.0,4.0,4.0,4.0,4.0,4.0,4.0,4.0,4.0,4.0,4.0,4.0,4.0,4.0,4.0,4.0,4.0,4.0,4.0,4.0,4.0,4.0,4.0,4.0,4.0,4.0,4.0,4.0,4.0,4.0,4.0,4.0,4.0,4.0,4.0,4.0,4.0,4.0,4.0,4.0,4.0,4.0,4.0,4.0,4.0,4.0,4.0,4.0,4.0,4.0,4.0,4.0,4.0,4.0,4.0,4.0,4.0,4.0,4.0,4.0,4.0,4.0,4.0,4.0,4.0,4.0,4.0,4.0,4.0,4.0,4.0,4.0,4.0,4.0,4.0,4.0,4.1,4.1,4.1,4.1,4.1,4.1,4.1,4.1,4.1,4.1,4.1,4.1,4.1,4.1,4.1,4.1,4.1,4.1,4.1,4.1,4.1,4.1,4.1,4.1,4.1,4.1,4.1,4.1,4.1,4.1,4.1,4.1,4.1,4.1,4.1,4.1,4.1,4.1,4.1,4.1,4.1,4.1,4.1,4.1,4.1,4.1,4.1,4.1,4.1,4.1,4.1,4.1,4.1,4.1,4.1,4.1,4.1,4.1,4.1,4.1,4.1,4.1,4.1,4.1,4.1,4.1,4.1,4.1,4.1,4.1,4.1,4.1,4.1,4.1,4.1,4.1,4.1,4.1,4.1,4.1,4.1,4.1,4.1,4.1,4.1,4.1,4.1,4.1,4.1,4.1,4.1,4.1,4.1,4.1,4.1,4.1,4.1,4.1,4.1,4.1,4.1,4.1,4.1,4.1,4.1,4.1,4.1,4.1,4.1,4.1,4.1,4.1,4.1,4.1,4.1,4.1,4.1,4.1,4.1,4.1,4.1,4.1,4.1,4.1,4.1,4.2,4.2,4.2,4.2,4.2,4.2,4.2,4.2,4.2,4.2,4.2,4.2,4.2,4.2,4.2,4.2,4.2,4.2,4.2,4.2,4.2,4.2,4.2,4.2,4.2,4.2,4.2,4.2,4.2,4.2,4.2,4.2,4.2,4.2,4.2,4.2,4.2,4.2,4.2,4.2,4.2,4.2,4.2,4.2,4.2,4.2,4.2,4.2,4.2,4.2,4.2,4.2,4.2,4.2,4.2,4.2,4.2,4.2,4.2,4.2,4.2,4.2,4.2,4.2,4.2,4.2,4.2,4.2,4.2,4.2,4.2,4.2,4.2,4.2,4.2,4.2,4.2,4.2,4.2,4.2,4.2,4.2,4.2,4.2,4.2,4.2,4.2,4.2,4.2,4.2,4.2,4.2,4.2,4.2,4.2,4.2,4.2,4.2,4.2,4.2,4.2,4.2,4.2,4.2,4.2,4.2,4.2,4.2,4.2,4.2,4.2,4.2,4.2,4.2,4.2,4.2,4.2,4.2,4.2,4.2,4.2,4.2,4.2,4.2,4.2,4.2,4.2,4.2,4.2,4.2,4.2,4.2,4.2,4.2,4.2,4.2,4.2,4.2,4.2,4.2,4.2,4.2,4.2,4.2,4.2,4.2,4.2,4.2,4.2,4.2,4.3,4.3,4.3,4.3,4.3,4.3,4.3,4.3,4.3,4.3,4.3,4.3,4.3,4.3,4.3,4.3,4.3,4.3,4.3,4.3,4.3,4.3,4.3,4.3,4.3,4.3,4.3,4.3,4.3,4.3,4.3,4.3,4.3,4.3,4.3,4.3,4.3,4.3,4.3,4.3,4.3,4.3,4.3,4.3,4.3,4.3,4.3,4.3,4.3,4.3,4.3,4.3,4.3,4.3,4.3,4.3,4.3,4.3,4.3,4.3,4.3,4.3,4.3,4.3,4.3,4.3,4.3,4.3,4.3,4.3,4.3,4.3,4.3,4.3,4.3,4.3,4.3,4.3,4.3,4.3,4.3,4.3,4.3,4.3,4.3,4.3,4.3,4.3,4.3,4.3,4.3,4.3,4.3,4.3,4.3,4.3,4.3,4.3,4.3,4.3,4.3,4.3,4.3,4.3,4.3,4.3,4.3,4.3,4.3,4.3,4.3,4.3,4.3,4.3,4.3,4.3,4.3,4.3,4.3,4.3,4.3,4.3,4.3,4.3,4.3,4.3,4.3,4.3,4.3,4.3,4.3,4.3,4.3,4.3,4.3,4.3,4.3,4.3,4.3,4.4,4.4,4.4,4.4,4.4,4.4,4.4,4.4,4.4,4.4,4.4,4.4,4.4,4.4,4.4,4.4,4.4,4.4,4.4,4.4,4.4,4.4,4.4,4.4,4.4,4.4,4.4,4.4,4.4,4.4,4.4,4.4,4.4,4.4,4.4,4.4,4.4,4.4,4.4,4.4,4.4,4.4,4.4,4.4,4.4,4.4,4.4,4.4,4.4,4.4,4.4,4.4,4.4,4.4,4.4,4.4,4.4,4.4,4.4,4.4,4.4,4.4,4.4,4.4,4.4,4.4,4.4,4.4,4.4,4.4,4.4,4.4,4.4,4.4,4.4,4.4,4.4,4.4,4.4,4.4,4.4,4.4,4.4,4.4,4.4,4.4,4.4,4.4,4.4,4.4,4.4,4.4,4.4,4.4,4.4,4.4,4.4,4.4,4.4,4.4,4.4,4.4,4.4,4.4,4.4,4.4,4.4,4.4,4.4,4.4,4.4,4.4,4.4,4.4,4.4,4.4,4.4,4.4,4.4,4.4,4.4,4.4,4.4,4.4,4.4,4.4,4.4,4.4,4.4,4.4,4.4,4.4,4.4,4.4,4.4,4.4,4.4,4.4,4.4,4.4,4.4,4.4,4.4,4.5,4.5,4.5,4.5,4.5,4.5,4.5,4.5,4.5,4.5,4.5,4.5,4.5,4.5,4.5,4.5,4.5,4.5,4.5,4.5,4.5,4.5,4.5,4.5,4.5,4.5,4.5,4.5,4.5,4.5,4.5,4.5,4.5,4.5,4.5,4.5,4.5,4.5,4.5,4.5,4.5,4.5,4.5,4.5,4.5,4.5,4.5,4.5,4.5,4.5,4.5,4.5,4.5,4.5,4.5,4.5,4.5,4.5,4.5,4.5,4.5,4.5,4.5,4.5,4.5,4.5,4.5,4.5,4.5,4.5,4.5,4.5,4.5,4.5,4.5,4.5,4.5,4.5,4.5,4.5,4.5,4.5,4.5,4.5,4.5,4.5,4.5,4.5,4.5,4.5,4.5,4.5,4.5,4.5,4.5,4.5,4.5,4.5,4.5,4.5,4.5,4.5,4.5,4.5,4.5,4.5,4.5,4.5,4.5,4.5,4.5,4.5,4.5,4.5,4.5,4.5,4.5,4.5,4.5,4.5,4.5,4.5,4.5,4.5,4.5,4.5,4.5,4.5,4.5,4.5,4.5,4.5,4.5,4.5,4.5,4.5,4.5,4.5,4.5,4.5,4.5,4.5,4.5,4.5,4.5,4.6,4.6,4.6,4.6,4.6,4.6,4.6,4.6,4.6,4.6,4.6,4.6,4.6,4.6,4.6,4.6,4.6,4.6,4.6,4.6,4.6,4.6,4.6,4.6,4.6,4.6,4.6,4.6,4.6,4.6,4.6,4.6,4.6,4.6,4.6,4.6,4.6,4.6,4.6,4.6,4.6,4.6,4.6,4.6,4.6,4.6,4.6,4.6,4.6,4.6,4.6,4.6,4.6,4.6,4.6,4.6,4.6,4.6,4.6,4.6,4.6,4.6,4.6,4.6,4.6,4.6,4.6,4.6,4.6,4.6,4.6,4.6,4.6,4.6,4.6,4.6,4.6,4.6,4.6,4.6,4.6,4.6,4.6,4.6,4.6,4.6,4.6,4.6,4.6,4.6,4.6,4.6,4.6,4.6,4.6,4.6,4.6,4.6,4.6,4.6,4.6,4.6,4.6,4.6,4.6,4.6,4.6,4.6,4.6,4.6,4.6,4.6,4.6,4.6,4.6,4.6,4.6,4.6,4.6,4.6,4.6,4.6,4.6,4.6,4.6,4.6,4.6,4.7,4.7,4.7,4.7,4.7,4.7,4.7,4.7,4.7,4.7,4.7,4.7,4.7,4.7,4.7,4.7,4.7,4.7,4.7,4.7,4.7,4.7,4.7,4.7,4.7,4.7,4.7,4.7,4.7,4.7,4.7,4.7,4.7,4.7,4.7,4.7,4.7,4.7,4.7,4.7,4.7,4.7,4.7,4.7,4.7,4.7,4.7,4.7,4.7,4.7,4.7,4.7,4.7,4.7,4.7,4.7,4.7,4.7,4.7,4.7,4.7,4.7,4.7,4.7,4.7,4.7,4.7,4.7,4.7,4.7,4.7,4.7,4.7,4.7,4.7,4.7,4.7,4.7,4.7,4.7,4.7,4.7,4.7,4.7,4.7,4.7,4.8,4.8,4.8,4.8,4.8,4.8,4.8,4.8,4.8,4.8,4.8,4.8,4.8,4.8,4.8,4.8,4.8,4.8,4.8,4.8,4.8,4.8,4.8,4.8,4.8,4.8,4.8,4.8,4.8,4.8,4.8,4.8,4.8,4.8,4.8,4.8,4.8,4.9,4.9,4.9,4.9,4.9,4.9,4.9,4.9,4.9,4.9,4.9,4.9,4.9,4.9,4.9,4.9,5.0,5.0,5.0,5.0,5.0,5.0,5.0,5.0,5.0,5.0,5.0,5.0,5.0,5.0,5.0,5.0,5.0,5.0,5.0,5.0,5.0,5.0,5.0,5.0,5.0,5.0,5.0,5.0,5.0,5.0,5.0,5.0,5.0,5.0,5.0,5.0,5.0,5.0,5.0,5.0,5.0,5.0,5.0,5.0,5.0,5.0,5.0,5.0,5.0],\"xaxis\":\"x\",\"y\":[4.1043846272269775,4.1043846272269775,4.1043846272269775,4.1043846272269775,4.112409038975225,4.11642124484935,4.118427347786412,4.118427347786412,4.118427347786412,4.118427347786412,4.120433450723474,4.120433450723474,4.122439553660536,4.122439553660536,4.124445656597598,4.124445656597598,4.128457862471722,4.128457862471722,4.130463965408784,4.130463965408784,4.130463965408784,4.130463965408784,4.130463965408784,4.130463965408784,4.130463965408784,4.132470068345846,4.132470068345846,4.132470068345846,4.134476171282908,4.134476171282908,4.134476171282908,4.13648227421997,4.13648227421997,4.13648227421997,4.13648227421997,4.13648227421997,4.13648227421997,4.138488377157032,4.138488377157032,4.138488377157032,4.138488377157032,4.140494480094095,4.140494480094095,4.140494480094095,4.140494480094095,4.140494480094095,4.140494480094095,4.140494480094095,4.140494480094095,4.142500583031157,4.142500583031157,4.142500583031157,4.142500583031157,4.142500583031157,4.142500583031157,4.142500583031157,4.142500583031157,4.142500583031157,4.144506685968219,4.144506685968219,4.144506685968219,4.144506685968219,4.144506685968219,4.144506685968219,4.144506685968219,4.144506685968219,4.144506685968219,4.144506685968219,4.144506685968219,4.144506685968219,4.144506685968219,4.144506685968219,4.144506685968219,4.144506685968219,4.144506685968219,4.144506685968219,4.144506685968219,4.144506685968219,4.14651278890528,4.14651278890528,4.14651278890528,4.14651278890528,4.14651278890528,4.14651278890528,4.14651278890528,4.14651278890528,4.148518891842342,4.148518891842342,4.148518891842342,4.148518891842342,4.148518891842342,4.148518891842342,4.148518891842342,4.148518891842342,4.148518891842342,4.148518891842342,4.1505249947794045,4.1505249947794045,4.1505249947794045,4.1505249947794045,4.1505249947794045,4.1505249947794045,4.1505249947794045,4.1505249947794045,4.1505249947794045,4.1505249947794045,4.1505249947794045,4.1505249947794045,4.1505249947794045,4.1505249947794045,4.1505249947794045,4.1505249947794045,4.1505249947794045,4.1505249947794045,4.152531097716467,4.152531097716467,4.152531097716467,4.152531097716467,4.152531097716467,4.152531097716467,4.152531097716467,4.152531097716467,4.152531097716467,4.152531097716467,4.152531097716467,4.152531097716467,4.152531097716467,4.152531097716467,4.152531097716467,4.152531097716467,4.152531097716467,4.152531097716467,4.152531097716467,4.152531097716467,4.152531097716467,4.152531097716467,4.154537200653529,4.154537200653529,4.154537200653529,4.154537200653529,4.154537200653529,4.154537200653529,4.154537200653529,4.154537200653529,4.154537200653529,4.154537200653529,4.154537200653529,4.154537200653529,4.154537200653529,4.154537200653529,4.154537200653529,4.154537200653529,4.154537200653529,4.154537200653529,4.154537200653529,4.154537200653529,4.154537200653529,4.154537200653529,4.154537200653529,4.154537200653529,4.154537200653529,4.154537200653529,4.154537200653529,4.154537200653529,4.154537200653529,4.154537200653529,4.154537200653529,4.154537200653529,4.154537200653529,4.154537200653529,4.154537200653529,4.154537200653529,4.154537200653529,4.154537200653529,4.156543303590591,4.156543303590591,4.156543303590591,4.156543303590591,4.156543303590591,4.156543303590591,4.156543303590591,4.156543303590591,4.156543303590591,4.156543303590591,4.156543303590591,4.156543303590591,4.156543303590591,4.156543303590591,4.156543303590591,4.156543303590591,4.156543303590591,4.156543303590591,4.156543303590591,4.156543303590591,4.156543303590591,4.156543303590591,4.156543303590591,4.156543303590591,4.156543303590591,4.156543303590591,4.156543303590591,4.156543303590591,4.156543303590591,4.156543303590591,4.156543303590591,4.156543303590591,4.156543303590591,4.156543303590591,4.158549406527653,4.158549406527653,4.158549406527653,4.158549406527653,4.158549406527653,4.158549406527653,4.158549406527653,4.158549406527653,4.158549406527653,4.158549406527653,4.158549406527653,4.158549406527653,4.158549406527653,4.158549406527653,4.158549406527653,4.158549406527653,4.158549406527653,4.158549406527653,4.158549406527653,4.158549406527653,4.158549406527653,4.158549406527653,4.158549406527653,4.158549406527653,4.158549406527653,4.158549406527653,4.158549406527653,4.158549406527653,4.158549406527653,4.158549406527653,4.158549406527653,4.158549406527653,4.158549406527653,4.158549406527653,4.158549406527653,4.158549406527653,4.158549406527653,4.158549406527653,4.158549406527653,4.158549406527653,4.158549406527653,4.160555509464715,4.160555509464715,4.160555509464715,4.160555509464715,4.160555509464715,4.160555509464715,4.160555509464715,4.160555509464715,4.160555509464715,4.160555509464715,4.160555509464715,4.160555509464715,4.160555509464715,4.160555509464715,4.160555509464715,4.160555509464715,4.160555509464715,4.160555509464715,4.160555509464715,4.160555509464715,4.160555509464715,4.160555509464715,4.160555509464715,4.160555509464715,4.160555509464715,4.160555509464715,4.160555509464715,4.160555509464715,4.160555509464715,4.160555509464715,4.160555509464715,4.160555509464715,4.160555509464715,4.160555509464715,4.160555509464715,4.160555509464715,4.160555509464715,4.160555509464715,4.160555509464715,4.160555509464715,4.160555509464715,4.160555509464715,4.160555509464715,4.160555509464715,4.160555509464715,4.160555509464715,4.160555509464715,4.160555509464715,4.160555509464715,4.160555509464715,4.160555509464715,4.160555509464715,4.160555509464715,4.160555509464715,4.160555509464715,4.160555509464715,4.162561612401777,4.162561612401777,4.162561612401777,4.162561612401777,4.162561612401777,4.162561612401777,4.162561612401777,4.162561612401777,4.162561612401777,4.162561612401777,4.162561612401777,4.162561612401777,4.162561612401777,4.162561612401777,4.162561612401777,4.162561612401777,4.162561612401777,4.162561612401777,4.162561612401777,4.162561612401777,4.162561612401777,4.162561612401777,4.162561612401777,4.162561612401777,4.162561612401777,4.162561612401777,4.162561612401777,4.162561612401777,4.162561612401777,4.162561612401777,4.162561612401777,4.162561612401777,4.162561612401777,4.162561612401777,4.162561612401777,4.162561612401777,4.162561612401777,4.162561612401777,4.162561612401777,4.162561612401777,4.162561612401777,4.162561612401777,4.162561612401777,4.162561612401777,4.162561612401777,4.162561612401777,4.162561612401777,4.162561612401777,4.162561612401777,4.162561612401777,4.162561612401777,4.162561612401777,4.162561612401777,4.162561612401777,4.162561612401777,4.162561612401777,4.162561612401777,4.162561612401777,4.162561612401777,4.162561612401777,4.162561612401777,4.162561612401777,4.162561612401777,4.162561612401777,4.162561612401777,4.164567715338839,4.164567715338839,4.164567715338839,4.164567715338839,4.164567715338839,4.164567715338839,4.164567715338839,4.164567715338839,4.164567715338839,4.164567715338839,4.164567715338839,4.164567715338839,4.164567715338839,4.164567715338839,4.164567715338839,4.164567715338839,4.164567715338839,4.164567715338839,4.164567715338839,4.164567715338839,4.164567715338839,4.164567715338839,4.164567715338839,4.164567715338839,4.164567715338839,4.164567715338839,4.164567715338839,4.164567715338839,4.164567715338839,4.164567715338839,4.164567715338839,4.164567715338839,4.164567715338839,4.164567715338839,4.164567715338839,4.164567715338839,4.164567715338839,4.164567715338839,4.164567715338839,4.164567715338839,4.164567715338839,4.164567715338839,4.164567715338839,4.164567715338839,4.164567715338839,4.164567715338839,4.164567715338839,4.164567715338839,4.164567715338839,4.164567715338839,4.164567715338839,4.164567715338839,4.164567715338839,4.164567715338839,4.164567715338839,4.164567715338839,4.164567715338839,4.164567715338839,4.164567715338839,4.164567715338839,4.164567715338839,4.164567715338839,4.164567715338839,4.164567715338839,4.164567715338839,4.164567715338839,4.164567715338839,4.164567715338839,4.164567715338839,4.164567715338839,4.164567715338839,4.164567715338839,4.164567715338839,4.164567715338839,4.164567715338839,4.164567715338839,4.164567715338839,4.164567715338839,4.164567715338839,4.164567715338839,4.164567715338839,4.164567715338839,4.164567715338839,4.164567715338839,4.164567715338839,4.164567715338839,4.164567715338839,4.164567715338839,4.164567715338839,4.164567715338839,4.164567715338839,4.164567715338839,4.164567715338839,4.164567715338839,4.164567715338839,4.164567715338839,4.164567715338839,4.164567715338839,4.164567715338839,4.164567715338839,4.164567715338839,4.164567715338839,4.164567715338839,4.164567715338839,4.164567715338839,4.164567715338839,4.164567715338839,4.164567715338839,4.164567715338839,4.164567715338839,4.166573818275901,4.166573818275901,4.166573818275901,4.166573818275901,4.166573818275901,4.166573818275901,4.166573818275901,4.166573818275901,4.166573818275901,4.166573818275901,4.166573818275901,4.166573818275901,4.166573818275901,4.166573818275901,4.166573818275901,4.166573818275901,4.166573818275901,4.166573818275901,4.166573818275901,4.166573818275901,4.166573818275901,4.166573818275901,4.166573818275901,4.166573818275901,4.166573818275901,4.166573818275901,4.166573818275901,4.166573818275901,4.166573818275901,4.166573818275901,4.166573818275901,4.166573818275901,4.166573818275901,4.166573818275901,4.166573818275901,4.166573818275901,4.166573818275901,4.166573818275901,4.166573818275901,4.166573818275901,4.166573818275901,4.166573818275901,4.166573818275901,4.166573818275901,4.166573818275901,4.166573818275901,4.166573818275901,4.166573818275901,4.166573818275901,4.166573818275901,4.166573818275901,4.166573818275901,4.166573818275901,4.166573818275901,4.166573818275901,4.166573818275901,4.166573818275901,4.166573818275901,4.166573818275901,4.166573818275901,4.166573818275901,4.166573818275901,4.166573818275901,4.166573818275901,4.166573818275901,4.166573818275901,4.166573818275901,4.166573818275901,4.166573818275901,4.166573818275901,4.166573818275901,4.166573818275901,4.166573818275901,4.166573818275901,4.166573818275901,4.166573818275901,4.166573818275901,4.166573818275901,4.166573818275901,4.166573818275901,4.166573818275901,4.166573818275901,4.166573818275901,4.166573818275901,4.166573818275901,4.166573818275901,4.166573818275901,4.166573818275901,4.166573818275901,4.166573818275901,4.166573818275901,4.166573818275901,4.166573818275901,4.166573818275901,4.166573818275901,4.166573818275901,4.166573818275901,4.166573818275901,4.166573818275901,4.166573818275901,4.166573818275901,4.166573818275901,4.166573818275901,4.166573818275901,4.166573818275901,4.166573818275901,4.166573818275901,4.166573818275901,4.166573818275901,4.166573818275901,4.166573818275901,4.166573818275901,4.166573818275901,4.166573818275901,4.166573818275901,4.166573818275901,4.166573818275901,4.166573818275901,4.166573818275901,4.166573818275901,4.166573818275901,4.166573818275901,4.166573818275901,4.166573818275901,4.166573818275901,4.168579921212963,4.168579921212963,4.168579921212963,4.168579921212963,4.168579921212963,4.168579921212963,4.168579921212963,4.168579921212963,4.168579921212963,4.168579921212963,4.168579921212963,4.168579921212963,4.168579921212963,4.168579921212963,4.168579921212963,4.168579921212963,4.168579921212963,4.168579921212963,4.168579921212963,4.168579921212963,4.168579921212963,4.168579921212963,4.168579921212963,4.168579921212963,4.168579921212963,4.168579921212963,4.168579921212963,4.168579921212963,4.168579921212963,4.168579921212963,4.168579921212963,4.168579921212963,4.168579921212963,4.168579921212963,4.168579921212963,4.168579921212963,4.168579921212963,4.168579921212963,4.168579921212963,4.168579921212963,4.168579921212963,4.168579921212963,4.168579921212963,4.168579921212963,4.168579921212963,4.168579921212963,4.168579921212963,4.168579921212963,4.168579921212963,4.168579921212963,4.168579921212963,4.168579921212963,4.168579921212963,4.168579921212963,4.168579921212963,4.168579921212963,4.168579921212963,4.168579921212963,4.168579921212963,4.168579921212963,4.168579921212963,4.168579921212963,4.168579921212963,4.168579921212963,4.168579921212963,4.168579921212963,4.168579921212963,4.168579921212963,4.168579921212963,4.168579921212963,4.168579921212963,4.168579921212963,4.168579921212963,4.168579921212963,4.168579921212963,4.168579921212963,4.168579921212963,4.168579921212963,4.168579921212963,4.168579921212963,4.168579921212963,4.168579921212963,4.168579921212963,4.168579921212963,4.168579921212963,4.168579921212963,4.168579921212963,4.168579921212963,4.168579921212963,4.168579921212963,4.168579921212963,4.168579921212963,4.168579921212963,4.168579921212963,4.168579921212963,4.168579921212963,4.168579921212963,4.168579921212963,4.168579921212963,4.168579921212963,4.168579921212963,4.168579921212963,4.168579921212963,4.168579921212963,4.168579921212963,4.168579921212963,4.168579921212963,4.168579921212963,4.168579921212963,4.168579921212963,4.168579921212963,4.168579921212963,4.168579921212963,4.168579921212963,4.168579921212963,4.168579921212963,4.168579921212963,4.168579921212963,4.168579921212963,4.168579921212963,4.168579921212963,4.168579921212963,4.168579921212963,4.168579921212963,4.168579921212963,4.168579921212963,4.168579921212963,4.168579921212963,4.168579921212963,4.168579921212963,4.168579921212963,4.168579921212963,4.168579921212963,4.168579921212963,4.168579921212963,4.168579921212963,4.168579921212963,4.168579921212963,4.168579921212963,4.168579921212963,4.168579921212963,4.168579921212963,4.168579921212963,4.168579921212963,4.168579921212963,4.168579921212963,4.168579921212963,4.168579921212963,4.168579921212963,4.168579921212963,4.170586024150025,4.170586024150025,4.170586024150025,4.170586024150025,4.170586024150025,4.170586024150025,4.170586024150025,4.170586024150025,4.170586024150025,4.170586024150025,4.170586024150025,4.170586024150025,4.170586024150025,4.170586024150025,4.170586024150025,4.170586024150025,4.170586024150025,4.170586024150025,4.170586024150025,4.170586024150025,4.170586024150025,4.170586024150025,4.170586024150025,4.170586024150025,4.170586024150025,4.170586024150025,4.170586024150025,4.170586024150025,4.170586024150025,4.170586024150025,4.170586024150025,4.170586024150025,4.170586024150025,4.170586024150025,4.170586024150025,4.170586024150025,4.170586024150025,4.170586024150025,4.170586024150025,4.170586024150025,4.170586024150025,4.170586024150025,4.170586024150025,4.170586024150025,4.170586024150025,4.170586024150025,4.170586024150025,4.170586024150025,4.170586024150025,4.170586024150025,4.170586024150025,4.170586024150025,4.170586024150025,4.170586024150025,4.170586024150025,4.170586024150025,4.170586024150025,4.170586024150025,4.170586024150025,4.170586024150025,4.170586024150025,4.170586024150025,4.170586024150025,4.170586024150025,4.170586024150025,4.170586024150025,4.170586024150025,4.170586024150025,4.170586024150025,4.170586024150025,4.170586024150025,4.170586024150025,4.170586024150025,4.170586024150025,4.170586024150025,4.170586024150025,4.170586024150025,4.170586024150025,4.170586024150025,4.170586024150025,4.170586024150025,4.170586024150025,4.170586024150025,4.170586024150025,4.170586024150025,4.170586024150025,4.170586024150025,4.170586024150025,4.170586024150025,4.170586024150025,4.170586024150025,4.170586024150025,4.170586024150025,4.170586024150025,4.170586024150025,4.170586024150025,4.170586024150025,4.170586024150025,4.170586024150025,4.170586024150025,4.170586024150025,4.170586024150025,4.170586024150025,4.170586024150025,4.170586024150025,4.170586024150025,4.170586024150025,4.170586024150025,4.170586024150025,4.170586024150025,4.170586024150025,4.170586024150025,4.170586024150025,4.170586024150025,4.170586024150025,4.170586024150025,4.170586024150025,4.170586024150025,4.170586024150025,4.170586024150025,4.170586024150025,4.170586024150025,4.170586024150025,4.170586024150025,4.170586024150025,4.170586024150025,4.170586024150025,4.170586024150025,4.170586024150025,4.170586024150025,4.170586024150025,4.170586024150025,4.170586024150025,4.170586024150025,4.170586024150025,4.170586024150025,4.170586024150025,4.170586024150025,4.170586024150025,4.172592127087087,4.172592127087087,4.172592127087087,4.172592127087087,4.172592127087087,4.172592127087087,4.172592127087087,4.172592127087087,4.172592127087087,4.172592127087087,4.172592127087087,4.172592127087087,4.172592127087087,4.172592127087087,4.172592127087087,4.172592127087087,4.172592127087087,4.172592127087087,4.172592127087087,4.172592127087087,4.172592127087087,4.172592127087087,4.172592127087087,4.172592127087087,4.172592127087087,4.172592127087087,4.172592127087087,4.172592127087087,4.172592127087087,4.172592127087087,4.172592127087087,4.172592127087087,4.172592127087087,4.172592127087087,4.172592127087087,4.172592127087087,4.172592127087087,4.172592127087087,4.172592127087087,4.172592127087087,4.172592127087087,4.172592127087087,4.172592127087087,4.172592127087087,4.172592127087087,4.172592127087087,4.172592127087087,4.172592127087087,4.172592127087087,4.172592127087087,4.172592127087087,4.172592127087087,4.172592127087087,4.172592127087087,4.172592127087087,4.172592127087087,4.172592127087087,4.172592127087087,4.172592127087087,4.172592127087087,4.172592127087087,4.172592127087087,4.172592127087087,4.172592127087087,4.172592127087087,4.172592127087087,4.172592127087087,4.172592127087087,4.172592127087087,4.172592127087087,4.172592127087087,4.172592127087087,4.172592127087087,4.172592127087087,4.172592127087087,4.172592127087087,4.172592127087087,4.172592127087087,4.172592127087087,4.172592127087087,4.172592127087087,4.172592127087087,4.172592127087087,4.172592127087087,4.172592127087087,4.172592127087087,4.172592127087087,4.172592127087087,4.172592127087087,4.172592127087087,4.172592127087087,4.172592127087087,4.172592127087087,4.172592127087087,4.172592127087087,4.172592127087087,4.172592127087087,4.172592127087087,4.172592127087087,4.172592127087087,4.172592127087087,4.172592127087087,4.172592127087087,4.172592127087087,4.172592127087087,4.172592127087087,4.172592127087087,4.172592127087087,4.172592127087087,4.172592127087087,4.172592127087087,4.172592127087087,4.172592127087087,4.172592127087087,4.172592127087087,4.172592127087087,4.172592127087087,4.172592127087087,4.172592127087087,4.172592127087087,4.172592127087087,4.172592127087087,4.172592127087087,4.172592127087087,4.172592127087087,4.172592127087087,4.172592127087087,4.172592127087087,4.172592127087087,4.172592127087087,4.172592127087087,4.172592127087087,4.172592127087087,4.172592127087087,4.172592127087087,4.172592127087087,4.172592127087087,4.172592127087087,4.172592127087087,4.172592127087087,4.172592127087087,4.172592127087087,4.172592127087087,4.1745982300241495,4.1745982300241495,4.1745982300241495,4.1745982300241495,4.1745982300241495,4.1745982300241495,4.1745982300241495,4.1745982300241495,4.1745982300241495,4.1745982300241495,4.1745982300241495,4.1745982300241495,4.1745982300241495,4.1745982300241495,4.1745982300241495,4.1745982300241495,4.1745982300241495,4.1745982300241495,4.1745982300241495,4.1745982300241495,4.1745982300241495,4.1745982300241495,4.1745982300241495,4.1745982300241495,4.1745982300241495,4.1745982300241495,4.1745982300241495,4.1745982300241495,4.1745982300241495,4.1745982300241495,4.1745982300241495,4.1745982300241495,4.1745982300241495,4.1745982300241495,4.1745982300241495,4.1745982300241495,4.1745982300241495,4.1745982300241495,4.1745982300241495,4.1745982300241495,4.1745982300241495,4.1745982300241495,4.1745982300241495,4.1745982300241495,4.1745982300241495,4.1745982300241495,4.1745982300241495,4.1745982300241495,4.1745982300241495,4.1745982300241495,4.1745982300241495,4.1745982300241495,4.1745982300241495,4.1745982300241495,4.1745982300241495,4.1745982300241495,4.1745982300241495,4.1745982300241495,4.1745982300241495,4.1745982300241495,4.1745982300241495,4.1745982300241495,4.1745982300241495,4.1745982300241495,4.1745982300241495,4.1745982300241495,4.1745982300241495,4.1745982300241495,4.1745982300241495,4.1745982300241495,4.1745982300241495,4.1745982300241495,4.1745982300241495,4.1745982300241495,4.1745982300241495,4.1745982300241495,4.1745982300241495,4.1745982300241495,4.1745982300241495,4.1745982300241495,4.1745982300241495,4.1745982300241495,4.1745982300241495,4.1745982300241495,4.1745982300241495,4.1745982300241495,4.1745982300241495,4.1745982300241495,4.1745982300241495,4.1745982300241495,4.1745982300241495,4.1745982300241495,4.1745982300241495,4.1745982300241495,4.1745982300241495,4.1745982300241495,4.1745982300241495,4.1745982300241495,4.1745982300241495,4.1745982300241495,4.1745982300241495,4.1745982300241495,4.1745982300241495,4.1745982300241495,4.1745982300241495,4.1745982300241495,4.1745982300241495,4.1745982300241495,4.1745982300241495,4.1745982300241495,4.1745982300241495,4.1745982300241495,4.1745982300241495,4.1745982300241495,4.1745982300241495,4.1745982300241495,4.1745982300241495,4.1745982300241495,4.1745982300241495,4.1745982300241495,4.1745982300241495,4.1745982300241495,4.1745982300241495,4.1745982300241495,4.1745982300241495,4.1745982300241495,4.1745982300241495,4.1745982300241495,4.1745982300241495,4.1745982300241495,4.1745982300241495,4.1745982300241495,4.1745982300241495,4.1745982300241495,4.1745982300241495,4.1745982300241495,4.1745982300241495,4.1745982300241495,4.1745982300241495,4.1745982300241495,4.1745982300241495,4.1745982300241495,4.1745982300241495,4.1745982300241495,4.1745982300241495,4.176604332961212,4.176604332961212,4.176604332961212,4.176604332961212,4.176604332961212,4.176604332961212,4.176604332961212,4.176604332961212,4.176604332961212,4.176604332961212,4.176604332961212,4.176604332961212,4.176604332961212,4.176604332961212,4.176604332961212,4.176604332961212,4.176604332961212,4.176604332961212,4.176604332961212,4.176604332961212,4.176604332961212,4.176604332961212,4.176604332961212,4.176604332961212,4.176604332961212,4.176604332961212,4.176604332961212,4.176604332961212,4.176604332961212,4.176604332961212,4.176604332961212,4.176604332961212,4.176604332961212,4.176604332961212,4.176604332961212,4.176604332961212,4.176604332961212,4.176604332961212,4.176604332961212,4.176604332961212,4.176604332961212,4.176604332961212,4.176604332961212,4.176604332961212,4.176604332961212,4.176604332961212,4.176604332961212,4.176604332961212,4.176604332961212,4.176604332961212,4.176604332961212,4.176604332961212,4.176604332961212,4.176604332961212,4.176604332961212,4.176604332961212,4.176604332961212,4.176604332961212,4.176604332961212,4.176604332961212,4.176604332961212,4.176604332961212,4.176604332961212,4.176604332961212,4.176604332961212,4.176604332961212,4.176604332961212,4.176604332961212,4.176604332961212,4.176604332961212,4.176604332961212,4.176604332961212,4.176604332961212,4.176604332961212,4.176604332961212,4.176604332961212,4.176604332961212,4.176604332961212,4.176604332961212,4.176604332961212,4.176604332961212,4.176604332961212,4.176604332961212,4.176604332961212,4.176604332961212,4.176604332961212,4.176604332961212,4.176604332961212,4.176604332961212,4.176604332961212,4.176604332961212,4.176604332961212,4.176604332961212,4.176604332961212,4.176604332961212,4.176604332961212,4.176604332961212,4.176604332961212,4.176604332961212,4.176604332961212,4.176604332961212,4.176604332961212,4.176604332961212,4.176604332961212,4.176604332961212,4.176604332961212,4.176604332961212,4.176604332961212,4.176604332961212,4.176604332961212,4.176604332961212,4.176604332961212,4.176604332961212,4.176604332961212,4.176604332961212,4.176604332961212,4.176604332961212,4.176604332961212,4.176604332961212,4.176604332961212,4.176604332961212,4.176604332961212,4.176604332961212,4.176604332961212,4.176604332961212,4.176604332961212,4.176604332961212,4.178610435898274,4.178610435898274,4.178610435898274,4.178610435898274,4.178610435898274,4.178610435898274,4.178610435898274,4.178610435898274,4.178610435898274,4.178610435898274,4.178610435898274,4.178610435898274,4.178610435898274,4.178610435898274,4.178610435898274,4.178610435898274,4.178610435898274,4.178610435898274,4.178610435898274,4.178610435898274,4.178610435898274,4.178610435898274,4.178610435898274,4.178610435898274,4.178610435898274,4.178610435898274,4.178610435898274,4.178610435898274,4.178610435898274,4.178610435898274,4.178610435898274,4.178610435898274,4.178610435898274,4.178610435898274,4.178610435898274,4.178610435898274,4.178610435898274,4.178610435898274,4.178610435898274,4.178610435898274,4.178610435898274,4.178610435898274,4.178610435898274,4.178610435898274,4.178610435898274,4.178610435898274,4.178610435898274,4.178610435898274,4.178610435898274,4.178610435898274,4.178610435898274,4.178610435898274,4.178610435898274,4.178610435898274,4.178610435898274,4.178610435898274,4.178610435898274,4.178610435898274,4.178610435898274,4.178610435898274,4.178610435898274,4.178610435898274,4.178610435898274,4.178610435898274,4.178610435898274,4.178610435898274,4.178610435898274,4.178610435898274,4.178610435898274,4.178610435898274,4.178610435898274,4.178610435898274,4.178610435898274,4.178610435898274,4.178610435898274,4.178610435898274,4.178610435898274,4.178610435898274,4.178610435898274,4.178610435898274,4.178610435898274,4.178610435898274,4.178610435898274,4.178610435898274,4.178610435898274,4.178610435898274,4.180616538835335,4.180616538835335,4.180616538835335,4.180616538835335,4.180616538835335,4.180616538835335,4.180616538835335,4.180616538835335,4.180616538835335,4.180616538835335,4.180616538835335,4.180616538835335,4.180616538835335,4.180616538835335,4.180616538835335,4.180616538835335,4.180616538835335,4.180616538835335,4.180616538835335,4.180616538835335,4.180616538835335,4.180616538835335,4.180616538835335,4.180616538835335,4.180616538835335,4.180616538835335,4.180616538835335,4.180616538835335,4.180616538835335,4.180616538835335,4.180616538835335,4.180616538835335,4.180616538835335,4.180616538835335,4.180616538835335,4.180616538835335,4.180616538835335,4.182622641772397,4.182622641772397,4.182622641772397,4.182622641772397,4.182622641772397,4.182622641772397,4.182622641772397,4.182622641772397,4.182622641772397,4.182622641772397,4.182622641772397,4.182622641772397,4.182622641772397,4.182622641772397,4.182622641772397,4.182622641772397,4.1846287447094594,4.1846287447094594,4.1846287447094594,4.1846287447094594,4.1846287447094594,4.1846287447094594,4.1846287447094594,4.1846287447094594,4.1846287447094594,4.1846287447094594,4.1846287447094594,4.1846287447094594,4.1846287447094594,4.1846287447094594,4.1846287447094594,4.1846287447094594,4.1846287447094594,4.1846287447094594,4.1846287447094594,4.1846287447094594,4.1846287447094594,4.1846287447094594,4.1846287447094594,4.1846287447094594,4.1846287447094594,4.1846287447094594,4.1846287447094594,4.1846287447094594,4.1846287447094594,4.1846287447094594,4.1846287447094594,4.1846287447094594,4.1846287447094594,4.1846287447094594,4.1846287447094594,4.1846287447094594,4.1846287447094594,4.1846287447094594,4.1846287447094594,4.1846287447094594,4.1846287447094594,4.1846287447094594,4.1846287447094594,4.1846287447094594,4.1846287447094594,4.1846287447094594,4.1846287447094594,4.1846287447094594,4.1846287447094594],\"yaxis\":\"y\",\"type\":\"scattergl\"}],                        {\"template\":{\"data\":{\"bar\":[{\"error_x\":{\"color\":\"#2a3f5f\"},\"error_y\":{\"color\":\"#2a3f5f\"},\"marker\":{\"line\":{\"color\":\"#E5ECF6\",\"width\":0.5},\"pattern\":{\"fillmode\":\"overlay\",\"size\":10,\"solidity\":0.2}},\"type\":\"bar\"}],\"barpolar\":[{\"marker\":{\"line\":{\"color\":\"#E5ECF6\",\"width\":0.5},\"pattern\":{\"fillmode\":\"overlay\",\"size\":10,\"solidity\":0.2}},\"type\":\"barpolar\"}],\"carpet\":[{\"aaxis\":{\"endlinecolor\":\"#2a3f5f\",\"gridcolor\":\"white\",\"linecolor\":\"white\",\"minorgridcolor\":\"white\",\"startlinecolor\":\"#2a3f5f\"},\"baxis\":{\"endlinecolor\":\"#2a3f5f\",\"gridcolor\":\"white\",\"linecolor\":\"white\",\"minorgridcolor\":\"white\",\"startlinecolor\":\"#2a3f5f\"},\"type\":\"carpet\"}],\"choropleth\":[{\"colorbar\":{\"outlinewidth\":0,\"ticks\":\"\"},\"type\":\"choropleth\"}],\"contour\":[{\"colorbar\":{\"outlinewidth\":0,\"ticks\":\"\"},\"colorscale\":[[0.0,\"#0d0887\"],[0.1111111111111111,\"#46039f\"],[0.2222222222222222,\"#7201a8\"],[0.3333333333333333,\"#9c179e\"],[0.4444444444444444,\"#bd3786\"],[0.5555555555555556,\"#d8576b\"],[0.6666666666666666,\"#ed7953\"],[0.7777777777777778,\"#fb9f3a\"],[0.8888888888888888,\"#fdca26\"],[1.0,\"#f0f921\"]],\"type\":\"contour\"}],\"contourcarpet\":[{\"colorbar\":{\"outlinewidth\":0,\"ticks\":\"\"},\"type\":\"contourcarpet\"}],\"heatmap\":[{\"colorbar\":{\"outlinewidth\":0,\"ticks\":\"\"},\"colorscale\":[[0.0,\"#0d0887\"],[0.1111111111111111,\"#46039f\"],[0.2222222222222222,\"#7201a8\"],[0.3333333333333333,\"#9c179e\"],[0.4444444444444444,\"#bd3786\"],[0.5555555555555556,\"#d8576b\"],[0.6666666666666666,\"#ed7953\"],[0.7777777777777778,\"#fb9f3a\"],[0.8888888888888888,\"#fdca26\"],[1.0,\"#f0f921\"]],\"type\":\"heatmap\"}],\"heatmapgl\":[{\"colorbar\":{\"outlinewidth\":0,\"ticks\":\"\"},\"colorscale\":[[0.0,\"#0d0887\"],[0.1111111111111111,\"#46039f\"],[0.2222222222222222,\"#7201a8\"],[0.3333333333333333,\"#9c179e\"],[0.4444444444444444,\"#bd3786\"],[0.5555555555555556,\"#d8576b\"],[0.6666666666666666,\"#ed7953\"],[0.7777777777777778,\"#fb9f3a\"],[0.8888888888888888,\"#fdca26\"],[1.0,\"#f0f921\"]],\"type\":\"heatmapgl\"}],\"histogram\":[{\"marker\":{\"pattern\":{\"fillmode\":\"overlay\",\"size\":10,\"solidity\":0.2}},\"type\":\"histogram\"}],\"histogram2d\":[{\"colorbar\":{\"outlinewidth\":0,\"ticks\":\"\"},\"colorscale\":[[0.0,\"#0d0887\"],[0.1111111111111111,\"#46039f\"],[0.2222222222222222,\"#7201a8\"],[0.3333333333333333,\"#9c179e\"],[0.4444444444444444,\"#bd3786\"],[0.5555555555555556,\"#d8576b\"],[0.6666666666666666,\"#ed7953\"],[0.7777777777777778,\"#fb9f3a\"],[0.8888888888888888,\"#fdca26\"],[1.0,\"#f0f921\"]],\"type\":\"histogram2d\"}],\"histogram2dcontour\":[{\"colorbar\":{\"outlinewidth\":0,\"ticks\":\"\"},\"colorscale\":[[0.0,\"#0d0887\"],[0.1111111111111111,\"#46039f\"],[0.2222222222222222,\"#7201a8\"],[0.3333333333333333,\"#9c179e\"],[0.4444444444444444,\"#bd3786\"],[0.5555555555555556,\"#d8576b\"],[0.6666666666666666,\"#ed7953\"],[0.7777777777777778,\"#fb9f3a\"],[0.8888888888888888,\"#fdca26\"],[1.0,\"#f0f921\"]],\"type\":\"histogram2dcontour\"}],\"mesh3d\":[{\"colorbar\":{\"outlinewidth\":0,\"ticks\":\"\"},\"type\":\"mesh3d\"}],\"parcoords\":[{\"line\":{\"colorbar\":{\"outlinewidth\":0,\"ticks\":\"\"}},\"type\":\"parcoords\"}],\"pie\":[{\"automargin\":true,\"type\":\"pie\"}],\"scatter\":[{\"marker\":{\"colorbar\":{\"outlinewidth\":0,\"ticks\":\"\"}},\"type\":\"scatter\"}],\"scatter3d\":[{\"line\":{\"colorbar\":{\"outlinewidth\":0,\"ticks\":\"\"}},\"marker\":{\"colorbar\":{\"outlinewidth\":0,\"ticks\":\"\"}},\"type\":\"scatter3d\"}],\"scattercarpet\":[{\"marker\":{\"colorbar\":{\"outlinewidth\":0,\"ticks\":\"\"}},\"type\":\"scattercarpet\"}],\"scattergeo\":[{\"marker\":{\"colorbar\":{\"outlinewidth\":0,\"ticks\":\"\"}},\"type\":\"scattergeo\"}],\"scattergl\":[{\"marker\":{\"colorbar\":{\"outlinewidth\":0,\"ticks\":\"\"}},\"type\":\"scattergl\"}],\"scattermapbox\":[{\"marker\":{\"colorbar\":{\"outlinewidth\":0,\"ticks\":\"\"}},\"type\":\"scattermapbox\"}],\"scatterpolar\":[{\"marker\":{\"colorbar\":{\"outlinewidth\":0,\"ticks\":\"\"}},\"type\":\"scatterpolar\"}],\"scatterpolargl\":[{\"marker\":{\"colorbar\":{\"outlinewidth\":0,\"ticks\":\"\"}},\"type\":\"scatterpolargl\"}],\"scatterternary\":[{\"marker\":{\"colorbar\":{\"outlinewidth\":0,\"ticks\":\"\"}},\"type\":\"scatterternary\"}],\"surface\":[{\"colorbar\":{\"outlinewidth\":0,\"ticks\":\"\"},\"colorscale\":[[0.0,\"#0d0887\"],[0.1111111111111111,\"#46039f\"],[0.2222222222222222,\"#7201a8\"],[0.3333333333333333,\"#9c179e\"],[0.4444444444444444,\"#bd3786\"],[0.5555555555555556,\"#d8576b\"],[0.6666666666666666,\"#ed7953\"],[0.7777777777777778,\"#fb9f3a\"],[0.8888888888888888,\"#fdca26\"],[1.0,\"#f0f921\"]],\"type\":\"surface\"}],\"table\":[{\"cells\":{\"fill\":{\"color\":\"#EBF0F8\"},\"line\":{\"color\":\"white\"}},\"header\":{\"fill\":{\"color\":\"#C8D4E3\"},\"line\":{\"color\":\"white\"}},\"type\":\"table\"}]},\"layout\":{\"annotationdefaults\":{\"arrowcolor\":\"#2a3f5f\",\"arrowhead\":0,\"arrowwidth\":1},\"autotypenumbers\":\"strict\",\"coloraxis\":{\"colorbar\":{\"outlinewidth\":0,\"ticks\":\"\"}},\"colorscale\":{\"diverging\":[[0,\"#8e0152\"],[0.1,\"#c51b7d\"],[0.2,\"#de77ae\"],[0.3,\"#f1b6da\"],[0.4,\"#fde0ef\"],[0.5,\"#f7f7f7\"],[0.6,\"#e6f5d0\"],[0.7,\"#b8e186\"],[0.8,\"#7fbc41\"],[0.9,\"#4d9221\"],[1,\"#276419\"]],\"sequential\":[[0.0,\"#0d0887\"],[0.1111111111111111,\"#46039f\"],[0.2222222222222222,\"#7201a8\"],[0.3333333333333333,\"#9c179e\"],[0.4444444444444444,\"#bd3786\"],[0.5555555555555556,\"#d8576b\"],[0.6666666666666666,\"#ed7953\"],[0.7777777777777778,\"#fb9f3a\"],[0.8888888888888888,\"#fdca26\"],[1.0,\"#f0f921\"]],\"sequentialminus\":[[0.0,\"#0d0887\"],[0.1111111111111111,\"#46039f\"],[0.2222222222222222,\"#7201a8\"],[0.3333333333333333,\"#9c179e\"],[0.4444444444444444,\"#bd3786\"],[0.5555555555555556,\"#d8576b\"],[0.6666666666666666,\"#ed7953\"],[0.7777777777777778,\"#fb9f3a\"],[0.8888888888888888,\"#fdca26\"],[1.0,\"#f0f921\"]]},\"colorway\":[\"#636efa\",\"#EF553B\",\"#00cc96\",\"#ab63fa\",\"#FFA15A\",\"#19d3f3\",\"#FF6692\",\"#B6E880\",\"#FF97FF\",\"#FECB52\"],\"font\":{\"color\":\"#2a3f5f\"},\"geo\":{\"bgcolor\":\"white\",\"lakecolor\":\"white\",\"landcolor\":\"#E5ECF6\",\"showlakes\":true,\"showland\":true,\"subunitcolor\":\"white\"},\"hoverlabel\":{\"align\":\"left\"},\"hovermode\":\"closest\",\"mapbox\":{\"style\":\"light\"},\"paper_bgcolor\":\"white\",\"plot_bgcolor\":\"#E5ECF6\",\"polar\":{\"angularaxis\":{\"gridcolor\":\"white\",\"linecolor\":\"white\",\"ticks\":\"\"},\"bgcolor\":\"#E5ECF6\",\"radialaxis\":{\"gridcolor\":\"white\",\"linecolor\":\"white\",\"ticks\":\"\"}},\"scene\":{\"xaxis\":{\"backgroundcolor\":\"#E5ECF6\",\"gridcolor\":\"white\",\"gridwidth\":2,\"linecolor\":\"white\",\"showbackground\":true,\"ticks\":\"\",\"zerolinecolor\":\"white\"},\"yaxis\":{\"backgroundcolor\":\"#E5ECF6\",\"gridcolor\":\"white\",\"gridwidth\":2,\"linecolor\":\"white\",\"showbackground\":true,\"ticks\":\"\",\"zerolinecolor\":\"white\"},\"zaxis\":{\"backgroundcolor\":\"#E5ECF6\",\"gridcolor\":\"white\",\"gridwidth\":2,\"linecolor\":\"white\",\"showbackground\":true,\"ticks\":\"\",\"zerolinecolor\":\"white\"}},\"shapedefaults\":{\"line\":{\"color\":\"#2a3f5f\"}},\"ternary\":{\"aaxis\":{\"gridcolor\":\"white\",\"linecolor\":\"white\",\"ticks\":\"\"},\"baxis\":{\"gridcolor\":\"white\",\"linecolor\":\"white\",\"ticks\":\"\"},\"bgcolor\":\"#E5ECF6\",\"caxis\":{\"gridcolor\":\"white\",\"linecolor\":\"white\",\"ticks\":\"\"}},\"title\":{\"x\":0.05},\"xaxis\":{\"automargin\":true,\"gridcolor\":\"white\",\"linecolor\":\"white\",\"ticks\":\"\",\"title\":{\"standoff\":15},\"zerolinecolor\":\"white\",\"zerolinewidth\":2},\"yaxis\":{\"automargin\":true,\"gridcolor\":\"white\",\"linecolor\":\"white\",\"ticks\":\"\",\"title\":{\"standoff\":15},\"zerolinecolor\":\"white\",\"zerolinewidth\":2}}},\"xaxis\":{\"anchor\":\"y\",\"domain\":[0.0,1.0],\"title\":{\"text\":\"Actual\"}},\"yaxis\":{\"anchor\":\"x\",\"domain\":[0.0,1.0],\"title\":{\"text\":\"Predicted\"}},\"legend\":{\"tracegroupgap\":0},\"margin\":{\"t\":60}},                        {\"responsive\": true}                    ).then(function(){\n",
              "                            \n",
              "var gd = document.getElementById('d08a1732-8a3f-47f9-8ec9-7df6d88de2c4');\n",
              "var x = new MutationObserver(function (mutations, observer) {{\n",
              "        var display = window.getComputedStyle(gd).display;\n",
              "        if (!display || display === 'none') {{\n",
              "            console.log([gd, 'removed!']);\n",
              "            Plotly.purge(gd);\n",
              "            observer.disconnect();\n",
              "        }}\n",
              "}});\n",
              "\n",
              "// Listen for the removal of the full notebook cells\n",
              "var notebookContainer = gd.closest('#notebook-container');\n",
              "if (notebookContainer) {{\n",
              "    x.observe(notebookContainer, {childList: true});\n",
              "}}\n",
              "\n",
              "// Listen for the clearing of the current output cell\n",
              "var outputEl = gd.closest('.output');\n",
              "if (outputEl) {{\n",
              "    x.observe(outputEl, {childList: true});\n",
              "}}\n",
              "\n",
              "                        })                };                            </script>        </div>\n",
              "</body>\n",
              "</html>"
            ]
          },
          "metadata": {}
        }
      ]
    }
  ]
}